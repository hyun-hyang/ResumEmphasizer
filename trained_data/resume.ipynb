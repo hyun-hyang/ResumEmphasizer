{
  "nbformat": 4,
  "nbformat_minor": 0,
  "metadata": {
    "colab": {
      "name": "resume.ipynb",
      "provenance": [],
      "collapsed_sections": [],
      "machine_shape": "hm",
      "authorship_tag": "ABX9TyPGHCRvvRny4vLy6BdkXPkv",
      "include_colab_link": true
    },
    "kernelspec": {
      "name": "python3",
      "display_name": "Python 3"
    },
    "language_info": {
      "name": "python"
    },
    "accelerator": "GPU",
    "gpuClass": "standard"
  },
  "cells": [
    {
      "cell_type": "markdown",
      "metadata": {
        "id": "view-in-github",
        "colab_type": "text"
      },
      "source": [
        "<a href=\"https://colab.research.google.com/github/hyun-hyang/ResumEmphasizer/blob/main/resume.ipynb\" target=\"_parent\"><img src=\"https://colab.research.google.com/assets/colab-badge.svg\" alt=\"Open In Colab\"/></a>"
      ]
    },
    {
      "cell_type": "code",
      "execution_count": null,
      "metadata": {
        "colab": {
          "base_uri": "https://localhost:8080/"
        },
        "id": "fm3Zrriy2zAx",
        "outputId": "089cfd26-d9b5-4f15-c85b-85adf76fcae1"
      },
      "outputs": [
        {
          "output_type": "stream",
          "name": "stdout",
          "text": [
            "Looking in indexes: https://pypi.org/simple, https://us-python.pkg.dev/colab-wheels/public/simple/\n",
            "Collecting spacy_transformers\n",
            "  Downloading spacy_transformers-1.1.7-py2.py3-none-any.whl (53 kB)\n",
            "\u001b[K     |████████████████████████████████| 53 kB 2.1 MB/s \n",
            "\u001b[?25hRequirement already satisfied: spacy<4.0.0,>=3.1.3 in /usr/local/lib/python3.7/dist-packages (from spacy_transformers) (3.4.1)\n",
            "Requirement already satisfied: torch>=1.6.0 in /usr/local/lib/python3.7/dist-packages (from spacy_transformers) (1.12.0+cu113)\n",
            "Collecting spacy-alignments<1.0.0,>=0.7.2\n",
            "  Downloading spacy_alignments-0.8.5-cp37-cp37m-manylinux_2_17_x86_64.manylinux2014_x86_64.whl (1.1 MB)\n",
            "\u001b[K     |████████████████████████████████| 1.1 MB 55.7 MB/s \n",
            "\u001b[?25hCollecting transformers<4.21.0,>=3.4.0\n",
            "  Downloading transformers-4.20.1-py3-none-any.whl (4.4 MB)\n",
            "\u001b[K     |████████████████████████████████| 4.4 MB 57.1 MB/s \n",
            "\u001b[?25hRequirement already satisfied: srsly<3.0.0,>=2.4.0 in /usr/local/lib/python3.7/dist-packages (from spacy_transformers) (2.4.4)\n",
            "Requirement already satisfied: thinc<8.2.0,>=8.1.0 in /usr/local/lib/python3.7/dist-packages (from spacy<4.0.0,>=3.1.3->spacy_transformers) (8.1.0)\n",
            "Requirement already satisfied: langcodes<4.0.0,>=3.2.0 in /usr/local/lib/python3.7/dist-packages (from spacy<4.0.0,>=3.1.3->spacy_transformers) (3.3.0)\n",
            "Requirement already satisfied: typing-extensions<4.2.0,>=3.7.4 in /usr/local/lib/python3.7/dist-packages (from spacy<4.0.0,>=3.1.3->spacy_transformers) (4.1.1)\n",
            "Requirement already satisfied: jinja2 in /usr/local/lib/python3.7/dist-packages (from spacy<4.0.0,>=3.1.3->spacy_transformers) (2.11.3)\n",
            "Requirement already satisfied: spacy-legacy<3.1.0,>=3.0.9 in /usr/local/lib/python3.7/dist-packages (from spacy<4.0.0,>=3.1.3->spacy_transformers) (3.0.9)\n",
            "Requirement already satisfied: typer<0.5.0,>=0.3.0 in /usr/local/lib/python3.7/dist-packages (from spacy<4.0.0,>=3.1.3->spacy_transformers) (0.4.2)\n",
            "Requirement already satisfied: setuptools in /usr/local/lib/python3.7/dist-packages (from spacy<4.0.0,>=3.1.3->spacy_transformers) (57.4.0)\n",
            "Requirement already satisfied: spacy-loggers<2.0.0,>=1.0.0 in /usr/local/lib/python3.7/dist-packages (from spacy<4.0.0,>=3.1.3->spacy_transformers) (1.0.3)\n",
            "Requirement already satisfied: pathy>=0.3.5 in /usr/local/lib/python3.7/dist-packages (from spacy<4.0.0,>=3.1.3->spacy_transformers) (0.6.2)\n",
            "Requirement already satisfied: requests<3.0.0,>=2.13.0 in /usr/local/lib/python3.7/dist-packages (from spacy<4.0.0,>=3.1.3->spacy_transformers) (2.23.0)\n",
            "Requirement already satisfied: packaging>=20.0 in /usr/local/lib/python3.7/dist-packages (from spacy<4.0.0,>=3.1.3->spacy_transformers) (21.3)\n",
            "Requirement already satisfied: preshed<3.1.0,>=3.0.2 in /usr/local/lib/python3.7/dist-packages (from spacy<4.0.0,>=3.1.3->spacy_transformers) (3.0.6)\n",
            "Requirement already satisfied: cymem<2.1.0,>=2.0.2 in /usr/local/lib/python3.7/dist-packages (from spacy<4.0.0,>=3.1.3->spacy_transformers) (2.0.6)\n",
            "Requirement already satisfied: wasabi<1.1.0,>=0.9.1 in /usr/local/lib/python3.7/dist-packages (from spacy<4.0.0,>=3.1.3->spacy_transformers) (0.10.1)\n",
            "Requirement already satisfied: catalogue<2.1.0,>=2.0.6 in /usr/local/lib/python3.7/dist-packages (from spacy<4.0.0,>=3.1.3->spacy_transformers) (2.0.8)\n",
            "Requirement already satisfied: numpy>=1.15.0 in /usr/local/lib/python3.7/dist-packages (from spacy<4.0.0,>=3.1.3->spacy_transformers) (1.21.6)\n",
            "Requirement already satisfied: pydantic!=1.8,!=1.8.1,<1.10.0,>=1.7.4 in /usr/local/lib/python3.7/dist-packages (from spacy<4.0.0,>=3.1.3->spacy_transformers) (1.9.1)\n",
            "Requirement already satisfied: murmurhash<1.1.0,>=0.28.0 in /usr/local/lib/python3.7/dist-packages (from spacy<4.0.0,>=3.1.3->spacy_transformers) (1.0.7)\n",
            "Requirement already satisfied: tqdm<5.0.0,>=4.38.0 in /usr/local/lib/python3.7/dist-packages (from spacy<4.0.0,>=3.1.3->spacy_transformers) (4.64.0)\n",
            "Requirement already satisfied: zipp>=0.5 in /usr/local/lib/python3.7/dist-packages (from catalogue<2.1.0,>=2.0.6->spacy<4.0.0,>=3.1.3->spacy_transformers) (3.8.1)\n",
            "Requirement already satisfied: pyparsing!=3.0.5,>=2.0.2 in /usr/local/lib/python3.7/dist-packages (from packaging>=20.0->spacy<4.0.0,>=3.1.3->spacy_transformers) (3.0.9)\n",
            "Requirement already satisfied: smart-open<6.0.0,>=5.2.1 in /usr/local/lib/python3.7/dist-packages (from pathy>=0.3.5->spacy<4.0.0,>=3.1.3->spacy_transformers) (5.2.1)\n",
            "Requirement already satisfied: chardet<4,>=3.0.2 in /usr/local/lib/python3.7/dist-packages (from requests<3.0.0,>=2.13.0->spacy<4.0.0,>=3.1.3->spacy_transformers) (3.0.4)\n",
            "Requirement already satisfied: idna<3,>=2.5 in /usr/local/lib/python3.7/dist-packages (from requests<3.0.0,>=2.13.0->spacy<4.0.0,>=3.1.3->spacy_transformers) (2.10)\n",
            "Requirement already satisfied: certifi>=2017.4.17 in /usr/local/lib/python3.7/dist-packages (from requests<3.0.0,>=2.13.0->spacy<4.0.0,>=3.1.3->spacy_transformers) (2022.6.15)\n",
            "Requirement already satisfied: urllib3!=1.25.0,!=1.25.1,<1.26,>=1.21.1 in /usr/local/lib/python3.7/dist-packages (from requests<3.0.0,>=2.13.0->spacy<4.0.0,>=3.1.3->spacy_transformers) (1.24.3)\n",
            "Requirement already satisfied: blis<0.8.0,>=0.7.8 in /usr/local/lib/python3.7/dist-packages (from thinc<8.2.0,>=8.1.0->spacy<4.0.0,>=3.1.3->spacy_transformers) (0.7.8)\n",
            "Requirement already satisfied: filelock in /usr/local/lib/python3.7/dist-packages (from transformers<4.21.0,>=3.4.0->spacy_transformers) (3.7.1)\n",
            "Requirement already satisfied: regex!=2019.12.17 in /usr/local/lib/python3.7/dist-packages (from transformers<4.21.0,>=3.4.0->spacy_transformers) (2022.6.2)\n",
            "Collecting huggingface-hub<1.0,>=0.1.0\n",
            "  Downloading huggingface_hub-0.8.1-py3-none-any.whl (101 kB)\n",
            "\u001b[K     |████████████████████████████████| 101 kB 8.8 MB/s \n",
            "\u001b[?25hRequirement already satisfied: importlib-metadata in /usr/local/lib/python3.7/dist-packages (from transformers<4.21.0,>=3.4.0->spacy_transformers) (4.12.0)\n",
            "Collecting tokenizers!=0.11.3,<0.13,>=0.11.1\n",
            "  Downloading tokenizers-0.12.1-cp37-cp37m-manylinux_2_12_x86_64.manylinux2010_x86_64.whl (6.6 MB)\n",
            "\u001b[K     |████████████████████████████████| 6.6 MB 54.5 MB/s \n",
            "\u001b[?25hCollecting pyyaml>=5.1\n",
            "  Downloading PyYAML-6.0-cp37-cp37m-manylinux_2_5_x86_64.manylinux1_x86_64.manylinux_2_12_x86_64.manylinux2010_x86_64.whl (596 kB)\n",
            "\u001b[K     |████████████████████████████████| 596 kB 60.2 MB/s \n",
            "\u001b[?25hRequirement already satisfied: click<9.0.0,>=7.1.1 in /usr/local/lib/python3.7/dist-packages (from typer<0.5.0,>=0.3.0->spacy<4.0.0,>=3.1.3->spacy_transformers) (7.1.2)\n",
            "Requirement already satisfied: MarkupSafe>=0.23 in /usr/local/lib/python3.7/dist-packages (from jinja2->spacy<4.0.0,>=3.1.3->spacy_transformers) (2.0.1)\n",
            "Installing collected packages: pyyaml, tokenizers, huggingface-hub, transformers, spacy-alignments, spacy-transformers\n",
            "  Attempting uninstall: pyyaml\n",
            "    Found existing installation: PyYAML 3.13\n",
            "    Uninstalling PyYAML-3.13:\n",
            "      Successfully uninstalled PyYAML-3.13\n",
            "Successfully installed huggingface-hub-0.8.1 pyyaml-6.0 spacy-alignments-0.8.5 spacy-transformers-1.1.7 tokenizers-0.12.1 transformers-4.20.1\n",
            "Looking in indexes: https://pypi.org/simple, https://us-python.pkg.dev/colab-wheels/public/simple/\n",
            "Requirement already satisfied: spacy in /usr/local/lib/python3.7/dist-packages (3.4.1)\n",
            "Requirement already satisfied: cymem<2.1.0,>=2.0.2 in /usr/local/lib/python3.7/dist-packages (from spacy) (2.0.6)\n",
            "Requirement already satisfied: packaging>=20.0 in /usr/local/lib/python3.7/dist-packages (from spacy) (21.3)\n",
            "Requirement already satisfied: langcodes<4.0.0,>=3.2.0 in /usr/local/lib/python3.7/dist-packages (from spacy) (3.3.0)\n",
            "Requirement already satisfied: spacy-loggers<2.0.0,>=1.0.0 in /usr/local/lib/python3.7/dist-packages (from spacy) (1.0.3)\n",
            "Requirement already satisfied: jinja2 in /usr/local/lib/python3.7/dist-packages (from spacy) (2.11.3)\n",
            "Requirement already satisfied: preshed<3.1.0,>=3.0.2 in /usr/local/lib/python3.7/dist-packages (from spacy) (3.0.6)\n",
            "Requirement already satisfied: spacy-legacy<3.1.0,>=3.0.9 in /usr/local/lib/python3.7/dist-packages (from spacy) (3.0.9)\n",
            "Requirement already satisfied: numpy>=1.15.0 in /usr/local/lib/python3.7/dist-packages (from spacy) (1.21.6)\n",
            "Requirement already satisfied: requests<3.0.0,>=2.13.0 in /usr/local/lib/python3.7/dist-packages (from spacy) (2.23.0)\n",
            "Requirement already satisfied: thinc<8.2.0,>=8.1.0 in /usr/local/lib/python3.7/dist-packages (from spacy) (8.1.0)\n",
            "Requirement already satisfied: pathy>=0.3.5 in /usr/local/lib/python3.7/dist-packages (from spacy) (0.6.2)\n",
            "Requirement already satisfied: setuptools in /usr/local/lib/python3.7/dist-packages (from spacy) (57.4.0)\n",
            "Requirement already satisfied: murmurhash<1.1.0,>=0.28.0 in /usr/local/lib/python3.7/dist-packages (from spacy) (1.0.7)\n",
            "Requirement already satisfied: tqdm<5.0.0,>=4.38.0 in /usr/local/lib/python3.7/dist-packages (from spacy) (4.64.0)\n",
            "Requirement already satisfied: pydantic!=1.8,!=1.8.1,<1.10.0,>=1.7.4 in /usr/local/lib/python3.7/dist-packages (from spacy) (1.9.1)\n",
            "Requirement already satisfied: typing-extensions<4.2.0,>=3.7.4 in /usr/local/lib/python3.7/dist-packages (from spacy) (4.1.1)\n",
            "Requirement already satisfied: srsly<3.0.0,>=2.4.3 in /usr/local/lib/python3.7/dist-packages (from spacy) (2.4.4)\n",
            "Requirement already satisfied: typer<0.5.0,>=0.3.0 in /usr/local/lib/python3.7/dist-packages (from spacy) (0.4.2)\n",
            "Requirement already satisfied: wasabi<1.1.0,>=0.9.1 in /usr/local/lib/python3.7/dist-packages (from spacy) (0.10.1)\n",
            "Requirement already satisfied: catalogue<2.1.0,>=2.0.6 in /usr/local/lib/python3.7/dist-packages (from spacy) (2.0.8)\n",
            "Requirement already satisfied: zipp>=0.5 in /usr/local/lib/python3.7/dist-packages (from catalogue<2.1.0,>=2.0.6->spacy) (3.8.1)\n",
            "Requirement already satisfied: pyparsing!=3.0.5,>=2.0.2 in /usr/local/lib/python3.7/dist-packages (from packaging>=20.0->spacy) (3.0.9)\n",
            "Requirement already satisfied: smart-open<6.0.0,>=5.2.1 in /usr/local/lib/python3.7/dist-packages (from pathy>=0.3.5->spacy) (5.2.1)\n",
            "Requirement already satisfied: urllib3!=1.25.0,!=1.25.1,<1.26,>=1.21.1 in /usr/local/lib/python3.7/dist-packages (from requests<3.0.0,>=2.13.0->spacy) (1.24.3)\n",
            "Requirement already satisfied: chardet<4,>=3.0.2 in /usr/local/lib/python3.7/dist-packages (from requests<3.0.0,>=2.13.0->spacy) (3.0.4)\n",
            "Requirement already satisfied: idna<3,>=2.5 in /usr/local/lib/python3.7/dist-packages (from requests<3.0.0,>=2.13.0->spacy) (2.10)\n",
            "Requirement already satisfied: certifi>=2017.4.17 in /usr/local/lib/python3.7/dist-packages (from requests<3.0.0,>=2.13.0->spacy) (2022.6.15)\n",
            "Requirement already satisfied: blis<0.8.0,>=0.7.8 in /usr/local/lib/python3.7/dist-packages (from thinc<8.2.0,>=8.1.0->spacy) (0.7.8)\n",
            "Requirement already satisfied: click<9.0.0,>=7.1.1 in /usr/local/lib/python3.7/dist-packages (from typer<0.5.0,>=0.3.0->spacy) (7.1.2)\n",
            "Requirement already satisfied: MarkupSafe>=0.23 in /usr/local/lib/python3.7/dist-packages (from jinja2->spacy) (2.0.1)\n"
          ]
        }
      ],
      "source": [
        "!pip install spacy_transformers\n",
        "!pip install -U spacy"
      ]
    },
    {
      "cell_type": "code",
      "source": [
        "import spacy\n",
        "from spacy.tokens import DocBin\n",
        "import json"
      ],
      "metadata": {
        "id": "_Rxovx-h4prM"
      },
      "execution_count": null,
      "outputs": []
    },
    {
      "cell_type": "code",
      "source": [
        "spacy.__version__"
      ],
      "metadata": {
        "id": "M8A-iyfX43Zm",
        "colab": {
          "base_uri": "https://localhost:8080/",
          "height": 35
        },
        "outputId": "c2b881e9-38b2-4590-8524-a1f6561195cb"
      },
      "execution_count": null,
      "outputs": [
        {
          "output_type": "execute_result",
          "data": {
            "text/plain": [
              "'3.4.1'"
            ],
            "application/vnd.google.colaboratory.intrinsic+json": {
              "type": "string"
            }
          },
          "metadata": {},
          "execution_count": 3
        }
      ]
    },
    {
      "cell_type": "code",
      "source": [
        "!nvidia-smi"
      ],
      "metadata": {
        "id": "01t87qHD4-rc",
        "colab": {
          "base_uri": "https://localhost:8080/"
        },
        "outputId": "f7b965a3-383e-42db-d743-64cc3d6719c5"
      },
      "execution_count": null,
      "outputs": [
        {
          "output_type": "stream",
          "name": "stdout",
          "text": [
            "Wed Aug 10 14:58:01 2022       \n",
            "+-----------------------------------------------------------------------------+\n",
            "| NVIDIA-SMI 460.32.03    Driver Version: 460.32.03    CUDA Version: 11.2     |\n",
            "|-------------------------------+----------------------+----------------------+\n",
            "| GPU  Name        Persistence-M| Bus-Id        Disp.A | Volatile Uncorr. ECC |\n",
            "| Fan  Temp  Perf  Pwr:Usage/Cap|         Memory-Usage | GPU-Util  Compute M. |\n",
            "|                               |                      |               MIG M. |\n",
            "|===============================+======================+======================|\n",
            "|   0  Tesla T4            Off  | 00000000:00:04.0 Off |                    0 |\n",
            "| N/A   48C    P0    27W /  70W |    312MiB / 15109MiB |      0%      Default |\n",
            "|                               |                      |                  N/A |\n",
            "+-------------------------------+----------------------+----------------------+\n",
            "                                                                               \n",
            "+-----------------------------------------------------------------------------+\n",
            "| Processes:                                                                  |\n",
            "|  GPU   GI   CI        PID   Type   Process name                  GPU Memory |\n",
            "|        ID   ID                                                   Usage      |\n",
            "|=============================================================================|\n",
            "+-----------------------------------------------------------------------------+\n"
          ]
        }
      ]
    },
    {
      "cell_type": "code",
      "source": [
        "!git clone 'https://github.com/hyun-hyang/ResumEmphasizer.git'"
      ],
      "metadata": {
        "colab": {
          "base_uri": "https://localhost:8080/"
        },
        "id": "JeTsvF32Ew2p",
        "outputId": "672549fd-a9fc-49e8-ed9d-3084570d2ecf"
      },
      "execution_count": null,
      "outputs": [
        {
          "output_type": "stream",
          "name": "stdout",
          "text": [
            "Cloning into 'ResumEmphasizer'...\n",
            "remote: Enumerating objects: 7491, done.\u001b[K\n",
            "remote: Counting objects: 100% (123/123), done.\u001b[K\n",
            "remote: Compressing objects: 100% (88/88), done.\u001b[K\n",
            "remote: Total 7491 (delta 35), reused 121 (delta 35), pack-reused 7368\u001b[K\n",
            "Receiving objects: 100% (7491/7491), 38.16 MiB | 13.35 MiB/s, done.\n",
            "Resolving deltas: 100% (805/805), done.\n"
          ]
        }
      ]
    },
    {
      "cell_type": "code",
      "source": [
        "%cd /content/ResumEmphasizer\n",
        "!git pull"
      ],
      "metadata": {
        "id": "Z5Hlfzs15EDO",
        "colab": {
          "base_uri": "https://localhost:8080/"
        },
        "outputId": "4934dcaf-4a50-48bd-a07e-3195660dff12"
      },
      "execution_count": null,
      "outputs": [
        {
          "output_type": "stream",
          "name": "stdout",
          "text": [
            "/content/ResumEmphasizer\n",
            "Already up to date.\n"
          ]
        }
      ]
    },
    {
      "cell_type": "code",
      "source": [
        "cv_data = json.load(open('/content/ResumEmphasizer/Data_annoctated/merged res.json','r'))"
      ],
      "metadata": {
        "id": "4LJwsj2cwXx1"
      },
      "execution_count": null,
      "outputs": []
    },
    {
      "cell_type": "code",
      "source": [
        "len(cv_data)"
      ],
      "metadata": {
        "id": "CA9XZtYDwviz",
        "colab": {
          "base_uri": "https://localhost:8080/"
        },
        "outputId": "cef8a66c-a119-44ab-f980-36a48473f60e"
      },
      "execution_count": null,
      "outputs": [
        {
          "output_type": "execute_result",
          "data": {
            "text/plain": [
              "99"
            ]
          },
          "metadata": {},
          "execution_count": 8
        }
      ]
    },
    {
      "cell_type": "code",
      "source": [
        "!python -m spacy init fill-config /content/ResumEmphasizer/Data/base_config.cfg /content/ResumEmphasizer/config.cfg"
      ],
      "metadata": {
        "id": "Ih2FQqgqw1yp",
        "colab": {
          "base_uri": "https://localhost:8080/"
        },
        "outputId": "7e07a9ae-3ab8-4d06-922b-ae7015150d07"
      },
      "execution_count": null,
      "outputs": [
        {
          "output_type": "stream",
          "name": "stdout",
          "text": [
            "\u001b[38;5;2m✔ Auto-filled config with all values\u001b[0m\n",
            "\u001b[38;5;2m✔ Saved config\u001b[0m\n",
            "/content/ResumEmphasizer/config.cfg\n",
            "You can now add your data and train your pipeline:\n",
            "python -m spacy train config.cfg --paths.train ./train.spacy --paths.dev ./dev.spacy\n"
          ]
        }
      ]
    },
    {
      "cell_type": "code",
      "source": [
        "cv_data[0]"
      ],
      "metadata": {
        "id": "M-ch0K2ryFOM",
        "colab": {
          "base_uri": "https://localhost:8080/"
        },
        "outputId": "3cd358d6-16db-477c-86f3-c4b4bac896b3"
      },
      "execution_count": 27,
      "outputs": [
        {
          "output_type": "execute_result",
          "data": {
            "text/plain": [
              "{'id': 297,\n",
              " 'label': [[0, 13, 'ability'],\n",
              "  [623, 655, 'work experience'],\n",
              "  [671, 724, 'work experience'],\n",
              "  [1202, 1249, 'work experience'],\n",
              "  [1274, 1349, 'work experience'],\n",
              "  [1399, 1437, 'work experience'],\n",
              "  [1600, 1655, 'award'],\n",
              "  [1686, 1712, 'major'],\n",
              "  [1713, 1716, 'degree'],\n",
              "  [1725, 1757, 'college'],\n",
              "  [1900, 1921, 'education'],\n",
              "  [2020, 2026, 'skill'],\n",
              "  [2027, 2034, 'skill'],\n",
              "  [2035, 2041, 'skill'],\n",
              "  [2058, 2074, 'skill'],\n",
              "  [2075, 2095, 'skill'],\n",
              "  [2097, 2100, 'skill'],\n",
              "  [2101, 2106, 'skill'],\n",
              "  [2108, 2112, 'skill'],\n",
              "  [2113, 2123, 'skill'],\n",
              "  [2125, 2129, 'skill'],\n",
              "  [2130, 2133, 'skill'],\n",
              "  [2135, 2138, 'skill'],\n",
              "  [2165, 2182, 'ability'],\n",
              "  [2183, 2198, 'ability'],\n",
              "  [2199, 2215, 'ability'],\n",
              "  [2216, 2229, 'ability'],\n",
              "  [2336, 2363, 'skill'],\n",
              "  [2402, 2420, 'skill'],\n",
              "  [2456, 2477, 'skill']],\n",
              " 'text': 'Web Developer Resume Template (Full Text Version)\\nOlivier Baudet\\nAddress: 44 place de Miremont, 77170, Paris, France\\nEmail address: olivierbaudet@gmail.com\\nPhone number: 01.32.70.82889\\nWeb: www.olivierbaudet.com\\nProfile\\nCreative web developer dedicated to developing and optimizing interactive, user-friendly, and feature-rich websites. Leverage analytical skills and strong attention to detail in order to deliver original and efficient web solutions, provide technical knowledge and expertise, build new websites from start to finish, and successfully manage a team of web developers.\\n\\nWork experience\\n09/2017 - 01/2019, Web Developer, IDOX Software Ltd, Paris, France\\nDeveloped and structured feature-rich client websites, ensuring that all needs were met and company policies and procedures followed; created high-quality code.\\nCollaborated with project managers and creative teams to deliver original, efficient solutions; advised clients and provided expertise.\\nManaged a team of 7 freelance web developers and designers; trained and educated other web developers; measured the performance of the team.\\nConducted market research and analysis and reported findings to managers.\\n07/2014 - 09/2017, Web Developer - PHP / MySQL, Stewart Travel Ltd, London, United Kingdom\\nCollaborated with the team to design, structure, and implement new websites from start to finish; updated existing websites.\\nDeveloped a user-friendly architecture; provided support and customer service; trained and educated staff.\\nParticipated in weekly meetings with executives, supported brainstorming and idea generation.\\nAwarded Employee of the Month for performing great work.\\nEducation\\n09/2010 - 05/2014, Web Design and Development Bsc (Hons), University of Central Lancashire, Lancashire, United Kingdom\\nFirst Class Honours\\n\\nClubs and Societies: Entrepreneurship Society, Football Club, Tennis Club\\n\\n09/2008 - 05/2010, IB Diploma Programme, International School of Paris, Paris, France\\nGraduated with Distinction\\n\\nSkills\\nLanguages Skills\\nFrench\\nEnglish\\nGerman\\nComputer Skills\\nMicrosoft Office\\nAdobe Dreamweaver CC, PHP\\nMySQL, HTML\\nJavaScript, Java\\nC++, CSS\\nInterpersonal/Life Skills\\nAnalytical Skills\\nDetail-oriented\\nGood Team Player\\nMulti-tasking\\nVolunteering\\n03/2010 - 05/2015, Fund Allocator, The Paris Foundation, Paris, France\\nCertificates\\n10/2017, Zend Certified PHP Engineer, Zend Certification Programs\\n08/2017, ACE Web Specialist, Distance Learning Centre\\n05/2016, Mobile Web Specialist, Google Developers Certification\\nHobbies\\nExploring distant lands\\nCapturing moments\\nEvery kind of sport'}"
            ]
          },
          "metadata": {},
          "execution_count": 27
        }
      ]
    },
    {
      "cell_type": "code",
      "source": [
        "def get_spacy_doc(file, data):\n",
        "  nlp=spacy.blank('en')\n",
        "  db=DocBin()\n",
        "\n",
        "  for item in data:\n",
        "    text = item['text']\n",
        "    doc=nlp.make_doc(text)\n",
        "    annot=item['label']\n",
        "\n",
        "    \n",
        "    ents=[]\n",
        "    entity_indices=[]\n",
        "\n",
        "    for start, end, label in annot:\n",
        "      skip_entity=False\n",
        "      for idx in range(start, end):\n",
        "        if idx in entity_indices:\n",
        "          skip_entity=True\n",
        "          break\n",
        "      if skip_entity==True:\n",
        "         continue\n",
        "        \n",
        "      entity_indices = entity_indices + list(range(start, end))\n",
        "\n",
        "      try:\n",
        "        span=doc.char_span(start,end,label=label,alignment_mode='contract')\n",
        "      except:\n",
        "        continue\n",
        "        \n",
        "      if span is None:\n",
        "        err_data=str([start,end]) + \"     \" + str(text) + \"\\n\"\n",
        "        file.write(err_data)\n",
        "        \n",
        "      else:\n",
        "        ents.append(span)\n",
        "\n",
        "    try:\n",
        "        doc.ents=ents\n",
        "        db.add(doc)\n",
        "    except:\n",
        "      pass\n",
        "\n",
        "\n",
        "  return db"
      ],
      "metadata": {
        "id": "182ND8mty7Nj"
      },
      "execution_count": null,
      "outputs": []
    },
    {
      "cell_type": "code",
      "source": [
        "from sklearn.model_selection import train_test_split\n",
        "train, test=train_test_split(cv_data,test_size=0.3)"
      ],
      "metadata": {
        "id": "75JeX28i_L8I"
      },
      "execution_count": null,
      "outputs": []
    },
    {
      "cell_type": "code",
      "source": [
        "len(train), len(test)"
      ],
      "metadata": {
        "id": "zzVr0CgrA7ra",
        "colab": {
          "base_uri": "https://localhost:8080/"
        },
        "outputId": "abd548d9-aa4e-4b85-b0b6-01d34a7dccee"
      },
      "execution_count": null,
      "outputs": [
        {
          "output_type": "execute_result",
          "data": {
            "text/plain": [
              "(69, 30)"
            ]
          },
          "metadata": {},
          "execution_count": 13
        }
      ]
    },
    {
      "cell_type": "code",
      "source": [
        "file=open('error.txt','w')\n",
        "\n",
        "db=get_spacy_doc(file, train)\n",
        "db.to_disk('train_data.spacy')\n",
        "\n",
        "db=get_spacy_doc(file, test)\n",
        "db.to_disk('test_data.spacy')\n",
        "\n",
        "file.close()"
      ],
      "metadata": {
        "id": "Nn_qnprRA_WH"
      },
      "execution_count": null,
      "outputs": []
    },
    {
      "cell_type": "code",
      "source": [
        "len(db.tokens)"
      ],
      "metadata": {
        "id": "rtSb0L5HBDM4",
        "colab": {
          "base_uri": "https://localhost:8080/"
        },
        "outputId": "ca52d1fe-a1d2-4d61-8166-39a1c38fd1bd"
      },
      "execution_count": null,
      "outputs": [
        {
          "output_type": "execute_result",
          "data": {
            "text/plain": [
              "30"
            ]
          },
          "metadata": {},
          "execution_count": 15
        }
      ]
    },
    {
      "cell_type": "code",
      "source": [
        "!python -m spacy train /content/ResumEmphasizer/config.cfg --output ./output --paths.train ./train_data.spacy --paths.dev ./test_data.spacy --gpu-id 0"
      ],
      "metadata": {
        "id": "j9ucYGtEIcnx",
        "colab": {
          "base_uri": "https://localhost:8080/"
        },
        "outputId": "fe86ef4c-569c-4996-d101-7a8d41d9d552"
      },
      "execution_count": null,
      "outputs": [
        {
          "output_type": "stream",
          "name": "stdout",
          "text": [
            "\u001b[38;5;2m✔ Created output directory: output\u001b[0m\n",
            "\u001b[38;5;4mℹ Saving to output directory: output\u001b[0m\n",
            "\u001b[38;5;4mℹ Using GPU: 0\u001b[0m\n",
            "\u001b[1m\n",
            "=========================== Initializing pipeline ===========================\u001b[0m\n",
            "[2022-08-10 14:59:11,002] [INFO] Set up nlp object from config\n",
            "[2022-08-10 14:59:11,013] [INFO] Pipeline: ['transformer', 'ner']\n",
            "[2022-08-10 14:59:11,017] [INFO] Created vocabulary\n",
            "[2022-08-10 14:59:11,018] [INFO] Finished initializing nlp object\n",
            "Downloading: 100% 481/481 [00:00<00:00, 486kB/s]\n",
            "Downloading: 100% 878k/878k [00:01<00:00, 655kB/s]\n",
            "Downloading: 100% 446k/446k [00:01<00:00, 414kB/s]\n",
            "Downloading: 100% 1.29M/1.29M [00:01<00:00, 982kB/s]\n",
            "Downloading: 100% 478M/478M [00:06<00:00, 77.1MB/s]\n",
            "Some weights of the model checkpoint at roberta-base were not used when initializing RobertaModel: ['lm_head.layer_norm.bias', 'lm_head.decoder.weight', 'lm_head.layer_norm.weight', 'lm_head.dense.weight', 'lm_head.bias', 'lm_head.dense.bias']\n",
            "- This IS expected if you are initializing RobertaModel from the checkpoint of a model trained on another task or with another architecture (e.g. initializing a BertForSequenceClassification model from a BertForPreTraining model).\n",
            "- This IS NOT expected if you are initializing RobertaModel from the checkpoint of a model that you expect to be exactly identical (initializing a BertForSequenceClassification model from a BertForSequenceClassification model).\n",
            "[2022-08-10 14:59:48,747] [INFO] Initialized pipeline components: ['transformer', 'ner']\n",
            "\u001b[38;5;2m✔ Initialized pipeline\u001b[0m\n",
            "\u001b[1m\n",
            "============================= Training pipeline =============================\u001b[0m\n",
            "\u001b[38;5;4mℹ Pipeline: ['transformer', 'ner']\u001b[0m\n",
            "\u001b[38;5;4mℹ Initial learn rate: 0.0\u001b[0m\n",
            "E    #       LOSS TRANS...  LOSS NER  ENTS_F  ENTS_P  ENTS_R  SCORE \n",
            "---  ------  -------------  --------  ------  ------  ------  ------\n",
            "  0       0       85110.86   1286.53    0.00    0.00    0.00    0.00\n",
            "  8     200     2378094.16  114906.59   38.95   41.08   37.03    0.39\n",
            " 16     400      146751.16  61404.81   41.40   38.94   44.19    0.41\n",
            " 24     600       74212.85  50472.96   48.99   40.53   61.93    0.49\n",
            " 32     800       33362.32  44836.03   47.47   38.73   61.31    0.47\n",
            " 40    1000       11214.02  39619.26   49.89   44.51   56.74    0.50\n",
            " 48    1200       23498.21  37892.31   49.53   42.14   60.06    0.50\n",
            " 56    1400       23167.25  37013.91   49.48   42.38   59.44    0.49\n",
            " 64    1600        2990.90  36327.45   48.20   40.73   59.02    0.48\n",
            " 72    1800        1820.65  35828.59   50.63   44.87   58.09    0.51\n",
            " 80    2000        2164.80  35628.70   49.58   44.74   55.60    0.50\n",
            "\u001b[38;5;2m✔ Saved pipeline to output directory\u001b[0m\n",
            "output/model-last\n"
          ]
        }
      ]
    },
    {
      "cell_type": "markdown",
      "source": [
        "Model Test"
      ],
      "metadata": {
        "id": "ShC---wXkRVg"
      }
    },
    {
      "cell_type": "code",
      "source": [
        "nlp = spacy.load('/content/ResumEmphasizer/output/model-best')\n"
      ],
      "metadata": {
        "id": "21GMhq85KEdq"
      },
      "execution_count": null,
      "outputs": []
    },
    {
      "cell_type": "code",
      "source": [
        "from google.colab import drive\n",
        "drive.mount('/content/drive')"
      ],
      "metadata": {
        "id": "IDZ5VNXLDbFD",
        "colab": {
          "base_uri": "https://localhost:8080/"
        },
        "outputId": "7f55c040-30cb-4612-c4c6-0a9c59f110cc"
      },
      "execution_count": null,
      "outputs": [
        {
          "output_type": "stream",
          "name": "stdout",
          "text": [
            "Drive already mounted at /content/drive; to attempt to forcibly remount, call drive.mount(\"/content/drive\", force_remount=True).\n"
          ]
        }
      ]
    },
    {
      "cell_type": "code",
      "source": [
        "!zip -r /content/ResumEmphasizer/best.zip /content/ResumEmphasizer/output/model-best/\n"
      ],
      "metadata": {
        "id": "8PB19dZYDbTQ",
        "colab": {
          "base_uri": "https://localhost:8080/"
        },
        "outputId": "91ada073-a1f4-4d07-e4b6-b1406cfb81ca"
      },
      "execution_count": null,
      "outputs": [
        {
          "output_type": "stream",
          "name": "stdout",
          "text": [
            "updating: content/ResumEmphasizer/output/model-best/ (stored 0%)\n",
            "updating: content/ResumEmphasizer/output/model-best/ner/ (stored 0%)\n",
            "updating: content/ResumEmphasizer/output/model-best/ner/moves (deflated 71%)\n",
            "updating: content/ResumEmphasizer/output/model-best/ner/model (deflated 8%)\n",
            "updating: content/ResumEmphasizer/output/model-best/ner/cfg (deflated 33%)\n",
            "updating: content/ResumEmphasizer/output/model-best/tokenizer (deflated 81%)\n",
            "updating: content/ResumEmphasizer/output/model-best/config.cfg (deflated 61%)\n",
            "updating: content/ResumEmphasizer/output/model-best/transformer/ (stored 0%)\n",
            "updating: content/ResumEmphasizer/output/model-best/transformer/model (deflated 14%)\n",
            "updating: content/ResumEmphasizer/output/model-best/transformer/cfg (stored 0%)\n",
            "updating: content/ResumEmphasizer/output/model-best/vocab/ (stored 0%)\n",
            "updating: content/ResumEmphasizer/output/model-best/vocab/strings.json (deflated 72%)\n",
            "updating: content/ResumEmphasizer/output/model-best/vocab/vectors.cfg (stored 0%)\n",
            "updating: content/ResumEmphasizer/output/model-best/vocab/vectors (deflated 45%)\n",
            "updating: content/ResumEmphasizer/output/model-best/vocab/key2row (stored 0%)\n",
            "updating: content/ResumEmphasizer/output/model-best/vocab/lookups.bin (stored 0%)\n",
            "updating: content/ResumEmphasizer/output/model-best/meta.json (deflated 66%)\n"
          ]
        }
      ]
    },
    {
      "cell_type": "code",
      "source": [
        "from google.colab import files\n",
        "files.download(\"/content/ResumEmphasizer/best.zip\")"
      ],
      "metadata": {
        "id": "_-yF4Ir3g11n",
        "outputId": "b907f924-659f-4a62-ccf3-72e8f54e7e45",
        "colab": {
          "base_uri": "https://localhost:8080/",
          "height": 34
        }
      },
      "execution_count": null,
      "outputs": [
        {
          "output_type": "display_data",
          "data": {
            "text/plain": [
              "<IPython.core.display.Javascript object>"
            ],
            "application/javascript": [
              "\n",
              "    async function download(id, filename, size) {\n",
              "      if (!google.colab.kernel.accessAllowed) {\n",
              "        return;\n",
              "      }\n",
              "      const div = document.createElement('div');\n",
              "      const label = document.createElement('label');\n",
              "      label.textContent = `Downloading \"${filename}\": `;\n",
              "      div.appendChild(label);\n",
              "      const progress = document.createElement('progress');\n",
              "      progress.max = size;\n",
              "      div.appendChild(progress);\n",
              "      document.body.appendChild(div);\n",
              "\n",
              "      const buffers = [];\n",
              "      let downloaded = 0;\n",
              "\n",
              "      const channel = await google.colab.kernel.comms.open(id);\n",
              "      // Send a message to notify the kernel that we're ready.\n",
              "      channel.send({})\n",
              "\n",
              "      for await (const message of channel.messages) {\n",
              "        // Send a message to notify the kernel that we're ready.\n",
              "        channel.send({})\n",
              "        if (message.buffers) {\n",
              "          for (const buffer of message.buffers) {\n",
              "            buffers.push(buffer);\n",
              "            downloaded += buffer.byteLength;\n",
              "            progress.value = downloaded;\n",
              "          }\n",
              "        }\n",
              "      }\n",
              "      const blob = new Blob(buffers, {type: 'application/binary'});\n",
              "      const a = document.createElement('a');\n",
              "      a.href = window.URL.createObjectURL(blob);\n",
              "      a.download = filename;\n",
              "      div.appendChild(a);\n",
              "      a.click();\n",
              "      div.remove();\n",
              "    }\n",
              "  "
            ]
          },
          "metadata": {}
        },
        {
          "output_type": "display_data",
          "data": {
            "text/plain": [
              "<IPython.core.display.Javascript object>"
            ],
            "application/javascript": [
              "download(\"download_6cea6243-0d42-4120-9753-815a402e5cb7\", \"best.zip\", 433293582)"
            ]
          },
          "metadata": {}
        }
      ]
    },
    {
      "cell_type": "code",
      "source": [
        "!pip install PyMuPDF"
      ],
      "metadata": {
        "id": "OG26fOTkvq-S",
        "colab": {
          "base_uri": "https://localhost:8080/"
        },
        "outputId": "24295417-bffc-4d4c-d395-2ed39ec8d33c"
      },
      "execution_count": null,
      "outputs": [
        {
          "output_type": "stream",
          "name": "stdout",
          "text": [
            "Looking in indexes: https://pypi.org/simple, https://us-python.pkg.dev/colab-wheels/public/simple/\n",
            "Collecting PyMuPDF\n",
            "  Downloading PyMuPDF-1.20.1-cp37-cp37m-manylinux_2_17_x86_64.manylinux2014_x86_64.whl (8.8 MB)\n",
            "\u001b[K     |████████████████████████████████| 8.8 MB 3.0 MB/s \n",
            "\u001b[?25hInstalling collected packages: PyMuPDF\n",
            "Successfully installed PyMuPDF-1.20.1\n"
          ]
        }
      ]
    },
    {
      "cell_type": "code",
      "source": [
        "import sys, fitz"
      ],
      "metadata": {
        "id": "iASYfGmdvrT1"
      },
      "execution_count": null,
      "outputs": []
    },
    {
      "cell_type": "code",
      "source": [
        "for x in range(1,11):\n",
        "  fname='/content/ResumEmphasizer/test_cv/'+str(x)+'.pdf'\n",
        "  doc=fitz.open(fname)\n",
        "  print('resume num '+str(x)+' test')\n",
        "  text=\" \"\n",
        "  for page in doc:\n",
        "    text=text+str(page.get_text())\n",
        "  text=text.strip()\n",
        "  text=' '.join(text.split())\n",
        "  \n",
        "  doc=nlp(text)\n",
        "  for ent in doc.ents:\n",
        "    print(ent.text, \" ->>>>>> \", ent.label_)\n",
        "  print('\\n')"
      ],
      "metadata": {
        "id": "aMOXGyS5UoYR",
        "colab": {
          "base_uri": "https://localhost:8080/"
        },
        "outputId": "44e54d45-7341-4c13-d754-117de5d357ba"
      },
      "execution_count": null,
      "outputs": [
        {
          "output_type": "stream",
          "name": "stdout",
          "text": [
            "resume num 1 test\n",
            "\n",
            "\n",
            "resume num 2 test\n",
            "• 1 year and 3 months experience in web application development using  ->>>>>>  work experience\n",
            "Java  ->>>>>>  skill\n",
            "J2EE  ->>>>>>  skill\n",
            "• Expertise in  ->>>>>>  work experience\n",
            "JSP  ->>>>>>  skill\n",
            "• Working experience  ->>>>>>  work experience\n",
            "• Good experience  ->>>>>>  work experience\n",
            "• Expertise in  ->>>>>>  work experience\n",
            "HTML  ->>>>>>  skill\n",
            "Javascript  ->>>>>>  skill\n",
            "• Good Knowledge  ->>>>>>  work experience\n",
            "• Aware of  ->>>>>>  work experience\n",
            "• Hands on  ->>>>>>  work experience\n",
            "• Requirement Analysis  ->>>>>>  work experience\n",
            "Java Developer Tata Consultancy Services (TCS)  ->>>>>>  work experience\n",
            "• Title:  ->>>>>>  work experience\n",
            "• Client:  ->>>>>>  work experience\n",
            "• Project Module  ->>>>>>  work experience\n",
            "• Role:  ->>>>>>  work experience\n",
            "Java developer  ->>>>>>  ability\n",
            "• Technologies used  ->>>>>>  work experience\n",
            "Core Java  ->>>>>>  skill\n",
            "JSP  ->>>>>>  skill\n",
            "Spring  ->>>>>>  skill\n",
            "JDBC  ->>>>>>  skill\n",
            "Webservices  ->>>>>>  skill\n",
            "• Description:  ->>>>>>  work experience\n",
            "B.E  ->>>>>>  degree\n",
            "Ajax  ->>>>>>  skill\n",
            "C  ->>>>>>  skill\n",
            "Coding  ->>>>>>  skill\n",
            "CSS  ->>>>>>  skill\n",
            "database  ->>>>>>  skill\n",
            "• Languages:  ->>>>>>  work experience\n",
            "Java  ->>>>>>  skill\n",
            "SQL  ->>>>>>  skill\n",
            "C++  ->>>>>>  skill\n",
            "• Primary Skills  ->>>>>>  work experience\n",
            "Core Java  ->>>>>>  skill\n",
            "JSP  ->>>>>>  skill\n",
            "Servlets  ->>>>>>  skill\n",
            "JDBC  ->>>>>>  skill\n",
            "Spring  ->>>>>>  skill\n",
            "Hibernate  ->>>>>>  skill\n",
            "JPA  ->>>>>>  skill\n",
            "Webservices  ->>>>>>  skill\n",
            "• Web Technologies  ->>>>>>  work experience\n",
            "HTML  ->>>>>>  skill\n",
            "CSS  ->>>>>>  skill\n",
            "JavaScript  ->>>>>>  skill\n",
            "JSP  ->>>>>>  skill\n",
            "jquery  ->>>>>>  skill\n",
            "Ajax  ->>>>>>  skill\n",
            "• Web/  ->>>>>>  work experience\n",
            "Tomcat  ->>>>>>  skill\n",
            "• Database Servers  ->>>>>>  work experience\n",
            "SQL Server  ->>>>>>  skill\n",
            "Oracle  ->>>>>>  skill\n",
            "MySQL  ->>>>>>  skill\n",
            "• Development Tools  ->>>>>>  work experience\n",
            "STS  ->>>>>>  skill\n",
            "Eclipse  ->>>>>>  skill\n",
            "Netbeans  ->>>>>>  skill\n",
            "• Operating Systems  ->>>>>>  work experience\n",
            "Microsoft XP  ->>>>>>  skill\n",
            "Unix  ->>>>>>  skill\n",
            "Linux  ->>>>>>  skill\n",
            "• Tata Consultancy Services  ->>>>>>  work experience\n",
            "◦ Position:  ->>>>>>  work experience\n",
            "◦ Responsibilities:  ->>>>>>  work experience\n",
            "➢ Developer ➢  ->>>>>>  work experience\n",
            "➢ Coding,  ->>>>>>  work experience\n",
            "• Excellent Team working ability  ->>>>>>  work experience\n",
            "• Good  ->>>>>>  work experience\n",
            "• Self Learning  ->>>>>>  work experience\n",
            "• Ability to learn fast  ->>>>>>  work experience\n",
            "\n",
            "\n",
            "resume num 3 test\n",
            "Computer Science and Technology  ->>>>>>  major\n",
            "Java Developer Experis it(IBM) - Hyderabad, Telangana May 2016 to May 2017  ->>>>>>  ability\n",
            "• Worked as a Software Developer in IBM, Hyderabad for 1 year from May 2016 to May 2017  ->>>>>>  work experience\n",
            "• Developed Application Information Document (AID), which will provide members of the team with an overview of the Dev Automation and also tested 55 modules.  ->>>>>>  work experience\n",
            "• Programing skills  ->>>>>>  work experience\n",
            "C-Programming  ->>>>>>  skill\n",
            "Core Java  ->>>>>>  skill\n",
            "Advanced Java  ->>>>>>  skill\n",
            "HTML  ->>>>>>  skill\n",
            "AJWT  ->>>>>>  skill\n",
            "B.Tech  ->>>>>>  degree\n",
            "Computer Science Engineering  ->>>>>>  major\n",
            "Pondicherry University Puducherry  ->>>>>>  college\n",
            "FANUC  ->>>>>>  skill\n",
            "HELP DESK  ->>>>>>  skill\n",
            "Java  ->>>>>>  skill\n",
            "MS office  ->>>>>>  skill\n",
            "• Computer skills  ->>>>>>  work experience\n",
            "• Worked as Class Representative and organizing different college events  ->>>>>>  work experience\n",
            "• Coordinating and Organizing Cultural activities & Anchoring the events in college Presentation Skills  ->>>>>>  work experience\n",
            "• Developed and delivered a Power Point Presentation on Graphics in c and digital clock in java at JNTUK on Feb 2015and also in Srinivasa Institute of Engineering & Technology  ->>>>>>  work experience\n",
            "• Power point  ->>>>>>  work experience\n",
            "• Participated in  ->>>>>>  work experience\n",
            "• Participated in  ->>>>>>  work experience\n",
            "• Executed Mini project and led as a team leader on \"COLLEGE ONLINE HELP DESK THROUGH ANDROID\"  ->>>>>>  work experience\n",
            "• INTERNSHIP on  ->>>>>>  work experience\n",
            "National Institute of Technology Kakinada • Executed Mini project on \"ROBOTICS\" ACHIEVEMENTS • Selected in IBM as a Java programmer and System Analysis • Selected in Vittor cloud as a Program Developer • Owned a first place in mathematics talent test Ramanujam, Godavari. OTHER INTERESTS Strengths: Spontaneous, Innovative, Good decision making, Realistic in nature and Leadership qualities Generals: NSS volunteer, Red Cross Member  ->>>>>>  college\n",
            "\n",
            "\n",
            "resume num 4 test\n",
            "Java Developer Tata Consultancy Services (TCS) - Hyderabad, Telangana August 2015 to Present  ->>>>>>  work experience\n",
            "working as a Java Developer with a hands on Experience with variety of technologies like Amazon Web Service, Maven, Web Services etc.  ->>>>>>  work experience\n",
            "Java  ->>>>>>  skill\n",
            "Java Script  ->>>>>>  skill\n",
            "JSP 2.0  ->>>>>>  skill\n",
            "JUnit  ->>>>>>  skill\n",
            "Servlets  ->>>>>>  skill\n",
            "HTML-5  ->>>>>>  skill\n",
            "CSS-3  ->>>>>>  skill\n",
            "SQL  ->>>>>>  skill\n",
            "JaxB  ->>>>>>  skill\n",
            "JaxWS  ->>>>>>  skill\n",
            "JaxRS  ->>>>>>  skill\n",
            "NetBeans  ->>>>>>  skill\n",
            "Eclipse  ->>>>>>  skill\n",
            "Control-M  ->>>>>>  skill\n",
            "Hibernate  ->>>>>>  skill\n",
            "Design Patterns  ->>>>>>  skill\n",
            "Data Structure  ->>>>>>  skill\n",
            "B.tech  ->>>>>>  degree\n",
            "Mechanical Engineering  ->>>>>>  major\n",
            "Indira Gandhi Institute of Technology  ->>>>>>  college\n",
            "Java  ->>>>>>  skill\n",
            "Sql  ->>>>>>  skill\n",
            "Web Services  ->>>>>>  skill\n",
            "Hibernate  ->>>>>>  skill\n",
            "Javascript  ->>>>>>  skill\n",
            "Html5  ->>>>>>  skill\n",
            "Css  ->>>>>>  skill\n",
            "Data Structure  ->>>>>>  skill\n",
            "AWS  ->>>>>>  skill\n",
            "Eclipse  ->>>>>>  skill\n",
            "Jsp  ->>>>>>  skill\n",
            "Core  ->>>>>>  skill\n",
            "Control-M  ->>>>>>  skill\n",
            "Servlet  ->>>>>>  skill\n",
            "Design Pattern  ->>>>>>  skill\n",
            "JAX-WS  ->>>>>>  skill\n",
            "Star of the Month  ->>>>>>  award\n",
            "best employee award in TCS  ->>>>>>  award\n",
            "Star of the Month  ->>>>>>  award\n",
            "Oracle Certified Professional  ->>>>>>  skill\n",
            "Java SE 6 Programmer certification. Oracle Certified Java EE 6 Web Service Developer December 2016 to Present Completed Oracle Certified Web Service Developer Certification. Additional Information Projects Worked Project Category: International Wire Transfer Employer: Tata Consultancy Services. Project Duration: Dec 2016 – Present Role Description: Java Developer Technologies Used: Java,  ->>>>>>  skill\n",
            "Restful web services  ->>>>>>  skill\n",
            "Java Batch  ->>>>>>  skill\n",
            "Reflection api  ->>>>>>  skill\n",
            "JSR 352  ->>>>>>  skill\n",
            "Control-M  ->>>>>>  skill\n",
            "Putty  ->>>>>>  skill\n",
            "HTML  ->>>>>>  skill\n",
            "CSS  ->>>>>>  skill\n",
            "Java Script  ->>>>>>  skill\n",
            "Multi Threading  ->>>>>>  skill\n",
            "Eclipse & SQL  ->>>>>>  skill\n",
            "• This effort is used for facilitating members for making easy international funds transfers.  ->>>>>>  work experience\n",
            "• Implemented  ->>>>>>  work experience\n",
            "JSR 352  ->>>>>>  skill\n",
            "• Improved performance up to 5 times by creating Custom Reusable components.  ->>>>>>  work experience\n",
            "• Created Admin Console for easy data handling and processing.  ->>>>>>  work experience\n",
            "Snap 2 Pay Employer:  ->>>>>>  work experience\n",
            "– Feb 2017  ->>>>>>  work experience\n",
            "Java  ->>>>>>  skill\n",
            "Restful web services  ->>>>>>  skill\n",
            "Amazon Web  ->>>>>>  skill\n",
            "AWS RDS  ->>>>>>  skill\n",
            "AWS Elastic Beanstalk  ->>>>>>  skill\n",
            "AWS S3  ->>>>>>  skill\n",
            "AWS Rekognition  ->>>>>>  skill\n",
            "Net Beans  ->>>>>>  skill\n",
            "SQL Description & Responsibilities  ->>>>>>  skill\n",
            "• This project  ->>>>>>  work experience\n",
            "• Easy Money transfer and Facilitating Transactions at Merchant site.  ->>>>>>  work experience\n",
            "• Designed the Complete Project Architecture and Developed backend web services using Java and Restful Web Services  ->>>>>>  work experience\n",
            "• Creating Cloud infrastructure (Database, File Storage, Servers and Platform for deployment) using Amazon Web service and Giving access provision for Developers.  ->>>>>>  work experience\n",
            "• Integrating Notification hub with Web Application, so that customers can be notified easily.  ->>>>>>  work experience\n",
            "Banking and Financial Project Employer: Tata Consultancy Services  ->>>>>>  work experience\n",
            "– Dec 2016  ->>>>>>  work experience\n",
            "Java Developer  ->>>>>>  ability\n",
            "Java  ->>>>>>  skill\n",
            "JaxB  ->>>>>>  skill\n",
            "JaxWS  ->>>>>>  skill\n",
            "Restful web services  ->>>>>>  skill\n",
            "Multithreading  ->>>>>>  skill\n",
            "Hibernate  ->>>>>>  skill\n",
            "JSP  ->>>>>>  skill\n",
            "Collections  ->>>>>>  skill\n",
            "Reflection api  ->>>>>>  skill\n",
            "Servlet  ->>>>>>  skill\n",
            "HTML-5  ->>>>>>  skill\n",
            "CSS-3  ->>>>>>  skill\n",
            "Java Script  ->>>>>>  skill\n",
            "Enterprise Java Beans  ->>>>>>  skill\n",
            "Eclipse & SQL  ->>>>>>  skill\n",
            "• The main purpose of this project  ->>>>>>  work experience\n",
            "• System for easy Money transfer to registered email ids and Mobile Numbers.  ->>>>>>  work experience\n",
            "• Backend developer using Java, JaxWS, Restful Webservices.  ->>>>>>  work experience\n",
            "• Created Enhanced Funds transfer page and admin console page  ->>>>>>  work experience\n",
            "– Oct 2015  ->>>>>>  work experience\n",
            "Core Java  ->>>>>>  skill\n",
            "Servlets  ->>>>>>  skill\n",
            "JSP 2.0  ->>>>>>  skill\n",
            "HTML-5  ->>>>>>  skill\n",
            "CSS-3  ->>>>>>  skill\n",
            "JDBC  ->>>>>>  skill\n",
            "Eclipse  ->>>>>>  skill\n",
            "SQL  ->>>>>>  skill\n",
            "• Lab Service Management is a web based application  ->>>>>>  work experience\n",
            "• Using this system data retrieval and updating is simpler. Doctors and patients can view personalised data from anywhere which will save time.  ->>>>>>  work experience\n",
            "• Graphical representation of patient’s data using HTML-5.  ->>>>>>  work experience\n",
            "• Designed the User Interface and Database Design  ->>>>>>  work experience\n",
            "Flow Shop Scheduling Location: Academic Project Project Duration:  ->>>>>>  work experience\n",
            "– Mar 2015  ->>>>>>  work experience\n",
            "Core Java  ->>>>>>  skill\n",
            "• An Engineering and Industrial Development project, which is based on  ->>>>>>  work experience\n",
            "JAVA  ->>>>>>  skill\n",
            "• The project is aimed at preparing suitable algorithm for controlling and optimizing the make-span of vast number of jobs which are operated on many machines. • The application is capable of solving issues like, 1) One machine n job problem. 2) Two machine n job problem using Johnson's algorithm  ->>>>>>  work experience\n",
            "\n",
            "\n",
            "resume num 5 test\n",
            "experienced team player  ->>>>>>  ability\n",
            "work independently under pressure  ->>>>>>  ability\n",
            "lead, motivate and influence others  ->>>>>>  ability\n",
            "Java  ->>>>>>  skill\n",
            "Java Script  ->>>>>>  skill\n",
            "SQL  ->>>>>>  skill\n",
            "Ajax  ->>>>>>  skill\n",
            "CSS  ->>>>>>  skill\n",
            "Work Experience Java developer Codeest - Pune, Maharashtra August 2015 to Present  ->>>>>>  work experience\n",
            "• Project Name  ->>>>>>  work experience\n",
            "• Environment:  ->>>>>>  work experience\n",
            "J2EE  ->>>>>>  skill\n",
            "Java  ->>>>>>  skill\n",
            "JSP Servlet  ->>>>>>  skill\n",
            "MVC  ->>>>>>  skill\n",
            "MYSQL  ->>>>>>  skill\n",
            "HTML  ->>>>>>  skill\n",
            "CSS  ->>>>>>  skill\n",
            "• Role:  ->>>>>>  work experience\n",
            "• Description:  ->>>>>>  work experience\n",
            "• Project Name  ->>>>>>  work experience\n",
            "• Environment:  ->>>>>>  work experience\n",
            "j2EE  ->>>>>>  skill\n",
            "JavaScript  ->>>>>>  skill\n",
            "Spring Hibernate  ->>>>>>  skill\n",
            "MVC  ->>>>>>  skill\n",
            "My SQL  ->>>>>>  skill\n",
            "HTML  ->>>>>>  skill\n",
            "CSS  ->>>>>>  skill\n",
            "• Role:  ->>>>>>  work experience\n",
            "• Description:  ->>>>>>  work experience\n",
            "• Project Name  ->>>>>>  work experience\n",
            "• Environment:  ->>>>>>  work experience\n",
            "• Role:  ->>>>>>  work experience\n",
            "• Description:  ->>>>>>  work experience\n",
            "Developed an Desktop application for local store Inventory system  ->>>>>>  work experience\n",
            "• Project Name  ->>>>>>  work experience\n",
            "• Environment:  ->>>>>>  work experience\n",
            "• Role:  ->>>>>>  work experience\n",
            "• Description:  ->>>>>>  work experience\n",
            "Developed an static web site for local computer repair store system  ->>>>>>  work experience\n",
            "• Project Name  ->>>>>>  work experience\n",
            "• Environment:  ->>>>>>  work experience\n",
            "JAVA  ->>>>>>  skill\n",
            "J2EE  ->>>>>>  skill\n",
            "My SQL  ->>>>>>  skill\n",
            "JDBC  ->>>>>>  skill\n",
            "HTML  ->>>>>>  skill\n",
            "javascript  ->>>>>>  skill\n",
            "• Role:  ->>>>>>  work experience\n",
            "• Description:  ->>>>>>  work experience\n",
            "Developed an static web site for local computer repair store system  ->>>>>>  work experience\n",
            "B.E.  ->>>>>>  degree\n",
            "Engineering Pune University  ->>>>>>  college\n",
            "authentication  ->>>>>>  skill\n",
            "C  ->>>>>>  skill\n",
            "CSS  ->>>>>>  skill\n",
            "Databases  ->>>>>>  skill\n",
            "Eclipse  ->>>>>>  skill\n",
            "• Languages:  ->>>>>>  work experience\n",
            "JAVA  ->>>>>>  skill\n",
            "C  ->>>>>>  skill\n",
            "C++  ->>>>>>  skill\n",
            "SQL  ->>>>>>  skill\n",
            "XML/HTML  ->>>>>>  skill\n",
            "• Frameworks:  ->>>>>>  work experience\n",
            "MVC Framework  ->>>>>>  skill\n",
            "Struts Framework  ->>>>>>  skill\n",
            "• Development Tools  ->>>>>>  work experience\n",
            "Eclipse IDE  ->>>>>>  skill\n",
            "• Server:  ->>>>>>  work experience\n",
            "Appache Tomcat  ->>>>>>  skill\n",
            "• Web Technology  ->>>>>>  work experience\n",
            "HTML5  ->>>>>>  skill\n",
            "CSS  ->>>>>>  skill\n",
            "Javascripts  ->>>>>>  skill\n",
            "Jquery  ->>>>>>  skill\n",
            "• Java Technology  ->>>>>>  work experience\n",
            "Servlet  ->>>>>>  skill\n",
            "JSP  ->>>>>>  skill\n",
            "• Databases:  ->>>>>>  work experience\n",
            "My SQL  ->>>>>>  skill\n",
            "• Operating system  ->>>>>>  work experience\n",
            "Microsoft 98  ->>>>>>  skill\n",
            "• Project Name  ->>>>>>  work experience\n",
            "• Environment- Java,  ->>>>>>  work experience\n",
            "NetBeans 7.4  ->>>>>>  skill\n",
            "MySql  ->>>>>>  skill\n",
            "• Operating System-  ->>>>>>  work experience\n",
            "Windows XP  ->>>>>>  skill\n",
            "• Team Size-  ->>>>>>  work experience\n",
            "• Duration- 6-Months  ->>>>>>  work experience\n",
            "• Description-  ->>>>>>  work experience\n",
            "\n",
            "\n",
            "resume num 6 test\n",
            "Java Developer Sourcepep Pvt Ltd  ->>>>>>  work experience\n",
            "J2EE  ->>>>>>  skill\n",
            "Spring MVC  ->>>>>>  skill\n",
            "Core Java  ->>>>>>  skill\n",
            "Rest Web services  ->>>>>>  skill\n",
            "Ajax  ->>>>>>  skill\n",
            "Elasticsearch  ->>>>>>  skill\n",
            "Pune University  ->>>>>>  college\n",
            "• Programming Language  ->>>>>>  work experience\n",
            "C  ->>>>>>  skill\n",
            "JAVA  ->>>>>>  skill\n",
            "Advance Java  ->>>>>>  skill\n",
            "Spring MVC  ->>>>>>  skill\n",
            "Rest Web services  ->>>>>>  skill\n",
            "Java integration with MongoDB  ->>>>>>  skill\n",
            "Ajax  ->>>>>>  skill\n",
            "Elasticsearch  ->>>>>>  skill\n",
            "• Database:  ->>>>>>  work experience\n",
            "Oracle 10g  ->>>>>>  skill\n",
            "MySQL  ->>>>>>  skill\n",
            "MongoDB  ->>>>>>  skill\n",
            "• Operating System  ->>>>>>  work experience\n",
            "Windows 7, 8, XP  ->>>>>>  skill\n",
            "Fedora  ->>>>>>  skill\n",
            "\n",
            "\n",
            "resume num 7 test\n",
            "• Java Developer, SpagMa Technologies LLP  ->>>>>>  work experience\n",
            "• Technology:  ->>>>>>  work experience\n",
            "JSF  ->>>>>>  skill\n",
            "Hibernate  ->>>>>>  skill\n",
            "PrimeFaces  ->>>>>>  skill\n",
            "Core Java  ->>>>>>  skill\n",
            "JSP  ->>>>>>  skill\n",
            "Servlet  ->>>>>>  skill\n",
            "HTML  ->>>>>>  skill\n",
            "CSS3  ->>>>>>  skill\n",
            "• Internship,  ->>>>>>  work experience\n",
            "• January 2014  ->>>>>>  work experience\n",
            "• Technology:  ->>>>>>  work experience\n",
            "Jsp  ->>>>>>  skill\n",
            "Servlet  ->>>>>>  skill\n",
            "Core Java  ->>>>>>  skill\n",
            "MySql Education  ->>>>>>  skill\n",
            "B.E  ->>>>>>  degree\n",
            "Shivaji University  ->>>>>>  college\n",
            "Core Java  ->>>>>>  skill\n",
            "Hibernate  ->>>>>>  skill\n",
            "primefaces  ->>>>>>  skill\n",
            "Sql Dba  ->>>>>>  skill\n",
            "• Technologies -  ->>>>>>  work experience\n",
            "Core JAVA  ->>>>>>  skill\n",
            "Multithreading  ->>>>>>  skill\n",
            "Collection  ->>>>>>  skill\n",
            "JSP  ->>>>>>  skill\n",
            "Servlet  ->>>>>>  skill\n",
            "JSF  ->>>>>>  skill\n",
            "Hibernate  ->>>>>>  skill\n",
            "• Database -  ->>>>>>  work experience\n",
            "MySQL  ->>>>>>  skill\n",
            "Oracle  ->>>>>>  skill\n",
            "Java Derby  ->>>>>>  skill\n",
            "• Application Servers  ->>>>>>  work experience\n",
            "Apache Tomcat 8.0.3  ->>>>>>  skill\n",
            "• Development Tools  ->>>>>>  work experience\n",
            "Eclipse  ->>>>>>  skill\n",
            "Netbeans  ->>>>>>  skill\n",
            "\n",
            "\n",
            "resume num 8 test\n",
            "2 years and 2 months of experience in Software Application Development and Maintenance with specialization  ->>>>>>  work experience\n",
            "Java/J2EE and Oracle SQL  ->>>>>>  skill\n",
            "Core Java  ->>>>>>  skill\n",
            "J2EE  ->>>>>>  skill\n",
            "JSP  ->>>>>>  skill\n",
            "Servlet  ->>>>>>  skill\n",
            "AJAX  ->>>>>>  skill\n",
            "JavaScript  ->>>>>>  skill\n",
            "jQuery  ->>>>>>  skill\n",
            "SQL  ->>>>>>  skill\n",
            "Log4j  ->>>>>>  skill\n",
            "XML  ->>>>>>  skill\n",
            "“CHATBOT Automation Feature” to reduce the No. of SMEs involved in chat with Agents to reduce the effort and cost involved  ->>>>>>  work experience\n",
            "Windows 7  ->>>>>>  skill\n",
            "Java  ->>>>>>  skill\n",
            "J2EE  ->>>>>>  skill\n",
            "HTML  ->>>>>>  skill\n",
            "CSS  ->>>>>>  skill\n",
            "XML  ->>>>>>  skill\n",
            "JSP  ->>>>>>  skill\n",
            "JavaScript  ->>>>>>  skill\n",
            "JQuery RDBMS  ->>>>>>  skill\n",
            "Oracle  ->>>>>>  skill\n",
            "MySQL  ->>>>>>  skill\n",
            "Eclipse  ->>>>>>  skill\n",
            "SQL  ->>>>>>  skill\n",
            "Putty  ->>>>>>  skill\n",
            "B.E  ->>>>>>  degree\n",
            "Computer Science and Engineering  ->>>>>>  major\n",
            "Anna University  ->>>>>>  college\n",
            "JAVA  ->>>>>>  skill\n",
            "J2EE  ->>>>>>  skill\n",
            "JSP  ->>>>>>  skill\n",
            "Servlet  ->>>>>>  skill\n",
            "AJAX  ->>>>>>  skill\n",
            "JavaScript  ->>>>>>  skill\n",
            "jQuery  ->>>>>>  skill\n",
            "SQL  ->>>>>>  skill\n",
            "Log4j  ->>>>>>  skill\n",
            "XML  ->>>>>>  skill\n",
            "JDBC  ->>>>>>  skill\n",
            "Hibernate Framework  ->>>>>>  skill\n",
            "\n",
            "\n",
            "resume num 9 test\n",
            "M.C.A in Computer Science  ->>>>>>  degree\n",
            "VINOBA BHAVE UNIVERSITY  ->>>>>>  college\n",
            "B.Sc in Computer Application in Computer Application  ->>>>>>  major\n",
            "ST. COLUMBAS COLLEGE Hazaribag  ->>>>>>  college\n",
            "Core Java  ->>>>>>  skill\n",
            "JDBC  ->>>>>>  skill\n",
            "Servlet  ->>>>>>  skill\n",
            "JSP  ->>>>>>  skill\n",
            "Hibernate  ->>>>>>  skill\n",
            "Spring MVC  ->>>>>>  skill\n",
            "Spring AOP  ->>>>>>  skill\n",
            "Spring JDBC  ->>>>>>  skill\n",
            "Oracle10g,My Eclipse IDE  ->>>>>>  skill\n",
            "Appache Tomcat  ->>>>>>  skill\n",
            "Jboss  ->>>>>>  skill\n",
            "• Payment Billing System of an Organisation • Employee Performance Recognition Portal • Online Banking System Details Of Project Work  ->>>>>>  work experience\n",
            "Core Java  ->>>>>>  skill\n",
            "Servlet  ->>>>>>  skill\n",
            "JSP  ->>>>>>  skill\n",
            "Oracle 10g  ->>>>>>  skill\n",
            "Language C  ->>>>>>  skill\n",
            "C++  ->>>>>>  skill\n",
            "Core Java  ->>>>>>  skill\n",
            "Servlet  ->>>>>>  skill\n",
            "JSP  ->>>>>>  skill\n",
            "hibernate  ->>>>>>  skill\n",
            "HTML  ->>>>>>  skill\n",
            "CSS  ->>>>>>  skill\n",
            "Java Script  ->>>>>>  skill\n",
            "Ajax  ->>>>>>  skill\n",
            "Oracle10g  ->>>>>>  skill\n",
            "• Payment Billing System of an Organisation  ->>>>>>  work experience\n",
            "• Employee Performance Recognition Portal  ->>>>>>  work experience\n",
            "• Online Banking System Details Of Project Work  ->>>>>>  work experience\n",
            "Core Java  ->>>>>>  skill\n",
            "Oracle 10g  ->>>>>>  skill\n",
            "\n",
            "\n",
            "resume num 10 test\n",
            "Java Developer  ->>>>>>  ability\n",
            "Mysql Language: JAVA (core) DEVELOPMENT TOOL: Eclipse DESCRIPTION: This fully-featured ERP system has following modules: • Customer and sales • Finance and Reporting • Manufacturing and Production • Stock Management • Accounts Designation: Java Developer PROJECT NAME: Point of Sale ORGANIZATION: KineticX Tech Solutions TEAM SIZE: 3 LANGUAGE: Core Java  ->>>>>>  skill\n",
            "• Inventory •  ->>>>>>  work experience\n",
            "• Gift Cards  ->>>>>>  work experience\n",
            "• Supplier Management  ->>>>>>  work experience\n",
            "• Kitchen •  ->>>>>>  work experience\n",
            "• Employee • Customer • Report •  ->>>>>>  work experience\n",
            "• B.Tech (CSE)  ->>>>>>  work experience\n",
            "Baba Hira Singh Bhattal Institute of Engineering & Technology Sangrur  ->>>>>>  college\n",
            "• 10+2 from Punjab Board  ->>>>>>  work experience\n",
            "• 10th from  ->>>>>>  work experience\n",
            "• Part of  ->>>>>>  work experience\n",
            "• Participate in  ->>>>>>  work experience\n",
            "• Won best  ->>>>>>  work experience\n",
            "• Participated as  ->>>>>>  work experience\n",
            "\n",
            "\n"
          ]
        }
      ]
    }
  ]
}