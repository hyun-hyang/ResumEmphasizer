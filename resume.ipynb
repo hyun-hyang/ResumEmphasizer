{
  "nbformat": 4,
  "nbformat_minor": 0,
  "metadata": {
    "colab": {
      "name": "resume.ipynb",
      "provenance": [],
      "collapsed_sections": [],
      "authorship_tag": "ABX9TyMc3E8xVHflJRVQ/1DgBHIs",
      "include_colab_link": true
    },
    "kernelspec": {
      "name": "python3",
      "display_name": "Python 3"
    },
    "language_info": {
      "name": "python"
    },
    "accelerator": "GPU",
    "gpuClass": "standard"
  },
  "cells": [
    {
      "cell_type": "markdown",
      "metadata": {
        "id": "view-in-github",
        "colab_type": "text"
      },
      "source": [
        "<a href=\"https://colab.research.google.com/github/hyun-hyang/ResumEmphasizer/blob/sub/resume.ipynb\" target=\"_parent\"><img src=\"https://colab.research.google.com/assets/colab-badge.svg\" alt=\"Open In Colab\"/></a>"
      ]
    },
    {
      "cell_type": "code",
      "execution_count": null,
      "metadata": {
        "colab": {
          "base_uri": "https://localhost:8080/"
        },
        "id": "fm3Zrriy2zAx",
        "outputId": "f64007a9-f3de-49c5-fb1a-e75039c578f4"
      },
      "outputs": [
        {
          "output_type": "stream",
          "name": "stdout",
          "text": [
            "Looking in indexes: https://pypi.org/simple, https://us-python.pkg.dev/colab-wheels/public/simple/\n",
            "Collecting spacy_transformers\n",
            "  Downloading spacy_transformers-1.1.7-py2.py3-none-any.whl (53 kB)\n",
            "\u001b[K     |████████████████████████████████| 53 kB 2.1 MB/s \n",
            "\u001b[?25hCollecting transformers<4.21.0,>=3.4.0\n",
            "  Downloading transformers-4.20.1-py3-none-any.whl (4.4 MB)\n",
            "\u001b[K     |████████████████████████████████| 4.4 MB 30.0 MB/s \n",
            "\u001b[?25hRequirement already satisfied: srsly<3.0.0,>=2.4.0 in /usr/local/lib/python3.7/dist-packages (from spacy_transformers) (2.4.4)\n",
            "Collecting spacy-alignments<1.0.0,>=0.7.2\n",
            "  Downloading spacy_alignments-0.8.5-cp37-cp37m-manylinux_2_17_x86_64.manylinux2014_x86_64.whl (1.1 MB)\n",
            "\u001b[K     |████████████████████████████████| 1.1 MB 57.9 MB/s \n",
            "\u001b[?25hRequirement already satisfied: spacy<4.0.0,>=3.1.3 in /usr/local/lib/python3.7/dist-packages (from spacy_transformers) (3.4.1)\n",
            "Requirement already satisfied: torch>=1.6.0 in /usr/local/lib/python3.7/dist-packages (from spacy_transformers) (1.12.0+cu113)\n",
            "Requirement already satisfied: packaging>=20.0 in /usr/local/lib/python3.7/dist-packages (from spacy<4.0.0,>=3.1.3->spacy_transformers) (21.3)\n",
            "Requirement already satisfied: thinc<8.2.0,>=8.1.0 in /usr/local/lib/python3.7/dist-packages (from spacy<4.0.0,>=3.1.3->spacy_transformers) (8.1.0)\n",
            "Requirement already satisfied: typing-extensions<4.2.0,>=3.7.4 in /usr/local/lib/python3.7/dist-packages (from spacy<4.0.0,>=3.1.3->spacy_transformers) (4.1.1)\n",
            "Requirement already satisfied: pathy>=0.3.5 in /usr/local/lib/python3.7/dist-packages (from spacy<4.0.0,>=3.1.3->spacy_transformers) (0.6.2)\n",
            "Requirement already satisfied: typer<0.5.0,>=0.3.0 in /usr/local/lib/python3.7/dist-packages (from spacy<4.0.0,>=3.1.3->spacy_transformers) (0.4.2)\n",
            "Requirement already satisfied: spacy-loggers<2.0.0,>=1.0.0 in /usr/local/lib/python3.7/dist-packages (from spacy<4.0.0,>=3.1.3->spacy_transformers) (1.0.3)\n",
            "Requirement already satisfied: cymem<2.1.0,>=2.0.2 in /usr/local/lib/python3.7/dist-packages (from spacy<4.0.0,>=3.1.3->spacy_transformers) (2.0.6)\n",
            "Requirement already satisfied: wasabi<1.1.0,>=0.9.1 in /usr/local/lib/python3.7/dist-packages (from spacy<4.0.0,>=3.1.3->spacy_transformers) (0.10.1)\n",
            "Requirement already satisfied: tqdm<5.0.0,>=4.38.0 in /usr/local/lib/python3.7/dist-packages (from spacy<4.0.0,>=3.1.3->spacy_transformers) (4.64.0)\n",
            "Requirement already satisfied: pydantic!=1.8,!=1.8.1,<1.10.0,>=1.7.4 in /usr/local/lib/python3.7/dist-packages (from spacy<4.0.0,>=3.1.3->spacy_transformers) (1.9.1)\n",
            "Requirement already satisfied: langcodes<4.0.0,>=3.2.0 in /usr/local/lib/python3.7/dist-packages (from spacy<4.0.0,>=3.1.3->spacy_transformers) (3.3.0)\n",
            "Requirement already satisfied: murmurhash<1.1.0,>=0.28.0 in /usr/local/lib/python3.7/dist-packages (from spacy<4.0.0,>=3.1.3->spacy_transformers) (1.0.7)\n",
            "Requirement already satisfied: preshed<3.1.0,>=3.0.2 in /usr/local/lib/python3.7/dist-packages (from spacy<4.0.0,>=3.1.3->spacy_transformers) (3.0.6)\n",
            "Requirement already satisfied: catalogue<2.1.0,>=2.0.6 in /usr/local/lib/python3.7/dist-packages (from spacy<4.0.0,>=3.1.3->spacy_transformers) (2.0.8)\n",
            "Requirement already satisfied: numpy>=1.15.0 in /usr/local/lib/python3.7/dist-packages (from spacy<4.0.0,>=3.1.3->spacy_transformers) (1.21.6)\n",
            "Requirement already satisfied: jinja2 in /usr/local/lib/python3.7/dist-packages (from spacy<4.0.0,>=3.1.3->spacy_transformers) (2.11.3)\n",
            "Requirement already satisfied: spacy-legacy<3.1.0,>=3.0.9 in /usr/local/lib/python3.7/dist-packages (from spacy<4.0.0,>=3.1.3->spacy_transformers) (3.0.9)\n",
            "Requirement already satisfied: requests<3.0.0,>=2.13.0 in /usr/local/lib/python3.7/dist-packages (from spacy<4.0.0,>=3.1.3->spacy_transformers) (2.23.0)\n",
            "Requirement already satisfied: setuptools in /usr/local/lib/python3.7/dist-packages (from spacy<4.0.0,>=3.1.3->spacy_transformers) (57.4.0)\n",
            "Requirement already satisfied: zipp>=0.5 in /usr/local/lib/python3.7/dist-packages (from catalogue<2.1.0,>=2.0.6->spacy<4.0.0,>=3.1.3->spacy_transformers) (3.8.1)\n",
            "Requirement already satisfied: pyparsing!=3.0.5,>=2.0.2 in /usr/local/lib/python3.7/dist-packages (from packaging>=20.0->spacy<4.0.0,>=3.1.3->spacy_transformers) (3.0.9)\n",
            "Requirement already satisfied: smart-open<6.0.0,>=5.2.1 in /usr/local/lib/python3.7/dist-packages (from pathy>=0.3.5->spacy<4.0.0,>=3.1.3->spacy_transformers) (5.2.1)\n",
            "Requirement already satisfied: chardet<4,>=3.0.2 in /usr/local/lib/python3.7/dist-packages (from requests<3.0.0,>=2.13.0->spacy<4.0.0,>=3.1.3->spacy_transformers) (3.0.4)\n",
            "Requirement already satisfied: idna<3,>=2.5 in /usr/local/lib/python3.7/dist-packages (from requests<3.0.0,>=2.13.0->spacy<4.0.0,>=3.1.3->spacy_transformers) (2.10)\n",
            "Requirement already satisfied: certifi>=2017.4.17 in /usr/local/lib/python3.7/dist-packages (from requests<3.0.0,>=2.13.0->spacy<4.0.0,>=3.1.3->spacy_transformers) (2022.6.15)\n",
            "Requirement already satisfied: urllib3!=1.25.0,!=1.25.1,<1.26,>=1.21.1 in /usr/local/lib/python3.7/dist-packages (from requests<3.0.0,>=2.13.0->spacy<4.0.0,>=3.1.3->spacy_transformers) (1.24.3)\n",
            "Requirement already satisfied: blis<0.8.0,>=0.7.8 in /usr/local/lib/python3.7/dist-packages (from thinc<8.2.0,>=8.1.0->spacy<4.0.0,>=3.1.3->spacy_transformers) (0.7.8)\n",
            "Requirement already satisfied: filelock in /usr/local/lib/python3.7/dist-packages (from transformers<4.21.0,>=3.4.0->spacy_transformers) (3.7.1)\n",
            "Collecting huggingface-hub<1.0,>=0.1.0\n",
            "  Downloading huggingface_hub-0.8.1-py3-none-any.whl (101 kB)\n",
            "\u001b[K     |████████████████████████████████| 101 kB 13.2 MB/s \n",
            "\u001b[?25hCollecting pyyaml>=5.1\n",
            "  Downloading PyYAML-6.0-cp37-cp37m-manylinux_2_5_x86_64.manylinux1_x86_64.manylinux_2_12_x86_64.manylinux2010_x86_64.whl (596 kB)\n",
            "\u001b[K     |████████████████████████████████| 596 kB 71.3 MB/s \n",
            "\u001b[?25hCollecting tokenizers!=0.11.3,<0.13,>=0.11.1\n",
            "  Downloading tokenizers-0.12.1-cp37-cp37m-manylinux_2_12_x86_64.manylinux2010_x86_64.whl (6.6 MB)\n",
            "\u001b[K     |████████████████████████████████| 6.6 MB 58.2 MB/s \n",
            "\u001b[?25hRequirement already satisfied: importlib-metadata in /usr/local/lib/python3.7/dist-packages (from transformers<4.21.0,>=3.4.0->spacy_transformers) (4.12.0)\n",
            "Requirement already satisfied: regex!=2019.12.17 in /usr/local/lib/python3.7/dist-packages (from transformers<4.21.0,>=3.4.0->spacy_transformers) (2022.6.2)\n",
            "Requirement already satisfied: click<9.0.0,>=7.1.1 in /usr/local/lib/python3.7/dist-packages (from typer<0.5.0,>=0.3.0->spacy<4.0.0,>=3.1.3->spacy_transformers) (7.1.2)\n",
            "Requirement already satisfied: MarkupSafe>=0.23 in /usr/local/lib/python3.7/dist-packages (from jinja2->spacy<4.0.0,>=3.1.3->spacy_transformers) (2.0.1)\n",
            "Installing collected packages: pyyaml, tokenizers, huggingface-hub, transformers, spacy-alignments, spacy-transformers\n",
            "  Attempting uninstall: pyyaml\n",
            "    Found existing installation: PyYAML 3.13\n",
            "    Uninstalling PyYAML-3.13:\n",
            "      Successfully uninstalled PyYAML-3.13\n",
            "Successfully installed huggingface-hub-0.8.1 pyyaml-6.0 spacy-alignments-0.8.5 spacy-transformers-1.1.7 tokenizers-0.12.1 transformers-4.20.1\n",
            "Looking in indexes: https://pypi.org/simple, https://us-python.pkg.dev/colab-wheels/public/simple/\n",
            "Requirement already satisfied: spacy in /usr/local/lib/python3.7/dist-packages (3.4.1)\n",
            "Requirement already satisfied: spacy-loggers<2.0.0,>=1.0.0 in /usr/local/lib/python3.7/dist-packages (from spacy) (1.0.3)\n",
            "Requirement already satisfied: wasabi<1.1.0,>=0.9.1 in /usr/local/lib/python3.7/dist-packages (from spacy) (0.10.1)\n",
            "Requirement already satisfied: typer<0.5.0,>=0.3.0 in /usr/local/lib/python3.7/dist-packages (from spacy) (0.4.2)\n",
            "Requirement already satisfied: packaging>=20.0 in /usr/local/lib/python3.7/dist-packages (from spacy) (21.3)\n",
            "Requirement already satisfied: pydantic!=1.8,!=1.8.1,<1.10.0,>=1.7.4 in /usr/local/lib/python3.7/dist-packages (from spacy) (1.9.1)\n",
            "Requirement already satisfied: langcodes<4.0.0,>=3.2.0 in /usr/local/lib/python3.7/dist-packages (from spacy) (3.3.0)\n",
            "Requirement already satisfied: numpy>=1.15.0 in /usr/local/lib/python3.7/dist-packages (from spacy) (1.21.6)\n",
            "Requirement already satisfied: thinc<8.2.0,>=8.1.0 in /usr/local/lib/python3.7/dist-packages (from spacy) (8.1.0)\n",
            "Requirement already satisfied: preshed<3.1.0,>=3.0.2 in /usr/local/lib/python3.7/dist-packages (from spacy) (3.0.6)\n",
            "Requirement already satisfied: catalogue<2.1.0,>=2.0.6 in /usr/local/lib/python3.7/dist-packages (from spacy) (2.0.8)\n",
            "Requirement already satisfied: setuptools in /usr/local/lib/python3.7/dist-packages (from spacy) (57.4.0)\n",
            "Requirement already satisfied: requests<3.0.0,>=2.13.0 in /usr/local/lib/python3.7/dist-packages (from spacy) (2.23.0)\n",
            "Requirement already satisfied: typing-extensions<4.2.0,>=3.7.4 in /usr/local/lib/python3.7/dist-packages (from spacy) (4.1.1)\n",
            "Requirement already satisfied: cymem<2.1.0,>=2.0.2 in /usr/local/lib/python3.7/dist-packages (from spacy) (2.0.6)\n",
            "Requirement already satisfied: murmurhash<1.1.0,>=0.28.0 in /usr/local/lib/python3.7/dist-packages (from spacy) (1.0.7)\n",
            "Requirement already satisfied: pathy>=0.3.5 in /usr/local/lib/python3.7/dist-packages (from spacy) (0.6.2)\n",
            "Requirement already satisfied: spacy-legacy<3.1.0,>=3.0.9 in /usr/local/lib/python3.7/dist-packages (from spacy) (3.0.9)\n",
            "Requirement already satisfied: jinja2 in /usr/local/lib/python3.7/dist-packages (from spacy) (2.11.3)\n",
            "Requirement already satisfied: tqdm<5.0.0,>=4.38.0 in /usr/local/lib/python3.7/dist-packages (from spacy) (4.64.0)\n",
            "Requirement already satisfied: srsly<3.0.0,>=2.4.3 in /usr/local/lib/python3.7/dist-packages (from spacy) (2.4.4)\n",
            "Requirement already satisfied: zipp>=0.5 in /usr/local/lib/python3.7/dist-packages (from catalogue<2.1.0,>=2.0.6->spacy) (3.8.1)\n",
            "Requirement already satisfied: pyparsing!=3.0.5,>=2.0.2 in /usr/local/lib/python3.7/dist-packages (from packaging>=20.0->spacy) (3.0.9)\n",
            "Requirement already satisfied: smart-open<6.0.0,>=5.2.1 in /usr/local/lib/python3.7/dist-packages (from pathy>=0.3.5->spacy) (5.2.1)\n",
            "Requirement already satisfied: certifi>=2017.4.17 in /usr/local/lib/python3.7/dist-packages (from requests<3.0.0,>=2.13.0->spacy) (2022.6.15)\n",
            "Requirement already satisfied: chardet<4,>=3.0.2 in /usr/local/lib/python3.7/dist-packages (from requests<3.0.0,>=2.13.0->spacy) (3.0.4)\n",
            "Requirement already satisfied: idna<3,>=2.5 in /usr/local/lib/python3.7/dist-packages (from requests<3.0.0,>=2.13.0->spacy) (2.10)\n",
            "Requirement already satisfied: urllib3!=1.25.0,!=1.25.1,<1.26,>=1.21.1 in /usr/local/lib/python3.7/dist-packages (from requests<3.0.0,>=2.13.0->spacy) (1.24.3)\n",
            "Requirement already satisfied: blis<0.8.0,>=0.7.8 in /usr/local/lib/python3.7/dist-packages (from thinc<8.2.0,>=8.1.0->spacy) (0.7.8)\n",
            "Requirement already satisfied: click<9.0.0,>=7.1.1 in /usr/local/lib/python3.7/dist-packages (from typer<0.5.0,>=0.3.0->spacy) (7.1.2)\n",
            "Requirement already satisfied: MarkupSafe>=0.23 in /usr/local/lib/python3.7/dist-packages (from jinja2->spacy) (2.0.1)\n"
          ]
        }
      ],
      "source": [
        "!pip install spacy_transformers\n",
        "!pip install -U spacy"
      ]
    },
    {
      "cell_type": "code",
      "source": [
        "import spacy\n",
        "from spacy.tokens import DocBin\n",
        "from tqdm import tqdm\n",
        "import json"
      ],
      "metadata": {
        "id": "_Rxovx-h4prM"
      },
      "execution_count": null,
      "outputs": []
    },
    {
      "cell_type": "code",
      "source": [
        "spacy.__version__"
      ],
      "metadata": {
        "colab": {
          "base_uri": "https://localhost:8080/",
          "height": 35
        },
        "id": "M8A-iyfX43Zm",
        "outputId": "fee2a406-49ad-4d96-b04f-8cf01720368b"
      },
      "execution_count": null,
      "outputs": [
        {
          "output_type": "execute_result",
          "data": {
            "text/plain": [
              "'3.4.1'"
            ],
            "application/vnd.google.colaboratory.intrinsic+json": {
              "type": "string"
            }
          },
          "metadata": {},
          "execution_count": 3
        }
      ]
    },
    {
      "cell_type": "code",
      "source": [
        "!nvidia-smi"
      ],
      "metadata": {
        "colab": {
          "base_uri": "https://localhost:8080/"
        },
        "id": "01t87qHD4-rc",
        "outputId": "27b77b73-10d9-491f-9bc1-3bb40e34fbdb"
      },
      "execution_count": null,
      "outputs": [
        {
          "output_type": "stream",
          "name": "stdout",
          "text": [
            "Sat Aug  6 19:56:43 2022       \n",
            "+-----------------------------------------------------------------------------+\n",
            "| NVIDIA-SMI 460.32.03    Driver Version: 460.32.03    CUDA Version: 11.2     |\n",
            "|-------------------------------+----------------------+----------------------+\n",
            "| GPU  Name        Persistence-M| Bus-Id        Disp.A | Volatile Uncorr. ECC |\n",
            "| Fan  Temp  Perf  Pwr:Usage/Cap|         Memory-Usage | GPU-Util  Compute M. |\n",
            "|                               |                      |               MIG M. |\n",
            "|===============================+======================+======================|\n",
            "|   0  Tesla T4            Off  | 00000000:00:04.0 Off |                    0 |\n",
            "| N/A   41C    P0    27W /  70W |    312MiB / 15109MiB |      0%      Default |\n",
            "|                               |                      |                  N/A |\n",
            "+-------------------------------+----------------------+----------------------+\n",
            "                                                                               \n",
            "+-----------------------------------------------------------------------------+\n",
            "| Processes:                                                                  |\n",
            "|  GPU   GI   CI        PID   Type   Process name                  GPU Memory |\n",
            "|        ID   ID                                                   Usage      |\n",
            "|=============================================================================|\n",
            "+-----------------------------------------------------------------------------+\n"
          ]
        }
      ]
    },
    {
      "cell_type": "code",
      "source": [
        "%cd /content/ResumEmphasizer\n",
        "!git pull"
      ],
      "metadata": {
        "colab": {
          "base_uri": "https://localhost:8080/"
        },
        "id": "Z5Hlfzs15EDO",
        "outputId": "c16bd074-9cc3-42d4-a0bb-32237d1f1db0"
      },
      "execution_count": 27,
      "outputs": [
        {
          "output_type": "stream",
          "name": "stdout",
          "text": [
            "/content/ResumEmphasizer\n",
            "Already up to date.\n"
          ]
        }
      ]
    },
    {
      "cell_type": "code",
      "source": [
        "cv_data = json.load(open('/content/ResumEmphasizer/Data/resumeconverted.json','r'))"
      ],
      "metadata": {
        "id": "4LJwsj2cwXx1"
      },
      "execution_count": null,
      "outputs": []
    },
    {
      "cell_type": "code",
      "source": [
        "len(cv_data)"
      ],
      "metadata": {
        "colab": {
          "base_uri": "https://localhost:8080/"
        },
        "id": "CA9XZtYDwviz",
        "outputId": "ac627809-b3dd-482d-fb98-94f13d4e0e60"
      },
      "execution_count": null,
      "outputs": [
        {
          "output_type": "execute_result",
          "data": {
            "text/plain": [
              "49"
            ]
          },
          "metadata": {},
          "execution_count": 7
        }
      ]
    },
    {
      "cell_type": "code",
      "source": [
        "!python -m spacy init fill-config base_config.cfg config.cfg"
      ],
      "metadata": {
        "colab": {
          "base_uri": "https://localhost:8080/"
        },
        "id": "Ih2FQqgqw1yp",
        "outputId": "9c89ff29-0cbc-483a-c11b-6268240f0fb7"
      },
      "execution_count": null,
      "outputs": [
        {
          "output_type": "stream",
          "name": "stdout",
          "text": [
            "Usage: python -m spacy init fill-config \n",
            "           [OPTIONS] BASE_PATH [OUTPUT_FILE]\n",
            "Try 'python -m spacy init fill-config --help' for help.\n",
            "\n",
            "Error: Invalid value for 'BASE_PATH': File 'base_config.cfg' does not exist.\n"
          ]
        }
      ]
    },
    {
      "cell_type": "code",
      "source": [
        "!python -m spacy init fill-config /content/ResumEmphasizer/Data/base_config.cfg config.cfg"
      ],
      "metadata": {
        "colab": {
          "base_uri": "https://localhost:8080/"
        },
        "id": "rzULIWFqxLli",
        "outputId": "cc7b0abc-c87e-4c0d-b371-30c6fa6bb3c7"
      },
      "execution_count": null,
      "outputs": [
        {
          "output_type": "stream",
          "name": "stdout",
          "text": [
            "\u001b[38;5;2m✔ Auto-filled config with all values\u001b[0m\n",
            "\u001b[38;5;2m✔ Saved config\u001b[0m\n",
            "config.cfg\n",
            "You can now add your data and train your pipeline:\n",
            "python -m spacy train config.cfg --paths.train ./train.spacy --paths.dev ./dev.spacy\n"
          ]
        }
      ]
    },
    {
      "cell_type": "code",
      "source": [
        "cv_data"
      ],
      "metadata": {
        "id": "M-ch0K2ryFOM"
      },
      "execution_count": null,
      "outputs": []
    },
    {
      "cell_type": "code",
      "source": [
        "#from re import T\n",
        "def get_spacy_doc(file, data):\n",
        "  nlp = spacy.blank('en')\n",
        "  db = DocBin()\n",
        "\n",
        "  for item in data:\n",
        "    text = item['text']\n",
        "    doc = nlp.make_doc(text)\n",
        "    annot = item['label']\n",
        "\n",
        "    ents = []\n",
        "    entity_indices = []\n",
        "\n",
        "    for start, end, label in annot:\n",
        "      skip_entity = False\n",
        "      for idx in range(start, end):\n",
        "        if idx in entity_indices:\n",
        "          break\n",
        "      if skip_entity == True:\n",
        "        continue\n",
        "\n",
        "      entity_indices = entity_indices + list(range(start, end))\n",
        "\n",
        "      try:\n",
        "        span = doc.char_span(start, end , label=label, alignment_mode = 'strict')\n",
        "      except:\n",
        "        continue\n",
        "\n",
        "      if span is None:\n",
        "        err_data = str([start, end]) + \"    \" + str(text) + '\\n'\n",
        "        file.write(err_data)\n",
        "\n",
        "      else:\n",
        "        ents.append(span)\n",
        "      \n",
        "    try:\n",
        "      doc.ents = ents\n",
        "      db.add(doc)\n",
        "    except:\n",
        "      pass\n",
        "\n",
        "    return db\n",
        "      "
      ],
      "metadata": {
        "id": "182ND8mty7Nj"
      },
      "execution_count": null,
      "outputs": []
    },
    {
      "cell_type": "code",
      "source": [
        "from sklearn.model_selection import train_test_split\n",
        "train, test = train_test_split(cv_data , test_size=0.3)"
      ],
      "metadata": {
        "id": "75JeX28i_L8I"
      },
      "execution_count": null,
      "outputs": []
    },
    {
      "cell_type": "code",
      "source": [
        "len(train), len(test)"
      ],
      "metadata": {
        "colab": {
          "base_uri": "https://localhost:8080/"
        },
        "id": "zzVr0CgrA7ra",
        "outputId": "97f37984-4632-4592-a9ed-739fe3d8746e"
      },
      "execution_count": null,
      "outputs": [
        {
          "output_type": "execute_result",
          "data": {
            "text/plain": [
              "(34, 15)"
            ]
          },
          "metadata": {},
          "execution_count": 13
        }
      ]
    },
    {
      "cell_type": "code",
      "source": [
        "file = open('error.txt','w')\n",
        "\n",
        "db = get_spacy_doc(file, train)\n",
        "db.to_disk('train_data.spacy')\n",
        "\n",
        "db = get_spacy_doc(file,train)\n",
        "db.to_disk('test_data.spacy')\n",
        "\n",
        "file.close()"
      ],
      "metadata": {
        "id": "Nn_qnprRA_WH"
      },
      "execution_count": null,
      "outputs": []
    },
    {
      "cell_type": "code",
      "source": [
        "len(db.tokens)"
      ],
      "metadata": {
        "colab": {
          "base_uri": "https://localhost:8080/"
        },
        "id": "rtSb0L5HBDM4",
        "outputId": "6f7ba097-86d9-48b0-ba31-cd26cf9c81ad"
      },
      "execution_count": null,
      "outputs": [
        {
          "output_type": "execute_result",
          "data": {
            "text/plain": [
              "1"
            ]
          },
          "metadata": {},
          "execution_count": 15
        }
      ]
    },
    {
      "cell_type": "code",
      "source": [
        "!python -m spacy train /content/config.cfg --output ./output --paths.train ./train_data.spacy --paths.dev ./test_data.spacy --gpu-id 0"
      ],
      "metadata": {
        "colab": {
          "base_uri": "https://localhost:8080/"
        },
        "id": "j9ucYGtEIcnx",
        "outputId": "cadba6ec-7835-4ff3-ec87-89ca1a773caa"
      },
      "execution_count": 16,
      "outputs": [
        {
          "output_type": "stream",
          "name": "stdout",
          "text": [
            "\u001b[38;5;2m✔ Created output directory: output\u001b[0m\n",
            "\u001b[38;5;4mℹ Saving to output directory: output\u001b[0m\n",
            "\u001b[38;5;4mℹ Using GPU: 0\u001b[0m\n",
            "\u001b[1m\n",
            "=========================== Initializing pipeline ===========================\u001b[0m\n",
            "[2022-08-06 19:57:15,650] [INFO] Set up nlp object from config\n",
            "[2022-08-06 19:57:15,661] [INFO] Pipeline: ['transformer', 'ner']\n",
            "[2022-08-06 19:57:15,665] [INFO] Created vocabulary\n",
            "[2022-08-06 19:57:15,666] [INFO] Finished initializing nlp object\n",
            "Downloading: 100% 481/481 [00:00<00:00, 553kB/s]\n",
            "Downloading: 100% 878k/878k [00:00<00:00, 1.75MB/s]\n",
            "Downloading: 100% 446k/446k [00:00<00:00, 1.07MB/s]\n",
            "Downloading: 100% 1.29M/1.29M [00:00<00:00, 3.10MB/s]\n",
            "Downloading: 100% 478M/478M [00:07<00:00, 67.7MB/s]\n",
            "Some weights of the model checkpoint at roberta-base were not used when initializing RobertaModel: ['lm_head.layer_norm.weight', 'lm_head.decoder.weight', 'lm_head.layer_norm.bias', 'lm_head.dense.bias', 'lm_head.bias', 'lm_head.dense.weight']\n",
            "- This IS expected if you are initializing RobertaModel from the checkpoint of a model trained on another task or with another architecture (e.g. initializing a BertForSequenceClassification model from a BertForPreTraining model).\n",
            "- This IS NOT expected if you are initializing RobertaModel from the checkpoint of a model that you expect to be exactly identical (initializing a BertForSequenceClassification model from a BertForSequenceClassification model).\n",
            "[2022-08-06 19:57:41,689] [INFO] Initialized pipeline components: ['transformer', 'ner']\n",
            "\u001b[38;5;2m✔ Initialized pipeline\u001b[0m\n",
            "\u001b[1m\n",
            "============================= Training pipeline =============================\u001b[0m\n",
            "\u001b[38;5;4mℹ Pipeline: ['transformer', 'ner']\u001b[0m\n",
            "\u001b[38;5;4mℹ Initial learn rate: 0.0\u001b[0m\n",
            "E    #       LOSS TRANS...  LOSS NER  ENTS_F  ENTS_P  ENTS_R  SCORE \n",
            "---  ------  -------------  --------  ------  ------  ------  ------\n",
            "  0       0         709.63   1095.76    0.00    0.00    0.00    0.00\n",
            "\n",
            "Aborted!\n"
          ]
        }
      ]
    },
    {
      "cell_type": "markdown",
      "source": [
        "Model Test"
      ],
      "metadata": {
        "id": "ShC---wXkRVg"
      }
    },
    {
      "cell_type": "code",
      "source": [
        "nlp = spacy.load('/content/output/model-best')\n"
      ],
      "metadata": {
        "id": "21GMhq85KEdq"
      },
      "execution_count": 17,
      "outputs": []
    },
    {
      "cell_type": "code",
      "source": [
        "doc = nlp('my name is Leo. I worked at Microsoft. I have 10 years of experience')\n",
        "for ent in doc.ents:\n",
        "  print(ent.text, \"    ->>>>  \", ent.label_)"
      ],
      "metadata": {
        "id": "s-86klWSNGhV",
        "colab": {
          "base_uri": "https://localhost:8080/"
        },
        "outputId": "b9a839fd-51f5-4c27-c267-a19ed9aea303"
      },
      "execution_count": 18,
      "outputs": [
        {
          "output_type": "stream",
          "name": "stdout",
          "text": [
            "my     ->>>>   work experience\n",
            "name     ->>>>   work experience\n",
            "is     ->>>>   work experience\n",
            "Leo     ->>>>   work experience\n",
            ".     ->>>>   work experience\n",
            "I     ->>>>   work experience\n",
            "worked     ->>>>   work experience\n",
            "at     ->>>>   work experience\n",
            "Microsoft     ->>>>   work experience\n",
            ".     ->>>>   work experience\n",
            "I     ->>>>   work experience\n",
            "have     ->>>>   work experience\n",
            "10     ->>>>   work experience\n",
            "years     ->>>>   work experience\n",
            "of     ->>>>   work experience\n",
            "experience     ->>>>   work experience\n"
          ]
        }
      ]
    },
    {
      "cell_type": "code",
      "source": [
        "!pip install PyMuPDF"
      ],
      "metadata": {
        "id": "OG26fOTkvq-S",
        "colab": {
          "base_uri": "https://localhost:8080/"
        },
        "outputId": "9fd2d32a-af53-436c-f338-996847b33c4b"
      },
      "execution_count": 19,
      "outputs": [
        {
          "output_type": "stream",
          "name": "stdout",
          "text": [
            "Looking in indexes: https://pypi.org/simple, https://us-python.pkg.dev/colab-wheels/public/simple/\n",
            "Collecting PyMuPDF\n",
            "  Downloading PyMuPDF-1.20.1-cp37-cp37m-manylinux_2_17_x86_64.manylinux2014_x86_64.whl (8.8 MB)\n",
            "\u001b[K     |████████████████████████████████| 8.8 MB 14.6 MB/s \n",
            "\u001b[?25hInstalling collected packages: PyMuPDF\n",
            "Successfully installed PyMuPDF-1.20.1\n"
          ]
        }
      ]
    },
    {
      "cell_type": "code",
      "source": [
        "import sys, fitz"
      ],
      "metadata": {
        "id": "iASYfGmdvrT1"
      },
      "execution_count": 20,
      "outputs": []
    },
    {
      "cell_type": "code",
      "source": [
        "fname = '/content/ResumEmphasizer/Data/cv250.pdf'\n",
        "doc = fitz.open(fname)"
      ],
      "metadata": {
        "id": "b8KIReL0wF8F"
      },
      "execution_count": 28,
      "outputs": []
    },
    {
      "cell_type": "code",
      "source": [
        "#doc = [page.getText() for page in doc]"
      ],
      "metadata": {
        "id": "lMJ53bKXyVOK"
      },
      "execution_count": 22,
      "outputs": []
    },
    {
      "cell_type": "code",
      "source": [
        "text = \" \"\n",
        "for page in doc:\n",
        "  text = text + str(page.get_text())"
      ],
      "metadata": {
        "id": "Sbwmu_kByc2G"
      },
      "execution_count": 29,
      "outputs": []
    },
    {
      "cell_type": "code",
      "source": [
        "text = text.strip()"
      ],
      "metadata": {
        "id": "8wIKf4V3zDgt"
      },
      "execution_count": 30,
      "outputs": []
    },
    {
      "cell_type": "code",
      "source": [
        "text = ' '.join(text.split())"
      ],
      "metadata": {
        "id": "Y3-93mHhzFw3"
      },
      "execution_count": 31,
      "outputs": []
    },
    {
      "cell_type": "code",
      "source": [
        "doc = nlp(text)\n",
        "for ent in doc.ents:\n",
        "  print(ent.text, \"    ->>>>  \", ent.label_)"
      ],
      "metadata": {
        "id": "vA8wWmDtzVs6",
        "colab": {
          "base_uri": "https://localhost:8080/"
        },
        "outputId": "641dc35a-be4b-4cd2-94d7-e6a8f778b23e"
      },
      "execution_count": 32,
      "outputs": [
        {
          "output_type": "stream",
          "name": "stdout",
          "text": [
            "Parveen     ->>>>   work experience\n",
            "Kaur     ->>>>   work experience\n",
            "Noida     ->>>>   work experience\n",
            ",     ->>>>   work experience\n",
            "Uttar     ->>>>   work experience\n",
            "Pradesh     ->>>>   work experience\n",
            "Work     ->>>>   work experience\n",
            "Experience     ->>>>   work experience\n",
            "Java     ->>>>   work experience\n",
            "Developer     ->>>>   work experience\n",
            "Kineticx     ->>>>   work experience\n",
            "Tech     ->>>>   work experience\n",
            "Solutions     ->>>>   work experience\n",
            "-     ->>>>   work experience\n",
            "Noida     ->>>>   work experience\n",
            ",     ->>>>   work experience\n",
            "Uttar     ->>>>   work experience\n",
            "Pradesh     ->>>>   work experience\n",
            "April     ->>>>   work experience\n",
            "2016     ->>>>   work experience\n",
            "to     ->>>>   work experience\n",
            "Present     ->>>>   work experience\n",
            "Designation     ->>>>   work experience\n",
            ":     ->>>>   work experience\n",
            "Java     ->>>>   work experience\n",
            "Developer     ->>>>   work experience\n",
            "PROJECT     ->>>>   work experience\n",
            "NAME     ->>>>   work experience\n",
            ":     ->>>>   work experience\n",
            "Kx     ->>>>   work experience\n",
            "ERP     ->>>>   work experience\n",
            "ORGANIZATION     ->>>>   work experience\n",
            ":     ->>>>   work experience\n",
            "KineticX     ->>>>   work experience\n",
            "Tech     ->>>>   work experience\n",
            "Solutions     ->>>>   work experience\n",
            "TEAM     ->>>>   work experience\n",
            "SIZE     ->>>>   work experience\n",
            ":     ->>>>   work experience\n",
            "4     ->>>>   work experience\n",
            "DATABASE     ->>>>   work experience\n",
            ":     ->>>>   work experience\n",
            "Mysql     ->>>>   work experience\n",
            "Language     ->>>>   work experience\n",
            ":     ->>>>   work experience\n",
            "JAVA     ->>>>   work experience\n",
            "(     ->>>>   work experience\n",
            "core     ->>>>   work experience\n",
            ")     ->>>>   work experience\n",
            "DEVELOPMENT     ->>>>   work experience\n",
            "TOOL     ->>>>   work experience\n",
            ":     ->>>>   work experience\n",
            "Eclipse     ->>>>   work experience\n",
            "DESCRIPTION     ->>>>   work experience\n",
            ":     ->>>>   work experience\n",
            "This     ->>>>   work experience\n",
            "fully     ->>>>   work experience\n",
            "-     ->>>>   work experience\n",
            "featured     ->>>>   work experience\n",
            "ERP     ->>>>   work experience\n",
            "system     ->>>>   work experience\n",
            "has     ->>>>   work experience\n",
            "following     ->>>>   work experience\n",
            "modules     ->>>>   work experience\n",
            ":     ->>>>   work experience\n",
            "•     ->>>>   work experience\n",
            "Customer     ->>>>   work experience\n",
            "and     ->>>>   work experience\n",
            "sales     ->>>>   work experience\n",
            "•     ->>>>   work experience\n",
            "Finance     ->>>>   work experience\n",
            "and     ->>>>   work experience\n",
            "Reporting     ->>>>   work experience\n",
            "•     ->>>>   work experience\n",
            "Manufacturing     ->>>>   work experience\n",
            "and     ->>>>   work experience\n",
            "Production     ->>>>   work experience\n",
            "•     ->>>>   work experience\n",
            "Stock     ->>>>   work experience\n",
            "Management     ->>>>   work experience\n",
            "•     ->>>>   work experience\n",
            "Accounts     ->>>>   work experience\n",
            "Designation     ->>>>   work experience\n",
            ":     ->>>>   work experience\n",
            "Java     ->>>>   work experience\n",
            "Developer     ->>>>   work experience\n",
            "PROJECT     ->>>>   work experience\n",
            "NAME     ->>>>   work experience\n",
            ":     ->>>>   work experience\n",
            "Point     ->>>>   work experience\n",
            "of     ->>>>   work experience\n",
            "Sale     ->>>>   work experience\n",
            "ORGANIZATION     ->>>>   work experience\n",
            ":     ->>>>   work experience\n",
            "KineticX     ->>>>   work experience\n",
            "Tech     ->>>>   work experience\n",
            "Solutions     ->>>>   work experience\n",
            "TEAM     ->>>>   work experience\n",
            "SIZE     ->>>>   work experience\n",
            ":     ->>>>   work experience\n",
            "3     ->>>>   work experience\n",
            "LANGUAGE     ->>>>   work experience\n",
            ":     ->>>>   work experience\n",
            "Core     ->>>>   work experience\n",
            "Java     ->>>>   work experience\n",
            ",     ->>>>   work experience\n",
            "Advance     ->>>>   work experience\n",
            "Java     ->>>>   work experience\n",
            "DEVELOPMENT     ->>>>   work experience\n",
            "TOOL     ->>>>   work experience\n",
            ":     ->>>>   work experience\n",
            "Eclipse     ->>>>   work experience\n",
            "DESCRIPTION     ->>>>   work experience\n",
            ":     ->>>>   work experience\n",
            "KX     ->>>>   work experience\n",
            "POS     ->>>>   work experience\n",
            "system     ->>>>   work experience\n",
            "has     ->>>>   work experience\n",
            "following     ->>>>   work experience\n",
            "modules     ->>>>   work experience\n",
            ":     ->>>>   work experience\n",
            "•     ->>>>   work experience\n",
            "Inventory     ->>>>   work experience\n",
            "•     ->>>>   work experience\n",
            "Floor     ->>>>   work experience\n",
            "Plan     ->>>>   work experience\n",
            "•     ->>>>   work experience\n",
            "Gift     ->>>>   work experience\n",
            "Cards     ->>>>   work experience\n",
            "•     ->>>>   work experience\n",
            "Supplier     ->>>>   work experience\n",
            "Management     ->>>>   work experience\n",
            "•     ->>>>   work experience\n",
            "Kitchen     ->>>>   work experience\n",
            "•     ->>>>   work experience\n",
            "Menu     ->>>>   work experience\n",
            "Management     ->>>>   work experience\n",
            "•     ->>>>   work experience\n",
            "Employee     ->>>>   work experience\n",
            "•     ->>>>   work experience\n",
            "Customer     ->>>>   work experience\n",
            "•     ->>>>   work experience\n",
            "Report     ->>>>   work experience\n",
            "•     ->>>>   work experience\n",
            "Table     ->>>>   work experience\n",
            "Management     ->>>>   work experience\n",
            "•     ->>>>   work experience\n",
            "B.Tech     ->>>>   work experience\n",
            "(     ->>>>   work experience\n",
            "CSE     ->>>>   work experience\n",
            ")     ->>>>   work experience\n",
            "from     ->>>>   work experience\n",
            "Baba     ->>>>   work experience\n",
            "Hira     ->>>>   work experience\n",
            "Singh     ->>>>   work experience\n",
            "Bhattal     ->>>>   work experience\n",
            "Institute     ->>>>   work experience\n",
            "of     ->>>>   work experience\n",
            "Engineering     ->>>>   work experience\n",
            "&     ->>>>   work experience\n",
            "Technology     ->>>>   work experience\n",
            "Sangrur     ->>>>   work experience\n",
            "(     ->>>>   work experience\n",
            "Punjab     ->>>>   work experience\n",
            ")     ->>>>   work experience\n",
            "(     ->>>>   work experience\n",
            "81     ->>>>   work experience\n",
            "%     ->>>>   work experience\n",
            ")     ->>>>   work experience\n",
            "•     ->>>>   work experience\n",
            "10     ->>>>   work experience\n",
            "+     ->>>>   work experience\n",
            "2     ->>>>   work experience\n",
            "from     ->>>>   work experience\n",
            "Punjab     ->>>>   work experience\n",
            "Board     ->>>>   work experience\n",
            "(     ->>>>   work experience\n",
            "78     ->>>>   work experience\n",
            "%     ->>>>   work experience\n",
            ")     ->>>>   work experience\n",
            "•     ->>>>   work experience\n",
            "10th     ->>>>   work experience\n",
            "from     ->>>>   work experience\n",
            "Punjab     ->>>>   work experience\n",
            "Board     ->>>>   work experience\n",
            "(     ->>>>   work experience\n",
            "76     ->>>>   work experience\n",
            "%     ->>>>   work experience\n",
            ")     ->>>>   work experience\n",
            "EXTRA     ->>>>   work experience\n",
            "CURRICULER     ->>>>   work experience\n",
            "ACTIVITIES     ->>>>   work experience\n",
            "•     ->>>>   work experience\n",
            "Part     ->>>>   work experience\n",
            "of     ->>>>   work experience\n",
            "college     ->>>>   work experience\n",
            "art     ->>>>   work experience\n",
            "&     ->>>>   work experience\n",
            "craft     ->>>>   work experience\n",
            "team     ->>>>   work experience\n",
            ".     ->>>>   work experience\n",
            "•     ->>>>   work experience\n",
            "Participate     ->>>>   work experience\n",
            "in     ->>>>   work experience\n",
            "Chess     ->>>>   work experience\n",
            "Competition     ->>>>   work experience\n",
            ".     ->>>>   work experience\n",
            "•     ->>>>   work experience\n",
            "Won     ->>>>   work experience\n",
            "best     ->>>>   work experience\n",
            "student     ->>>>   work experience\n",
            "of     ->>>>   work experience\n",
            "branch     ->>>>   work experience\n",
            "in     ->>>>   work experience\n",
            "college     ->>>>   work experience\n",
            ".     ->>>>   work experience\n",
            "•     ->>>>   work experience\n",
            "Participated     ->>>>   work experience\n",
            "as     ->>>>   work experience\n",
            "coordinator     ->>>>   work experience\n",
            "and     ->>>>   work experience\n",
            "volunteer     ->>>>   work experience\n",
            "in     ->>>>   work experience\n",
            "Cultural     ->>>>   work experience\n",
            "Functions     ->>>>   work experience\n",
            ".     ->>>>   work experience\n"
          ]
        }
      ]
    }
  ]
}