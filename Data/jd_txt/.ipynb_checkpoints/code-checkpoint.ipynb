{
 "cells": [
  {
   "cell_type": "code",
   "execution_count": 3,
   "id": "65cb7fb8-e17f-4c89-bc6c-e7c7a105cfc9",
   "metadata": {},
   "outputs": [],
   "source": [
    "import csv\n",
    "with open( \"jobdescriptions.csv\" , \"r\") as f :\n",
    "    csv_data = csv.reader(f)\n",
    "    header = next(csv_data)\n",
    "\n",
    "    count = 1 \n",
    "    for row in csv_data:\n",
    "        with open(\"jd%i.txt\" %count , \"w\" ) as f:\n",
    "            wr = csv.writer(f)\n",
    "            wr.writerow(row)\n",
    "            count +=1"
   ]
  },
  {
   "cell_type": "code",
   "execution_count": null,
   "id": "7caff7a2-9fb5-4655-b345-93768720de5b",
   "metadata": {},
   "outputs": [],
   "source": []
  }
 ],
 "metadata": {
  "kernelspec": {
   "display_name": "Python 3 (ipykernel)",
   "language": "python",
   "name": "python3"
  },
  "language_info": {
   "codemirror_mode": {
    "name": "ipython",
    "version": 3
   },
   "file_extension": ".py",
   "mimetype": "text/x-python",
   "name": "python",
   "nbconvert_exporter": "python",
   "pygments_lexer": "ipython3",
   "version": "3.9.7"
  }
 },
 "nbformat": 4,
 "nbformat_minor": 5
}
