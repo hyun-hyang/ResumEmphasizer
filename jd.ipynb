{
  "nbformat": 4,
  "nbformat_minor": 0,
  "metadata": {
    "colab": {
      "name": "jd.ipynb",
      "provenance": [],
      "authorship_tag": "ABX9TyOrkkm6QCjyfLwmRfOjzhSK",
      "include_colab_link": true
    },
    "kernelspec": {
      "name": "python3",
      "display_name": "Python 3"
    },
    "language_info": {
      "name": "python"
    },
    "accelerator": "GPU",
    "gpuClass": "standard"
  },
  "cells": [
    {
      "cell_type": "markdown",
      "metadata": {
        "id": "view-in-github",
        "colab_type": "text"
      },
      "source": [
        "<a href=\"https://colab.research.google.com/github/hyun-hyang/ResumEmphasizer/blob/main/jd.ipynb\" target=\"_parent\"><img src=\"https://colab.research.google.com/assets/colab-badge.svg\" alt=\"Open In Colab\"/></a>"
      ]
    },
    {
      "cell_type": "code",
      "source": [
        "!pip install spacy_transformers\n",
        "!pip install -U spacy"
      ],
      "metadata": {
        "colab": {
          "base_uri": "https://localhost:8080/"
        },
        "id": "SS_66NmsZcR8",
        "outputId": "c91c14b5-26ee-4a4b-90dd-f6567f7d0701"
      },
      "execution_count": 1,
      "outputs": [
        {
          "output_type": "stream",
          "name": "stdout",
          "text": [
            "Looking in indexes: https://pypi.org/simple, https://us-python.pkg.dev/colab-wheels/public/simple/\n",
            "Collecting spacy_transformers\n",
            "  Downloading spacy_transformers-1.1.7-py2.py3-none-any.whl (53 kB)\n",
            "\u001b[K     |████████████████████████████████| 53 kB 1.4 MB/s \n",
            "\u001b[?25hCollecting transformers<4.21.0,>=3.4.0\n",
            "  Downloading transformers-4.20.1-py3-none-any.whl (4.4 MB)\n",
            "\u001b[K     |████████████████████████████████| 4.4 MB 6.8 MB/s \n",
            "\u001b[?25hRequirement already satisfied: torch>=1.6.0 in /usr/local/lib/python3.7/dist-packages (from spacy_transformers) (1.12.0+cu113)\n",
            "Collecting spacy-alignments<1.0.0,>=0.7.2\n",
            "  Downloading spacy_alignments-0.8.5-cp37-cp37m-manylinux_2_17_x86_64.manylinux2014_x86_64.whl (1.1 MB)\n",
            "\u001b[K     |████████████████████████████████| 1.1 MB 52.9 MB/s \n",
            "\u001b[?25hRequirement already satisfied: srsly<3.0.0,>=2.4.0 in /usr/local/lib/python3.7/dist-packages (from spacy_transformers) (2.4.4)\n",
            "Requirement already satisfied: spacy<4.0.0,>=3.1.3 in /usr/local/lib/python3.7/dist-packages (from spacy_transformers) (3.4.1)\n",
            "Requirement already satisfied: jinja2 in /usr/local/lib/python3.7/dist-packages (from spacy<4.0.0,>=3.1.3->spacy_transformers) (2.11.3)\n",
            "Requirement already satisfied: packaging>=20.0 in /usr/local/lib/python3.7/dist-packages (from spacy<4.0.0,>=3.1.3->spacy_transformers) (21.3)\n",
            "Requirement already satisfied: requests<3.0.0,>=2.13.0 in /usr/local/lib/python3.7/dist-packages (from spacy<4.0.0,>=3.1.3->spacy_transformers) (2.23.0)\n",
            "Requirement already satisfied: wasabi<1.1.0,>=0.9.1 in /usr/local/lib/python3.7/dist-packages (from spacy<4.0.0,>=3.1.3->spacy_transformers) (0.10.1)\n",
            "Requirement already satisfied: tqdm<5.0.0,>=4.38.0 in /usr/local/lib/python3.7/dist-packages (from spacy<4.0.0,>=3.1.3->spacy_transformers) (4.64.0)\n",
            "Requirement already satisfied: spacy-loggers<2.0.0,>=1.0.0 in /usr/local/lib/python3.7/dist-packages (from spacy<4.0.0,>=3.1.3->spacy_transformers) (1.0.3)\n",
            "Requirement already satisfied: setuptools in /usr/local/lib/python3.7/dist-packages (from spacy<4.0.0,>=3.1.3->spacy_transformers) (57.4.0)\n",
            "Requirement already satisfied: preshed<3.1.0,>=3.0.2 in /usr/local/lib/python3.7/dist-packages (from spacy<4.0.0,>=3.1.3->spacy_transformers) (3.0.6)\n",
            "Requirement already satisfied: catalogue<2.1.0,>=2.0.6 in /usr/local/lib/python3.7/dist-packages (from spacy<4.0.0,>=3.1.3->spacy_transformers) (2.0.8)\n",
            "Requirement already satisfied: murmurhash<1.1.0,>=0.28.0 in /usr/local/lib/python3.7/dist-packages (from spacy<4.0.0,>=3.1.3->spacy_transformers) (1.0.7)\n",
            "Requirement already satisfied: typing-extensions<4.2.0,>=3.7.4 in /usr/local/lib/python3.7/dist-packages (from spacy<4.0.0,>=3.1.3->spacy_transformers) (4.1.1)\n",
            "Requirement already satisfied: thinc<8.2.0,>=8.1.0 in /usr/local/lib/python3.7/dist-packages (from spacy<4.0.0,>=3.1.3->spacy_transformers) (8.1.0)\n",
            "Requirement already satisfied: spacy-legacy<3.1.0,>=3.0.9 in /usr/local/lib/python3.7/dist-packages (from spacy<4.0.0,>=3.1.3->spacy_transformers) (3.0.9)\n",
            "Requirement already satisfied: cymem<2.1.0,>=2.0.2 in /usr/local/lib/python3.7/dist-packages (from spacy<4.0.0,>=3.1.3->spacy_transformers) (2.0.6)\n",
            "Requirement already satisfied: typer<0.5.0,>=0.3.0 in /usr/local/lib/python3.7/dist-packages (from spacy<4.0.0,>=3.1.3->spacy_transformers) (0.4.2)\n",
            "Requirement already satisfied: numpy>=1.15.0 in /usr/local/lib/python3.7/dist-packages (from spacy<4.0.0,>=3.1.3->spacy_transformers) (1.21.6)\n",
            "Requirement already satisfied: pathy>=0.3.5 in /usr/local/lib/python3.7/dist-packages (from spacy<4.0.0,>=3.1.3->spacy_transformers) (0.6.2)\n",
            "Requirement already satisfied: pydantic!=1.8,!=1.8.1,<1.10.0,>=1.7.4 in /usr/local/lib/python3.7/dist-packages (from spacy<4.0.0,>=3.1.3->spacy_transformers) (1.9.1)\n",
            "Requirement already satisfied: langcodes<4.0.0,>=3.2.0 in /usr/local/lib/python3.7/dist-packages (from spacy<4.0.0,>=3.1.3->spacy_transformers) (3.3.0)\n",
            "Requirement already satisfied: zipp>=0.5 in /usr/local/lib/python3.7/dist-packages (from catalogue<2.1.0,>=2.0.6->spacy<4.0.0,>=3.1.3->spacy_transformers) (3.8.1)\n",
            "Requirement already satisfied: pyparsing!=3.0.5,>=2.0.2 in /usr/local/lib/python3.7/dist-packages (from packaging>=20.0->spacy<4.0.0,>=3.1.3->spacy_transformers) (3.0.9)\n",
            "Requirement already satisfied: smart-open<6.0.0,>=5.2.1 in /usr/local/lib/python3.7/dist-packages (from pathy>=0.3.5->spacy<4.0.0,>=3.1.3->spacy_transformers) (5.2.1)\n",
            "Requirement already satisfied: chardet<4,>=3.0.2 in /usr/local/lib/python3.7/dist-packages (from requests<3.0.0,>=2.13.0->spacy<4.0.0,>=3.1.3->spacy_transformers) (3.0.4)\n",
            "Requirement already satisfied: urllib3!=1.25.0,!=1.25.1,<1.26,>=1.21.1 in /usr/local/lib/python3.7/dist-packages (from requests<3.0.0,>=2.13.0->spacy<4.0.0,>=3.1.3->spacy_transformers) (1.24.3)\n",
            "Requirement already satisfied: idna<3,>=2.5 in /usr/local/lib/python3.7/dist-packages (from requests<3.0.0,>=2.13.0->spacy<4.0.0,>=3.1.3->spacy_transformers) (2.10)\n",
            "Requirement already satisfied: certifi>=2017.4.17 in /usr/local/lib/python3.7/dist-packages (from requests<3.0.0,>=2.13.0->spacy<4.0.0,>=3.1.3->spacy_transformers) (2022.6.15)\n",
            "Requirement already satisfied: blis<0.8.0,>=0.7.8 in /usr/local/lib/python3.7/dist-packages (from thinc<8.2.0,>=8.1.0->spacy<4.0.0,>=3.1.3->spacy_transformers) (0.7.8)\n",
            "Collecting huggingface-hub<1.0,>=0.1.0\n",
            "  Downloading huggingface_hub-0.8.1-py3-none-any.whl (101 kB)\n",
            "\u001b[K     |████████████████████████████████| 101 kB 11.8 MB/s \n",
            "\u001b[?25hRequirement already satisfied: regex!=2019.12.17 in /usr/local/lib/python3.7/dist-packages (from transformers<4.21.0,>=3.4.0->spacy_transformers) (2022.6.2)\n",
            "Requirement already satisfied: importlib-metadata in /usr/local/lib/python3.7/dist-packages (from transformers<4.21.0,>=3.4.0->spacy_transformers) (4.12.0)\n",
            "Collecting tokenizers!=0.11.3,<0.13,>=0.11.1\n",
            "  Downloading tokenizers-0.12.1-cp37-cp37m-manylinux_2_12_x86_64.manylinux2010_x86_64.whl (6.6 MB)\n",
            "\u001b[K     |████████████████████████████████| 6.6 MB 54.1 MB/s \n",
            "\u001b[?25hCollecting pyyaml>=5.1\n",
            "  Downloading PyYAML-6.0-cp37-cp37m-manylinux_2_5_x86_64.manylinux1_x86_64.manylinux_2_12_x86_64.manylinux2010_x86_64.whl (596 kB)\n",
            "\u001b[K     |████████████████████████████████| 596 kB 71.7 MB/s \n",
            "\u001b[?25hRequirement already satisfied: filelock in /usr/local/lib/python3.7/dist-packages (from transformers<4.21.0,>=3.4.0->spacy_transformers) (3.7.1)\n",
            "Requirement already satisfied: click<9.0.0,>=7.1.1 in /usr/local/lib/python3.7/dist-packages (from typer<0.5.0,>=0.3.0->spacy<4.0.0,>=3.1.3->spacy_transformers) (7.1.2)\n",
            "Requirement already satisfied: MarkupSafe>=0.23 in /usr/local/lib/python3.7/dist-packages (from jinja2->spacy<4.0.0,>=3.1.3->spacy_transformers) (2.0.1)\n",
            "Installing collected packages: pyyaml, tokenizers, huggingface-hub, transformers, spacy-alignments, spacy-transformers\n",
            "  Attempting uninstall: pyyaml\n",
            "    Found existing installation: PyYAML 3.13\n",
            "    Uninstalling PyYAML-3.13:\n",
            "      Successfully uninstalled PyYAML-3.13\n",
            "Successfully installed huggingface-hub-0.8.1 pyyaml-6.0 spacy-alignments-0.8.5 spacy-transformers-1.1.7 tokenizers-0.12.1 transformers-4.20.1\n",
            "Looking in indexes: https://pypi.org/simple, https://us-python.pkg.dev/colab-wheels/public/simple/\n",
            "Requirement already satisfied: spacy in /usr/local/lib/python3.7/dist-packages (3.4.1)\n",
            "Requirement already satisfied: thinc<8.2.0,>=8.1.0 in /usr/local/lib/python3.7/dist-packages (from spacy) (8.1.0)\n",
            "Requirement already satisfied: spacy-legacy<3.1.0,>=3.0.9 in /usr/local/lib/python3.7/dist-packages (from spacy) (3.0.9)\n",
            "Requirement already satisfied: spacy-loggers<2.0.0,>=1.0.0 in /usr/local/lib/python3.7/dist-packages (from spacy) (1.0.3)\n",
            "Requirement already satisfied: murmurhash<1.1.0,>=0.28.0 in /usr/local/lib/python3.7/dist-packages (from spacy) (1.0.7)\n",
            "Requirement already satisfied: cymem<2.1.0,>=2.0.2 in /usr/local/lib/python3.7/dist-packages (from spacy) (2.0.6)\n",
            "Requirement already satisfied: numpy>=1.15.0 in /usr/local/lib/python3.7/dist-packages (from spacy) (1.21.6)\n",
            "Requirement already satisfied: srsly<3.0.0,>=2.4.3 in /usr/local/lib/python3.7/dist-packages (from spacy) (2.4.4)\n",
            "Requirement already satisfied: pydantic!=1.8,!=1.8.1,<1.10.0,>=1.7.4 in /usr/local/lib/python3.7/dist-packages (from spacy) (1.9.1)\n",
            "Requirement already satisfied: tqdm<5.0.0,>=4.38.0 in /usr/local/lib/python3.7/dist-packages (from spacy) (4.64.0)\n",
            "Requirement already satisfied: langcodes<4.0.0,>=3.2.0 in /usr/local/lib/python3.7/dist-packages (from spacy) (3.3.0)\n",
            "Requirement already satisfied: preshed<3.1.0,>=3.0.2 in /usr/local/lib/python3.7/dist-packages (from spacy) (3.0.6)\n",
            "Requirement already satisfied: catalogue<2.1.0,>=2.0.6 in /usr/local/lib/python3.7/dist-packages (from spacy) (2.0.8)\n",
            "Requirement already satisfied: typer<0.5.0,>=0.3.0 in /usr/local/lib/python3.7/dist-packages (from spacy) (0.4.2)\n",
            "Requirement already satisfied: packaging>=20.0 in /usr/local/lib/python3.7/dist-packages (from spacy) (21.3)\n",
            "Requirement already satisfied: typing-extensions<4.2.0,>=3.7.4 in /usr/local/lib/python3.7/dist-packages (from spacy) (4.1.1)\n",
            "Requirement already satisfied: requests<3.0.0,>=2.13.0 in /usr/local/lib/python3.7/dist-packages (from spacy) (2.23.0)\n",
            "Requirement already satisfied: setuptools in /usr/local/lib/python3.7/dist-packages (from spacy) (57.4.0)\n",
            "Requirement already satisfied: pathy>=0.3.5 in /usr/local/lib/python3.7/dist-packages (from spacy) (0.6.2)\n",
            "Requirement already satisfied: wasabi<1.1.0,>=0.9.1 in /usr/local/lib/python3.7/dist-packages (from spacy) (0.10.1)\n",
            "Requirement already satisfied: jinja2 in /usr/local/lib/python3.7/dist-packages (from spacy) (2.11.3)\n",
            "Requirement already satisfied: zipp>=0.5 in /usr/local/lib/python3.7/dist-packages (from catalogue<2.1.0,>=2.0.6->spacy) (3.8.1)\n",
            "Requirement already satisfied: pyparsing!=3.0.5,>=2.0.2 in /usr/local/lib/python3.7/dist-packages (from packaging>=20.0->spacy) (3.0.9)\n",
            "Requirement already satisfied: smart-open<6.0.0,>=5.2.1 in /usr/local/lib/python3.7/dist-packages (from pathy>=0.3.5->spacy) (5.2.1)\n",
            "Requirement already satisfied: urllib3!=1.25.0,!=1.25.1,<1.26,>=1.21.1 in /usr/local/lib/python3.7/dist-packages (from requests<3.0.0,>=2.13.0->spacy) (1.24.3)\n",
            "Requirement already satisfied: idna<3,>=2.5 in /usr/local/lib/python3.7/dist-packages (from requests<3.0.0,>=2.13.0->spacy) (2.10)\n",
            "Requirement already satisfied: chardet<4,>=3.0.2 in /usr/local/lib/python3.7/dist-packages (from requests<3.0.0,>=2.13.0->spacy) (3.0.4)\n",
            "Requirement already satisfied: certifi>=2017.4.17 in /usr/local/lib/python3.7/dist-packages (from requests<3.0.0,>=2.13.0->spacy) (2022.6.15)\n",
            "Requirement already satisfied: blis<0.8.0,>=0.7.8 in /usr/local/lib/python3.7/dist-packages (from thinc<8.2.0,>=8.1.0->spacy) (0.7.8)\n",
            "Requirement already satisfied: click<9.0.0,>=7.1.1 in /usr/local/lib/python3.7/dist-packages (from typer<0.5.0,>=0.3.0->spacy) (7.1.2)\n",
            "Requirement already satisfied: MarkupSafe>=0.23 in /usr/local/lib/python3.7/dist-packages (from jinja2->spacy) (2.0.1)\n"
          ]
        }
      ]
    },
    {
      "cell_type": "code",
      "source": [
        "import spacy\n",
        "from spacy.tokens import DocBin\n",
        "import json"
      ],
      "metadata": {
        "id": "gqtU4KecZecD"
      },
      "execution_count": 2,
      "outputs": []
    },
    {
      "cell_type": "code",
      "source": [
        "spacy.__version__"
      ],
      "metadata": {
        "colab": {
          "base_uri": "https://localhost:8080/",
          "height": 35
        },
        "id": "YiqFMg-cZeZq",
        "outputId": "fbb0d5c5-e141-44ba-a311-0f26e49da1cd"
      },
      "execution_count": 3,
      "outputs": [
        {
          "output_type": "execute_result",
          "data": {
            "text/plain": [
              "'3.4.1'"
            ],
            "application/vnd.google.colaboratory.intrinsic+json": {
              "type": "string"
            }
          },
          "metadata": {},
          "execution_count": 3
        }
      ]
    },
    {
      "cell_type": "code",
      "source": [
        "!nvidia-smi"
      ],
      "metadata": {
        "colab": {
          "base_uri": "https://localhost:8080/"
        },
        "id": "-SCGyXWGZeXZ",
        "outputId": "2591020e-c30d-4686-f38b-0c7a7a33ca89"
      },
      "execution_count": 4,
      "outputs": [
        {
          "output_type": "stream",
          "name": "stdout",
          "text": [
            "Tue Aug  9 16:20:05 2022       \n",
            "+-----------------------------------------------------------------------------+\n",
            "| NVIDIA-SMI 460.32.03    Driver Version: 460.32.03    CUDA Version: 11.2     |\n",
            "|-------------------------------+----------------------+----------------------+\n",
            "| GPU  Name        Persistence-M| Bus-Id        Disp.A | Volatile Uncorr. ECC |\n",
            "| Fan  Temp  Perf  Pwr:Usage/Cap|         Memory-Usage | GPU-Util  Compute M. |\n",
            "|                               |                      |               MIG M. |\n",
            "|===============================+======================+======================|\n",
            "|   0  Tesla P100-PCIE...  Off  | 00000000:00:04.0 Off |                    0 |\n",
            "| N/A   37C    P0    34W / 250W |    407MiB / 16280MiB |      0%      Default |\n",
            "|                               |                      |                  N/A |\n",
            "+-------------------------------+----------------------+----------------------+\n",
            "                                                                               \n",
            "+-----------------------------------------------------------------------------+\n",
            "| Processes:                                                                  |\n",
            "|  GPU   GI   CI        PID   Type   Process name                  GPU Memory |\n",
            "|        ID   ID                                                   Usage      |\n",
            "|=============================================================================|\n",
            "+-----------------------------------------------------------------------------+\n"
          ]
        }
      ]
    },
    {
      "cell_type": "code",
      "source": [
        "!git clone 'https://github.com/hyun-hyang/ResumEmphasizer.git'"
      ],
      "metadata": {
        "colab": {
          "base_uri": "https://localhost:8080/"
        },
        "id": "OExUO_KnZeVd",
        "outputId": "97c6e3b3-5128-49bf-915d-55865c0c9d3f"
      },
      "execution_count": 5,
      "outputs": [
        {
          "output_type": "stream",
          "name": "stdout",
          "text": [
            "Cloning into 'ResumEmphasizer'...\n",
            "remote: Enumerating objects: 7485, done.\u001b[K\n",
            "remote: Counting objects: 100% (117/117), done.\u001b[K\n",
            "remote: Compressing objects: 100% (94/94), done.\u001b[K\n",
            "remote: Total 7485 (delta 35), reused 95 (delta 23), pack-reused 7368\u001b[K\n",
            "Receiving objects: 100% (7485/7485), 38.00 MiB | 22.02 MiB/s, done.\n",
            "Resolving deltas: 100% (805/805), done.\n"
          ]
        }
      ]
    },
    {
      "cell_type": "code",
      "source": [
        "%cd /content/ResumEmphasizer\n",
        "!git pull"
      ],
      "metadata": {
        "colab": {
          "base_uri": "https://localhost:8080/"
        },
        "id": "XtCEKtpVZeSy",
        "outputId": "8456ae93-ee76-4739-ecc7-7f406fbbcbf9"
      },
      "execution_count": 6,
      "outputs": [
        {
          "output_type": "stream",
          "name": "stdout",
          "text": [
            "/content/ResumEmphasizer\n",
            "Already up to date.\n"
          ]
        }
      ]
    },
    {
      "cell_type": "code",
      "source": [
        "cv_data = json.load(open('/content/ResumEmphasizer/Data_annoctated/mergerd jd.json','r'))"
      ],
      "metadata": {
        "id": "tB4OIMH_ZeQe"
      },
      "execution_count": 7,
      "outputs": []
    },
    {
      "cell_type": "code",
      "source": [
        "len(cv_data)"
      ],
      "metadata": {
        "colab": {
          "base_uri": "https://localhost:8080/"
        },
        "id": "hYpuvNEoZeOL",
        "outputId": "2d06b605-6966-46f6-9629-de5b900c9c1a"
      },
      "execution_count": 8,
      "outputs": [
        {
          "output_type": "execute_result",
          "data": {
            "text/plain": [
              "159"
            ]
          },
          "metadata": {},
          "execution_count": 8
        }
      ]
    },
    {
      "cell_type": "code",
      "source": [
        "!python -m spacy init fill-config /content/ResumEmphasizer/Data/base_config.cfg /content/ResumEmphasizer/config.cfg"
      ],
      "metadata": {
        "colab": {
          "base_uri": "https://localhost:8080/"
        },
        "id": "YDHyBiRvZeL3",
        "outputId": "7d65bf46-7f8d-44c9-a7ac-176bf2e086a8"
      },
      "execution_count": 9,
      "outputs": [
        {
          "output_type": "stream",
          "name": "stdout",
          "text": [
            "\u001b[38;5;2m✔ Auto-filled config with all values\u001b[0m\n",
            "\u001b[38;5;2m✔ Saved config\u001b[0m\n",
            "/content/ResumEmphasizer/config.cfg\n",
            "You can now add your data and train your pipeline:\n",
            "python -m spacy train config.cfg --paths.train ./train.spacy --paths.dev ./dev.spacy\n"
          ]
        }
      ]
    },
    {
      "cell_type": "code",
      "source": [
        "cv_data[0]"
      ],
      "metadata": {
        "colab": {
          "base_uri": "https://localhost:8080/"
        },
        "id": "XtL0w6auZeJj",
        "outputId": "ad670270-92d5-4089-cb3b-b4d8ba66fbf7"
      },
      "execution_count": 10,
      "outputs": [
        {
          "output_type": "execute_result",
          "data": {
            "text/plain": [
              "{'id': 19,\n",
              " 'label': [[0, 5, 'company'],\n",
              "  [337, 357, 'project'],\n",
              "  [362, 418, 'project'],\n",
              "  [421, 459, 'job'],\n",
              "  [475, 481, 'required skills'],\n",
              "  [483, 488, 'required skills'],\n",
              "  [489, 500, 'required skills'],\n",
              "  [505, 513, 'required skills'],\n",
              "  [642, 690, 'project'],\n",
              "  [695, 772, 'project'],\n",
              "  [809, 847, 'benefit'],\n",
              "  [887, 927, 'benefit'],\n",
              "  [989, 1057, 'benefit'],\n",
              "  [1160, 1218, 'benefit'],\n",
              "  [1464, 1532, 'benefit']],\n",
              " 'text': \"Yapz is a cutting edge, growth-stage startup that allows you to find, connect, and co-host events with clubs in your local area. In addition to their schooling, social, family and work lives, college students partake in extracurricular clubs on campus. To allocate enough time to make those clubs successful is extremely difficult. Yapz makes running a club and finding partner clubs for events easy and time efficient.\\n\\nWe are looking for a Backend Developer who works with Python, flask, SQLAlchemy and Postgres. The developer should also have a practical understanding of how the backend interacts with the frontend. The roll will include developing the backend of the mobile application and analyzing the user's problems to best reflect solutions within the technology.\\n\\nFor the position, we are offering $10-$30 an hour for about three months. After the brief trial period, we will option up to 5% of the company as equity, effectively making you a part of the founding team. This is the real incentive of the position at this young stage of our growth. As the company grows, formal salaries will take effect on top of the equity incentives. In addition, salaries will grow in accordance with the company's growth, so as the company expands the developer's salary will expand as well.\\n\\nFrom our past experience, we’ve concluded that the perfect developer should be outspoken and brings a different perspective to discussions. The benefit of a startup is that the developers have large control of the direction of the technology. As a result, we want someone vocal who is unrelenting and will always challenge ideas to make sure that the chosen path is the correct one.\"}"
            ]
          },
          "metadata": {},
          "execution_count": 10
        }
      ]
    },
    {
      "cell_type": "code",
      "source": [
        "def get_spacy_doc(file, data):\n",
        "  nlp=spacy.blank('en')\n",
        "  db=DocBin()\n",
        "\n",
        "  for item in data:\n",
        "    text = item['text']\n",
        "    doc=nlp.make_doc(text)\n",
        "    annot=item['label']\n",
        "\n",
        "    \n",
        "    ents=[]\n",
        "    entity_indices=[]\n",
        "\n",
        "    for start, end, label in annot:\n",
        "      skip_entity=False\n",
        "      for idx in range(start, end):\n",
        "        if idx in entity_indices:\n",
        "          skip_entity=True\n",
        "          break\n",
        "      if skip_entity==True:\n",
        "         continue\n",
        "        \n",
        "      entity_indices = entity_indices + list(range(start, end))\n",
        "\n",
        "      try:\n",
        "        span=doc.char_span(start,end,label=label,alignment_mode='contract')\n",
        "      except:\n",
        "        continue\n",
        "        \n",
        "      if span is None:\n",
        "        err_data=str([start,end]) + \"     \" + str(text) + \"\\n\"\n",
        "        file.write(err_data)\n",
        "        \n",
        "      else:\n",
        "        ents.append(span)\n",
        "\n",
        "    try:\n",
        "        doc.ents=ents\n",
        "        db.add(doc)\n",
        "    except:\n",
        "      pass\n",
        "\n",
        "\n",
        "  return db"
      ],
      "metadata": {
        "id": "1w3DDjd2ZeHq"
      },
      "execution_count": 11,
      "outputs": []
    },
    {
      "cell_type": "code",
      "source": [
        "from sklearn.model_selection import train_test_split\n",
        "train, test=train_test_split(cv_data,test_size=0.3)"
      ],
      "metadata": {
        "id": "5La_wEAmZeFW"
      },
      "execution_count": 12,
      "outputs": []
    },
    {
      "cell_type": "code",
      "source": [
        "len(train), len(test)"
      ],
      "metadata": {
        "colab": {
          "base_uri": "https://localhost:8080/"
        },
        "id": "VpePIV8rZeDg",
        "outputId": "337b7901-6f66-4c4e-f953-7cdcccdfc3d3"
      },
      "execution_count": 13,
      "outputs": [
        {
          "output_type": "execute_result",
          "data": {
            "text/plain": [
              "(111, 48)"
            ]
          },
          "metadata": {},
          "execution_count": 13
        }
      ]
    },
    {
      "cell_type": "code",
      "source": [
        "file=open('error.txt','w')\n",
        "\n",
        "db=get_spacy_doc(file, train)\n",
        "db.to_disk('train_data.spacy')\n",
        "\n",
        "db=get_spacy_doc(file, test)\n",
        "db.to_disk('test_data.spacy')\n",
        "\n",
        "file.close()"
      ],
      "metadata": {
        "id": "ddrrJv2GZeBJ"
      },
      "execution_count": 14,
      "outputs": []
    },
    {
      "cell_type": "code",
      "source": [
        "len(db.tokens)"
      ],
      "metadata": {
        "colab": {
          "base_uri": "https://localhost:8080/"
        },
        "id": "vG4gUyNdZd-2",
        "outputId": "ae26e255-20b3-4475-a898-b28b30503e84"
      },
      "execution_count": 15,
      "outputs": [
        {
          "output_type": "execute_result",
          "data": {
            "text/plain": [
              "48"
            ]
          },
          "metadata": {},
          "execution_count": 15
        }
      ]
    },
    {
      "cell_type": "code",
      "source": [
        "!python -m spacy train /content/ResumEmphasizer/config.cfg --output ./output --paths.train ./train_data.spacy --paths.dev ./test_data.spacy --gpu-id 0"
      ],
      "metadata": {
        "colab": {
          "base_uri": "https://localhost:8080/"
        },
        "id": "WmjCPh6uZd9I",
        "outputId": "50135fa2-3adc-4ef8-a0eb-5f326a9085f9"
      },
      "execution_count": 20,
      "outputs": [
        {
          "output_type": "stream",
          "name": "stdout",
          "text": [
            "\u001b[38;5;4mℹ Saving to output directory: output\u001b[0m\n",
            "\u001b[38;5;4mℹ Using GPU: 0\u001b[0m\n",
            "\u001b[1m\n",
            "=========================== Initializing pipeline ===========================\u001b[0m\n",
            "[2022-08-09 16:23:34,760] [INFO] Set up nlp object from config\n",
            "[2022-08-09 16:23:34,770] [INFO] Pipeline: ['transformer', 'ner']\n",
            "[2022-08-09 16:23:34,774] [INFO] Created vocabulary\n",
            "[2022-08-09 16:23:34,775] [INFO] Finished initializing nlp object\n",
            "Some weights of the model checkpoint at roberta-base were not used when initializing RobertaModel: ['lm_head.dense.bias', 'lm_head.decoder.weight', 'lm_head.layer_norm.weight', 'lm_head.bias', 'lm_head.layer_norm.bias', 'lm_head.dense.weight']\n",
            "- This IS expected if you are initializing RobertaModel from the checkpoint of a model trained on another task or with another architecture (e.g. initializing a BertForSequenceClassification model from a BertForPreTraining model).\n",
            "- This IS NOT expected if you are initializing RobertaModel from the checkpoint of a model that you expect to be exactly identical (initializing a BertForSequenceClassification model from a BertForSequenceClassification model).\n",
            "[2022-08-09 16:23:47,478] [INFO] Initialized pipeline components: ['transformer', 'ner']\n",
            "\u001b[38;5;2m✔ Initialized pipeline\u001b[0m\n",
            "\u001b[1m\n",
            "============================= Training pipeline =============================\u001b[0m\n",
            "\u001b[38;5;4mℹ Pipeline: ['transformer', 'ner']\u001b[0m\n",
            "\u001b[38;5;4mℹ Initial learn rate: 0.0\u001b[0m\n",
            "E    #       LOSS TRANS...  LOSS NER  ENTS_F  ENTS_P  ENTS_R  SCORE \n",
            "---  ------  -------------  --------  ------  ------  ------  ------\n",
            "  0       0        1148.14   1672.19    1.91    1.00   19.70    0.02\n",
            "  6     200      624355.74  95457.90    8.04   20.00    5.03    0.08\n",
            " 13     400      352491.23  52943.45   11.36   22.47    7.60    0.11\n",
            " 20     600      125768.17  45593.11   20.93   31.21   15.74    0.21\n",
            " 26     800       62172.35  35658.02   32.42   29.73   35.65    0.32\n",
            " 33    1000       49236.83  34985.51   24.63   25.08   24.20    0.25\n",
            " 40    1200       35350.78  31632.20   26.52   25.32   27.84    0.27\n",
            " 46    1400       33285.85  26826.93   29.10   36.51   24.20    0.29\n",
            " 53    1600        9708.75  22027.17   32.62   29.91   35.87    0.33\n",
            " 60    1800        9623.89  20658.81   33.04   36.95   29.87    0.33\n",
            " 66    2000        8166.63  18422.59   32.07   31.03   33.19    0.32\n",
            "\u001b[38;5;2m✔ Saved pipeline to output directory\u001b[0m\n",
            "output/model-last\n"
          ]
        }
      ]
    },
    {
      "cell_type": "code",
      "source": [
        "nlp = spacy.load('/content/ResumEmphasizer/output/model-best')"
      ],
      "metadata": {
        "id": "u_qkbGABZd6-"
      },
      "execution_count": 21,
      "outputs": []
    },
    {
      "cell_type": "code",
      "source": [
        "!pip install PyMuPDF"
      ],
      "metadata": {
        "colab": {
          "base_uri": "https://localhost:8080/"
        },
        "id": "01MqI55OZd4u",
        "outputId": "77cadb61-7b58-48d3-fa75-809ca934e08e"
      },
      "execution_count": 22,
      "outputs": [
        {
          "output_type": "stream",
          "name": "stdout",
          "text": [
            "Looking in indexes: https://pypi.org/simple, https://us-python.pkg.dev/colab-wheels/public/simple/\n",
            "Collecting PyMuPDF\n",
            "  Using cached PyMuPDF-1.20.1-cp37-cp37m-manylinux_2_17_x86_64.manylinux2014_x86_64.whl (8.8 MB)\n",
            "Installing collected packages: PyMuPDF\n",
            "Successfully installed PyMuPDF-1.20.1\n"
          ]
        }
      ]
    },
    {
      "cell_type": "code",
      "source": [
        "import sys, fitz"
      ],
      "metadata": {
        "id": "KXWJJHuiZd2c"
      },
      "execution_count": 23,
      "outputs": []
    },
    {
      "cell_type": "code",
      "source": [
        "for x in range(1,11):\n",
        "  fname='/content/ResumEmphasizer/test_jd/'+str(x)+'.pdf'\n",
        "  doc=fitz.open(fname)\n",
        "  print('jd num '+str(x)+' test')\n",
        "  text=\" \"\n",
        "  for page in doc:\n",
        "    text=text+str(page.get_text())\n",
        "  text=text.strip()\n",
        "  text=' '.join(text.split())\n",
        "  \n",
        "  doc=nlp(text)\n",
        "  for ent in doc.ents:\n",
        "    print(ent.text, \" ->>>>>> \", ent.label_)\n",
        "  print('\\n')\n"
      ],
      "metadata": {
        "colab": {
          "base_uri": "https://localhost:8080/"
        },
        "id": "dAgZ71o9Zdiu",
        "outputId": "c026a8df-4c32-41bb-ea5f-c7ef0e49ed07"
      },
      "execution_count": 25,
      "outputs": [
        {
          "output_type": "stream",
          "name": "stdout",
          "text": [
            "jd num 1 test\n",
            "Django Developer  ->>>>>>  job\n",
            "Self managing, comfortable with remote working Desire to learn  ->>>>>>  required skills\n",
            "1+ years of Python software development  ->>>>>>  required year\n",
            "2+ years in any modern language  ->>>>>>  required year\n",
            "XML  ->>>>>>  required skills\n",
            "REST  ->>>>>>  required skills\n",
            "Software architecture patterns  ->>>>>>  required skills\n",
            "Web Frameworks  ->>>>>>  required skills\n",
            "GIT version control  ->>>>>>  required skills\n",
            "MySQL Database Message based  ->>>>>>  required skills\n",
            "Frontend skills  ->>>>>>  required skills\n",
            "HTML  ->>>>>>  required skills\n",
            "CSS  ->>>>>>  required skills\n",
            "Javascript  ->>>>>>  required skills\n",
            "JQuery  ->>>>>>  required skills\n",
            "B.Sc - Computers, Electronics PG: Any Postgraduate - Any Specialization Doctorate: Any Doctorate - Any Specialization\"  ->>>>>>  required skills\n",
            "\n",
            "\n",
            "jd num 2 test\n",
            "DevOps Engineer  ->>>>>>  job\n",
            "Kubernetes complete hands-on (3-5 yrs min  ->>>>>>  preferred skills\n",
            "Docker  ->>>>>>  preferred skills\n",
            "AWS  ->>>>>>  preferred skills\n",
            "Jenkins  ->>>>>>  preferred skills\n",
            "??00,000.00 - ??,600,000.00 per year  ->>>>>>  benefit\n",
            "Docker  ->>>>>>  preferred skills\n",
            "AWS  ->>>>>>  preferred skills\n",
            "Kubernets  ->>>>>>  preferred skills\n",
            "Jenkins  ->>>>>>  preferred skills\n",
            "\n",
            "\n",
            "jd num 3 test\n",
            "Java Developer  ->>>>>>  job\n",
            "Core Java  ->>>>>>  required skills\n",
            "JSP  ->>>>>>  required skills\n",
            "Servlets  ->>>>>>  required skills\n",
            "HTML  ->>>>>>  required skills\n",
            "CSS  ->>>>>>  required skills\n",
            "AJAX  ->>>>>>  required skills\n",
            "XML  ->>>>>>  required skills\n",
            "JSON  ->>>>>>  required skills\n",
            "Javascript  ->>>>>>  required skills\n",
            "HTTP  ->>>>>>  required skills\n",
            "TCP  ->>>>>>  required skills\n",
            "FTP  ->>>>>>  required skills\n",
            "UDP  ->>>>>>  required skills\n",
            "Sockets  ->>>>>>  required skills\n",
            "RMI  ->>>>>>  required skills\n",
            "RCP  ->>>>>>  required skills\n",
            "JBOSS  ->>>>>>  preferred skills\n",
            "SOAP  ->>>>>>  preferred skills\n",
            "Hibernate  ->>>>>>  preferred skills\n",
            "JPA  ->>>>>>  benefit\n",
            "??5,000.00 - ??0,000.00 per month  ->>>>>>  benefit\n",
            "Java development  ->>>>>>  required skills\n",
            "Bachelor's  ->>>>>>  required skills\n",
            "\n",
            "\n",
            "jd num 4 test\n",
            "PHP Developer  ->>>>>>  job\n",
            "BBC Global Services  ->>>>>>  company\n",
            "PHP developer  ->>>>>>  job\n",
            "Minimum 5 years of experience  ->>>>>>  required year\n",
            "PHP  ->>>>>>  required skills\n",
            "Laravel  ->>>>>>  required skills\n",
            "Develop, record and maintain cutting edge web-based PHP applications on portal 쨌 Ensure HTML, CSS, and shared JavaScript is valid and consistent across applications 쨌 Prepare and maintain all applications utilizing standard development tools 쨌 Utilize backend data services and contribute to increase existing data services API 쨌 Contribute to the entire web application development life cycle right from concept stage to delivery and post-launch support  ->>>>>>  project\n",
            "Document the development process, architecture, and standard components 쨌 Coordinate with co-developers and keeps project manager well informed of the status of development effort 쨌 Keep abreast of new trends and best practices in web development PHP  ->>>>>>  required skills\n",
            "Laravel  ->>>>>>  required skills\n",
            "Previous working experience as a PHP / Larave / Vue.js developer for a minimum of 3 years  ->>>>>>  required skills\n",
            "MySQL  ->>>>>>  required skills\n",
            "BS/MS degree in Computer Science, Engineering, MIS or similar relevant field  ->>>>>>  required skills\n",
            "Hands-on experience with SQL schema design, SOLID principles, REST API design 쨌 Software testing (PHPUnit, PHPSpec, Behat) 쨌 MySQL profiling and query optimization  ->>>>>>  required skills\n",
            "Creative and efficient problem solver In addition to these, they have to have amazing communication skills, both written and verbal, in English  ->>>>>>  required skills\n",
            "??0,000.00 per month COVID-19 considerations  ->>>>>>  benefit\n",
            "3 years  ->>>>>>  required year\n",
            "Bachelor's  ->>>>>>  required skills\n",
            "Core PHP  ->>>>>>  required skills\n",
            "English  ->>>>>>  required skills\n",
            "PHP  ->>>>>>  required skills\n",
            "JavaScript  ->>>>>>  required skills\n",
            "\n",
            "\n",
            "jd num 5 test\n",
            "Backend Developer  ->>>>>>  job\n",
            "YorYo Technologies Ltd  ->>>>>>  company\n",
            "Software Engineer  ->>>>>>  job\n",
            "Back End, Java  ->>>>>>  department\n",
            "In-depth hands on experience with any programming languages including C/C++.  ->>>>>>  required skills\n",
            "Working knowledge of responsive web design  ->>>>>>  required skills\n",
            "Working knowledge of databases such  ->>>>>>  required skills\n",
            "MySQL  ->>>>>>  required skills\n",
            "Mongo DB  ->>>>>>  required skills\n",
            "Stored Procedures  ->>>>>>  required skills\n",
            "Good understanding of REST API?셲  ->>>>>>  required skills\n",
            "Familiarity deploying SAAS solution with Amazon AWS /Saleforce.com / Microsoft Azure and Docker etc  ->>>>>>  required skills\n",
            "Bachelor's  ->>>>>>  preferred skills\n",
            "\n",
            "\n",
            "jd num 6 test\n",
            "PHP Developer  ->>>>>>  job\n",
            "minimum 2-3 year experience in the field of development for any business portal or E-commerce Websites on Core PHP and Framework(CodeIgnitor)  ->>>>>>  required year\n",
            "Intensive PHP skills and experience to handle this position.  ->>>>>>  required skills\n",
            "Defines site objectives by analyzing user requirements; envisioning system features and functionality.  ->>>>>>  required skills\n",
            "Designs and develops user interfaces to Internet/intranet applications by setting expectations and features priorities throughout development life cycle; determining design methodologies and tool sets; completing programming using languages and software products; designing and conducting tests  ->>>>>>  required skills\n",
            "PHP  ->>>>>>  required skills\n",
            "MYSQL  ->>>>>>  required skills\n",
            "Experience in integrating Payment Gateways, SMS Gateways, API Services & Ship-rocket Integration  ->>>>>>  required year\n",
            "HTML  ->>>>>>  required skills\n",
            "CSS  ->>>>>>  required skills\n",
            "Bootstrap  ->>>>>>  required skills\n",
            "JavaScript  ->>>>>>  required skills\n",
            "J  ->>>>>>  required skills\n",
            "query  ->>>>>>  required skills\n",
            "Ajax  ->>>>>>  required skills\n",
            "Json  ->>>>>>  required skills\n",
            "Photoshop  ->>>>>>  preferred skills\n",
            "MVC Architecture  ->>>>>>  required skills\n",
            "PHP  ->>>>>>  required skills\n",
            "2 years  ->>>>>>  required year\n",
            "Ecommerce Website Developement: 2 years (Required)  ->>>>>>  required skills\n",
            "Bachelor's (Required)  ->>>>>>  required skills\n",
            "HTML  ->>>>>>  required skills\n",
            "CSS  ->>>>>>  required skills\n",
            "JavaScript  ->>>>>>  required skills\n",
            "PHP  ->>>>>>  required skills\n",
            "\n",
            "\n",
            "jd num 7 test\n",
            "Machine Learning  ->>>>>>  job\n",
            "Experience in statistical modelling and machine learning techniques  ->>>>>>  required skills\n",
            "Programming experience in at least two of the following languages:  ->>>>>>  required skills\n",
            "Experience in applying data science methods to business problems Experience in applying advanced analytical and statistical methods in the commercial world  ->>>>>>  required skills\n",
            "Good presentation and communication skills, with the ability to explain complex analytical concepts to people from other fields WHO YOU'LL WORK WITH You will join the Gurgaon office and be part of QuantumBlack.  ->>>>>>  required skills\n",
            "Develop data science products and solutions for clients as well as for our data science team  ->>>>>>  project\n",
            "Be able to focus on modelling by working alongside the Data Engineering team which focuses on the wrangling, clean-up and transformation of data  ->>>>>>  required skills\n",
            "Healthcare Efficiency  ->>>>>>  preferred skills\n",
            "\n",
            "\n",
            "jd num 8 test\n",
            "PHP Developer  ->>>>>>  job\n",
            "3+ years  ->>>>>>  required year\n",
            "PHP  ->>>>>>  required skills\n",
            "MySQL  ->>>>>>  required skills\n",
            "JavaScript  ->>>>>>  required skills\n",
            "Ajax  ->>>>>>  required skills\n",
            "Bootstrap Experience with the standard LAMP stack  ->>>>>>  required skills\n",
            "PHP  ->>>>>>  required skills\n",
            "MySQL  ->>>>>>  required skills\n",
            "Wordpress  ->>>>>>  required skills\n",
            "MVC frameworks  ->>>>>>  required skills\n",
            "Laravel is a plus)  ->>>>>>  preferred skills\n",
            "AWS  ->>>>>>  preferred skills\n",
            "4 years  ->>>>>>  required year\n",
            "Bachelor's  ->>>>>>  preferred skills\n",
            "\n",
            "\n",
            "jd num 9 test\n",
            "Node js developer  ->>>>>>  job\n",
            "Excellent knowledge of object-oriented Javascript language  ->>>>>>  required skills\n",
            "ExpresJS framework  ->>>>>>  required skills\n",
            "Node Package Manager  ->>>>>>  required skills\n",
            "Critical thinker and problem solving skills  ->>>>>>  required skills\n",
            "Good understanding of asynchronous programming concepts  ->>>>>>  required skills\n",
            "Javascript  ->>>>>>  required skills\n",
            "JQuery  ->>>>>>  required skills\n",
            "HTML5  ->>>>>>  required skills\n",
            "CSS3  ->>>>>>  required skills\n",
            "JSON  ->>>>>>  required skills\n",
            "MongoDB databases  ->>>>>>  required skills\n",
            "Writing clean code with comments and must be aware of coding standards of the latest version of ECMAScript Professional  ->>>>>>  required skills\n",
            "JavaScript  ->>>>>>  required skills\n",
            "Typescript  ->>>>>>  required skills\n",
            "Paid leave in each quarter  ->>>>>>  benefit\n",
            "Handsome Incentives.  ->>>>>>  benefit\n",
            "??5,000.00 per month  ->>>>>>  benefit\n",
            "Nodejs  ->>>>>>  project\n",
            "1 year  ->>>>>>  required year\n",
            "Bachelor's  ->>>>>>  preferred skills\n",
            "Paid leaves / Leave encashment Work Remotely  ->>>>>>  benefit\n",
            "\n",
            "\n",
            "jd num 10 test\n",
            "Backend Developer  ->>>>>>  job\n",
            "Develop SPA applications in Angularjs and Angular framework with all aspects including but not limited to - Components - Performance - Browser Compatibility - User Interface  ->>>>>>  project\n",
            "Design and ensure completeness of user interface provided 3  ->>>>>>  project\n",
            "Utilize knowledge of CSS, Bootstrap & Material libraries to provide engaging UI  ->>>>>>  required skills\n",
            "Utilize understanding of software engineering principles, design patterns, object-oriented-programming(OOP), frameworks, and technologies to create independent components/modules to reuse  ->>>>>>  required skills\n",
            "Work with the backend team to integrate Apps  ->>>>>>  required skills\n",
            "Experience in the development of hybrid apps is plus 2)  ->>>>>>  required year\n",
            "python  ->>>>>>  project\n",
            "Programming  ->>>>>>  required skills\n",
            "HTML  ->>>>>>  required skills\n",
            "python  ->>>>>>  required skills\n",
            "Master's  ->>>>>>  preferred skills\n",
            "\n",
            "\n"
          ]
        }
      ]
    }
  ]
}