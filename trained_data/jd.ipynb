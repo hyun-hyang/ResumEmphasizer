{
  "cells": [
    {
      "cell_type": "markdown",
      "metadata": {
        "id": "view-in-github",
        "colab_type": "text"
      },
      "source": [
        "<a href=\"https://colab.research.google.com/github/hyun-hyang/ResumEmphasizer/blob/main/jd.ipynb\" target=\"_parent\"><img src=\"https://colab.research.google.com/assets/colab-badge.svg\" alt=\"Open In Colab\"/></a>"
      ]
    },
    {
      "cell_type": "code",
      "execution_count": 1,
      "metadata": {
        "id": "SS_66NmsZcR8",
        "colab": {
          "base_uri": "https://localhost:8080/"
        },
        "outputId": "a203c4cd-9850-4d6c-a220-1933f11537fe"
      },
      "outputs": [
        {
          "output_type": "stream",
          "name": "stdout",
          "text": [
            "Looking in indexes: https://pypi.org/simple, https://us-python.pkg.dev/colab-wheels/public/simple/\n",
            "Collecting spacy_transformers\n",
            "  Downloading spacy_transformers-1.1.7-py2.py3-none-any.whl (53 kB)\n",
            "\u001b[K     |████████████████████████████████| 53 kB 2.0 MB/s \n",
            "\u001b[?25hCollecting transformers<4.21.0,>=3.4.0\n",
            "  Downloading transformers-4.20.1-py3-none-any.whl (4.4 MB)\n",
            "\u001b[K     |████████████████████████████████| 4.4 MB 15.4 MB/s \n",
            "\u001b[?25hRequirement already satisfied: srsly<3.0.0,>=2.4.0 in /usr/local/lib/python3.7/dist-packages (from spacy_transformers) (2.4.4)\n",
            "Requirement already satisfied: torch>=1.6.0 in /usr/local/lib/python3.7/dist-packages (from spacy_transformers) (1.12.0+cu113)\n",
            "Requirement already satisfied: spacy<4.0.0,>=3.1.3 in /usr/local/lib/python3.7/dist-packages (from spacy_transformers) (3.4.1)\n",
            "Collecting spacy-alignments<1.0.0,>=0.7.2\n",
            "  Downloading spacy_alignments-0.8.5-cp37-cp37m-manylinux_2_17_x86_64.manylinux2014_x86_64.whl (1.1 MB)\n",
            "\u001b[K     |████████████████████████████████| 1.1 MB 63.4 MB/s \n",
            "\u001b[?25hRequirement already satisfied: preshed<3.1.0,>=3.0.2 in /usr/local/lib/python3.7/dist-packages (from spacy<4.0.0,>=3.1.3->spacy_transformers) (3.0.6)\n",
            "Requirement already satisfied: jinja2 in /usr/local/lib/python3.7/dist-packages (from spacy<4.0.0,>=3.1.3->spacy_transformers) (2.11.3)\n",
            "Requirement already satisfied: typer<0.5.0,>=0.3.0 in /usr/local/lib/python3.7/dist-packages (from spacy<4.0.0,>=3.1.3->spacy_transformers) (0.4.2)\n",
            "Requirement already satisfied: setuptools in /usr/local/lib/python3.7/dist-packages (from spacy<4.0.0,>=3.1.3->spacy_transformers) (57.4.0)\n",
            "Requirement already satisfied: wasabi<1.1.0,>=0.9.1 in /usr/local/lib/python3.7/dist-packages (from spacy<4.0.0,>=3.1.3->spacy_transformers) (0.10.1)\n",
            "Requirement already satisfied: cymem<2.1.0,>=2.0.2 in /usr/local/lib/python3.7/dist-packages (from spacy<4.0.0,>=3.1.3->spacy_transformers) (2.0.6)\n",
            "Requirement already satisfied: packaging>=20.0 in /usr/local/lib/python3.7/dist-packages (from spacy<4.0.0,>=3.1.3->spacy_transformers) (21.3)\n",
            "Requirement already satisfied: murmurhash<1.1.0,>=0.28.0 in /usr/local/lib/python3.7/dist-packages (from spacy<4.0.0,>=3.1.3->spacy_transformers) (1.0.7)\n",
            "Requirement already satisfied: catalogue<2.1.0,>=2.0.6 in /usr/local/lib/python3.7/dist-packages (from spacy<4.0.0,>=3.1.3->spacy_transformers) (2.0.8)\n",
            "Requirement already satisfied: langcodes<4.0.0,>=3.2.0 in /usr/local/lib/python3.7/dist-packages (from spacy<4.0.0,>=3.1.3->spacy_transformers) (3.3.0)\n",
            "Requirement already satisfied: typing-extensions<4.2.0,>=3.7.4 in /usr/local/lib/python3.7/dist-packages (from spacy<4.0.0,>=3.1.3->spacy_transformers) (4.1.1)\n",
            "Requirement already satisfied: pathy>=0.3.5 in /usr/local/lib/python3.7/dist-packages (from spacy<4.0.0,>=3.1.3->spacy_transformers) (0.6.2)\n",
            "Requirement already satisfied: thinc<8.2.0,>=8.1.0 in /usr/local/lib/python3.7/dist-packages (from spacy<4.0.0,>=3.1.3->spacy_transformers) (8.1.0)\n",
            "Requirement already satisfied: spacy-loggers<2.0.0,>=1.0.0 in /usr/local/lib/python3.7/dist-packages (from spacy<4.0.0,>=3.1.3->spacy_transformers) (1.0.3)\n",
            "Requirement already satisfied: spacy-legacy<3.1.0,>=3.0.9 in /usr/local/lib/python3.7/dist-packages (from spacy<4.0.0,>=3.1.3->spacy_transformers) (3.0.9)\n",
            "Requirement already satisfied: numpy>=1.15.0 in /usr/local/lib/python3.7/dist-packages (from spacy<4.0.0,>=3.1.3->spacy_transformers) (1.21.6)\n",
            "Requirement already satisfied: pydantic!=1.8,!=1.8.1,<1.10.0,>=1.7.4 in /usr/local/lib/python3.7/dist-packages (from spacy<4.0.0,>=3.1.3->spacy_transformers) (1.9.1)\n",
            "Requirement already satisfied: tqdm<5.0.0,>=4.38.0 in /usr/local/lib/python3.7/dist-packages (from spacy<4.0.0,>=3.1.3->spacy_transformers) (4.64.0)\n",
            "Requirement already satisfied: requests<3.0.0,>=2.13.0 in /usr/local/lib/python3.7/dist-packages (from spacy<4.0.0,>=3.1.3->spacy_transformers) (2.23.0)\n",
            "Requirement already satisfied: zipp>=0.5 in /usr/local/lib/python3.7/dist-packages (from catalogue<2.1.0,>=2.0.6->spacy<4.0.0,>=3.1.3->spacy_transformers) (3.8.1)\n",
            "Requirement already satisfied: pyparsing!=3.0.5,>=2.0.2 in /usr/local/lib/python3.7/dist-packages (from packaging>=20.0->spacy<4.0.0,>=3.1.3->spacy_transformers) (3.0.9)\n",
            "Requirement already satisfied: smart-open<6.0.0,>=5.2.1 in /usr/local/lib/python3.7/dist-packages (from pathy>=0.3.5->spacy<4.0.0,>=3.1.3->spacy_transformers) (5.2.1)\n",
            "Requirement already satisfied: certifi>=2017.4.17 in /usr/local/lib/python3.7/dist-packages (from requests<3.0.0,>=2.13.0->spacy<4.0.0,>=3.1.3->spacy_transformers) (2022.6.15)\n",
            "Requirement already satisfied: idna<3,>=2.5 in /usr/local/lib/python3.7/dist-packages (from requests<3.0.0,>=2.13.0->spacy<4.0.0,>=3.1.3->spacy_transformers) (2.10)\n",
            "Requirement already satisfied: chardet<4,>=3.0.2 in /usr/local/lib/python3.7/dist-packages (from requests<3.0.0,>=2.13.0->spacy<4.0.0,>=3.1.3->spacy_transformers) (3.0.4)\n",
            "Requirement already satisfied: urllib3!=1.25.0,!=1.25.1,<1.26,>=1.21.1 in /usr/local/lib/python3.7/dist-packages (from requests<3.0.0,>=2.13.0->spacy<4.0.0,>=3.1.3->spacy_transformers) (1.24.3)\n",
            "Requirement already satisfied: blis<0.8.0,>=0.7.8 in /usr/local/lib/python3.7/dist-packages (from thinc<8.2.0,>=8.1.0->spacy<4.0.0,>=3.1.3->spacy_transformers) (0.7.8)\n",
            "Collecting huggingface-hub<1.0,>=0.1.0\n",
            "  Downloading huggingface_hub-0.8.1-py3-none-any.whl (101 kB)\n",
            "\u001b[K     |████████████████████████████████| 101 kB 8.4 MB/s \n",
            "\u001b[?25hRequirement already satisfied: regex!=2019.12.17 in /usr/local/lib/python3.7/dist-packages (from transformers<4.21.0,>=3.4.0->spacy_transformers) (2022.6.2)\n",
            "Requirement already satisfied: importlib-metadata in /usr/local/lib/python3.7/dist-packages (from transformers<4.21.0,>=3.4.0->spacy_transformers) (4.12.0)\n",
            "Collecting pyyaml>=5.1\n",
            "  Downloading PyYAML-6.0-cp37-cp37m-manylinux_2_5_x86_64.manylinux1_x86_64.manylinux_2_12_x86_64.manylinux2010_x86_64.whl (596 kB)\n",
            "\u001b[K     |████████████████████████████████| 596 kB 17.0 MB/s \n",
            "\u001b[?25hCollecting tokenizers!=0.11.3,<0.13,>=0.11.1\n",
            "  Downloading tokenizers-0.12.1-cp37-cp37m-manylinux_2_12_x86_64.manylinux2010_x86_64.whl (6.6 MB)\n",
            "\u001b[K     |████████████████████████████████| 6.6 MB 48.7 MB/s \n",
            "\u001b[?25hRequirement already satisfied: filelock in /usr/local/lib/python3.7/dist-packages (from transformers<4.21.0,>=3.4.0->spacy_transformers) (3.7.1)\n",
            "Requirement already satisfied: click<9.0.0,>=7.1.1 in /usr/local/lib/python3.7/dist-packages (from typer<0.5.0,>=0.3.0->spacy<4.0.0,>=3.1.3->spacy_transformers) (7.1.2)\n",
            "Requirement already satisfied: MarkupSafe>=0.23 in /usr/local/lib/python3.7/dist-packages (from jinja2->spacy<4.0.0,>=3.1.3->spacy_transformers) (2.0.1)\n",
            "Installing collected packages: pyyaml, tokenizers, huggingface-hub, transformers, spacy-alignments, spacy-transformers\n",
            "  Attempting uninstall: pyyaml\n",
            "    Found existing installation: PyYAML 3.13\n",
            "    Uninstalling PyYAML-3.13:\n",
            "      Successfully uninstalled PyYAML-3.13\n",
            "Successfully installed huggingface-hub-0.8.1 pyyaml-6.0 spacy-alignments-0.8.5 spacy-transformers-1.1.7 tokenizers-0.12.1 transformers-4.20.1\n",
            "Looking in indexes: https://pypi.org/simple, https://us-python.pkg.dev/colab-wheels/public/simple/\n",
            "Requirement already satisfied: spacy in /usr/local/lib/python3.7/dist-packages (3.4.1)\n",
            "Requirement already satisfied: cymem<2.1.0,>=2.0.2 in /usr/local/lib/python3.7/dist-packages (from spacy) (2.0.6)\n",
            "Requirement already satisfied: jinja2 in /usr/local/lib/python3.7/dist-packages (from spacy) (2.11.3)\n",
            "Requirement already satisfied: wasabi<1.1.0,>=0.9.1 in /usr/local/lib/python3.7/dist-packages (from spacy) (0.10.1)\n",
            "Requirement already satisfied: packaging>=20.0 in /usr/local/lib/python3.7/dist-packages (from spacy) (21.3)\n",
            "Requirement already satisfied: pydantic!=1.8,!=1.8.1,<1.10.0,>=1.7.4 in /usr/local/lib/python3.7/dist-packages (from spacy) (1.9.1)\n",
            "Requirement already satisfied: langcodes<4.0.0,>=3.2.0 in /usr/local/lib/python3.7/dist-packages (from spacy) (3.3.0)\n",
            "Requirement already satisfied: tqdm<5.0.0,>=4.38.0 in /usr/local/lib/python3.7/dist-packages (from spacy) (4.64.0)\n",
            "Requirement already satisfied: thinc<8.2.0,>=8.1.0 in /usr/local/lib/python3.7/dist-packages (from spacy) (8.1.0)\n",
            "Requirement already satisfied: spacy-loggers<2.0.0,>=1.0.0 in /usr/local/lib/python3.7/dist-packages (from spacy) (1.0.3)\n",
            "Requirement already satisfied: typer<0.5.0,>=0.3.0 in /usr/local/lib/python3.7/dist-packages (from spacy) (0.4.2)\n",
            "Requirement already satisfied: numpy>=1.15.0 in /usr/local/lib/python3.7/dist-packages (from spacy) (1.21.6)\n",
            "Requirement already satisfied: srsly<3.0.0,>=2.4.3 in /usr/local/lib/python3.7/dist-packages (from spacy) (2.4.4)\n",
            "Requirement already satisfied: spacy-legacy<3.1.0,>=3.0.9 in /usr/local/lib/python3.7/dist-packages (from spacy) (3.0.9)\n",
            "Requirement already satisfied: pathy>=0.3.5 in /usr/local/lib/python3.7/dist-packages (from spacy) (0.6.2)\n",
            "Requirement already satisfied: preshed<3.1.0,>=3.0.2 in /usr/local/lib/python3.7/dist-packages (from spacy) (3.0.6)\n",
            "Requirement already satisfied: requests<3.0.0,>=2.13.0 in /usr/local/lib/python3.7/dist-packages (from spacy) (2.23.0)\n",
            "Requirement already satisfied: murmurhash<1.1.0,>=0.28.0 in /usr/local/lib/python3.7/dist-packages (from spacy) (1.0.7)\n",
            "Requirement already satisfied: catalogue<2.1.0,>=2.0.6 in /usr/local/lib/python3.7/dist-packages (from spacy) (2.0.8)\n",
            "Requirement already satisfied: typing-extensions<4.2.0,>=3.7.4 in /usr/local/lib/python3.7/dist-packages (from spacy) (4.1.1)\n",
            "Requirement already satisfied: setuptools in /usr/local/lib/python3.7/dist-packages (from spacy) (57.4.0)\n",
            "Requirement already satisfied: zipp>=0.5 in /usr/local/lib/python3.7/dist-packages (from catalogue<2.1.0,>=2.0.6->spacy) (3.8.1)\n",
            "Requirement already satisfied: pyparsing!=3.0.5,>=2.0.2 in /usr/local/lib/python3.7/dist-packages (from packaging>=20.0->spacy) (3.0.9)\n",
            "Requirement already satisfied: smart-open<6.0.0,>=5.2.1 in /usr/local/lib/python3.7/dist-packages (from pathy>=0.3.5->spacy) (5.2.1)\n",
            "Requirement already satisfied: urllib3!=1.25.0,!=1.25.1,<1.26,>=1.21.1 in /usr/local/lib/python3.7/dist-packages (from requests<3.0.0,>=2.13.0->spacy) (1.24.3)\n",
            "Requirement already satisfied: certifi>=2017.4.17 in /usr/local/lib/python3.7/dist-packages (from requests<3.0.0,>=2.13.0->spacy) (2022.6.15)\n",
            "Requirement already satisfied: idna<3,>=2.5 in /usr/local/lib/python3.7/dist-packages (from requests<3.0.0,>=2.13.0->spacy) (2.10)\n",
            "Requirement already satisfied: chardet<4,>=3.0.2 in /usr/local/lib/python3.7/dist-packages (from requests<3.0.0,>=2.13.0->spacy) (3.0.4)\n",
            "Requirement already satisfied: blis<0.8.0,>=0.7.8 in /usr/local/lib/python3.7/dist-packages (from thinc<8.2.0,>=8.1.0->spacy) (0.7.8)\n",
            "Requirement already satisfied: click<9.0.0,>=7.1.1 in /usr/local/lib/python3.7/dist-packages (from typer<0.5.0,>=0.3.0->spacy) (7.1.2)\n",
            "Requirement already satisfied: MarkupSafe>=0.23 in /usr/local/lib/python3.7/dist-packages (from jinja2->spacy) (2.0.1)\n"
          ]
        } 
      ],
      "source": [
        "!pip install spacy_transformers\n",
        "!pip install -U spacy"
      ]
    },
    {
      "cell_type": "code",
      "execution_count": 2,
      "metadata": {
        "id": "gqtU4KecZecD"
      },
      "outputs": [],
      "source": [
        "import spacy\n",
        "from spacy.tokens import DocBin\n",
        "import json"
      ]
    },
    {
      "cell_type": "code",
      "execution_count": 3,
      "metadata": {
        "colab": {
          "base_uri": "https://localhost:8080/",
          "height": 35
        },
        "id": "YiqFMg-cZeZq",
        "outputId": "012eac33-0801-41d3-a9d2-a34be9c3fbbe"
      },
      "outputs": [
        {
          "output_type": "execute_result",
          "data": {
            "text/plain": [
              "'3.4.1'"
            ],
            "application/vnd.google.colaboratory.intrinsic+json": {
              "type": "string"
            }
          },
          "metadata": {},
          "execution_count": 3
        }
      ],
      "source": [
        "spacy.__version__"
      ]
    },
    {
      "cell_type": "code",
      "execution_count": 4,
      "metadata": {
        "colab": {
          "base_uri": "https://localhost:8080/"
        },
        "id": "-SCGyXWGZeXZ",
        "outputId": "6b6bcd13-1e1e-4835-8475-c839cb86004b"
      },
      "outputs": [
        {
          "output_type": "stream",
          "name": "stdout",
          "text": [
            "Wed Aug 10 17:09:47 2022       \n",
            "+-----------------------------------------------------------------------------+\n",
            "| NVIDIA-SMI 460.32.03    Driver Version: 460.32.03    CUDA Version: 11.2     |\n",
            "|-------------------------------+----------------------+----------------------+\n",
            "| GPU  Name        Persistence-M| Bus-Id        Disp.A | Volatile Uncorr. ECC |\n",
            "| Fan  Temp  Perf  Pwr:Usage/Cap|         Memory-Usage | GPU-Util  Compute M. |\n",
            "|                               |                      |               MIG M. |\n",
            "|===============================+======================+======================|\n",
            "|   0  Tesla P100-PCIE...  Off  | 00000000:00:04.0 Off |                    0 |\n",
            "| N/A   35C    P0    32W / 250W |    407MiB / 16280MiB |      0%      Default |\n",
            "|                               |                      |                  N/A |\n",
            "+-------------------------------+----------------------+----------------------+\n",
            "                                                                               \n",
            "+-----------------------------------------------------------------------------+\n",
            "| Processes:                                                                  |\n",
            "|  GPU   GI   CI        PID   Type   Process name                  GPU Memory |\n",
            "|        ID   ID                                                   Usage      |\n",
            "|=============================================================================|\n",
            "+-----------------------------------------------------------------------------+\n"
          ]
        }
      ],
      "source": [
        "!nvidia-smi"
      ]
    },
    {
      "cell_type": "code",
      "execution_count": 5,
      "metadata": {
        "colab": {
          "base_uri": "https://localhost:8080/"
        },
        "id": "OExUO_KnZeVd",
        "outputId": "870f35dd-0f46-4475-db8c-8465d0829145"
      },
      "outputs": [
        {
          "output_type": "stream",
          "name": "stdout",
          "text": [
            "Cloning into 'ResumEmphasizer'...\n",
            "remote: Enumerating objects: 7499, done.\u001b[K\n",
            "remote: Counting objects: 100% (131/131), done.\u001b[K\n",
            "remote: Compressing objects: 100% (95/95), done.\u001b[K\n",
            "remote: Total 7499 (delta 42), reused 120 (delta 36), pack-reused 7368\u001b[K\n",
            "Receiving objects: 100% (7499/7499), 38.02 MiB | 24.16 MiB/s, done.\n",
            "Resolving deltas: 100% (812/812), done.\n"
          ]
        }
      ],
      "source": [
        "!git clone 'https://github.com/hyun-hyang/ResumEmphasizer.git'"
      ]
    },
    {
      "cell_type": "code",
      "execution_count": 6,
      "metadata": {
        "colab": {
          "base_uri": "https://localhost:8080/"
        },
        "id": "XtCEKtpVZeSy",
        "outputId": "bd2b437a-6ac9-4d8b-cc9a-e787d7e2a721"
      },
      "outputs": [
        {
          "output_type": "stream",
          "name": "stdout",
          "text": [
            "/content/ResumEmphasizer\n",
            "Already up to date.\n"
          ]
        }
      ],
      "source": [
        "%cd /content/ResumEmphasizer\n",
        "!git pull"
      ]
    },
    {
      "cell_type": "code",
      "execution_count": 7,
      "metadata": {
        "id": "tB4OIMH_ZeQe"
      },
      "outputs": [],
      "source": [
        "cv_data = json.load(open('/content/ResumEmphasizer/Data_annoctated/mergerd jd.json','r'))"
      ]
    },
    {
      "cell_type": "code",
      "execution_count": 8,
      "metadata": {
        "colab": {
          "base_uri": "https://localhost:8080/"
        },
        "id": "hYpuvNEoZeOL",
        "outputId": "9ebfb8c9-a3b5-499d-eeee-727ee1627090"
      },
      "outputs": [
        {
          "output_type": "execute_result",
          "data": {
            "text/plain": [
              "159"
            ]
          },
          "metadata": {},
          "execution_count": 8
        }
      ],
      "source": [
        "len(cv_data)"
      ]
    },
    {
      "cell_type": "code",
      "execution_count": 9,
      "metadata": {
        "colab": {
          "base_uri": "https://localhost:8080/"
        },
        "id": "YDHyBiRvZeL3",
        "outputId": "4e053221-f62d-433d-ab93-c9c2ebecf0d0"
      },
      "outputs": [
        {
          "output_type": "stream",
          "name": "stdout",
          "text": [
            "\u001b[38;5;2m✔ Auto-filled config with all values\u001b[0m\n",
            "\u001b[38;5;2m✔ Saved config\u001b[0m\n",
            "/content/ResumEmphasizer/config.cfg\n",
            "You can now add your data and train your pipeline:\n",
            "python -m spacy train config.cfg --paths.train ./train.spacy --paths.dev ./dev.spacy\n"
          ]
        }
      ],
      "source": [
        "!python -m spacy init fill-config /content/ResumEmphasizer/Data/base_config.cfg /content/ResumEmphasizer/config.cfg"
      ]
    },
    {
      "cell_type": "code",
      "execution_count": 10,
      "metadata": {
        "colab": {
          "base_uri": "https://localhost:8080/"
        },
        "id": "XtL0w6auZeJj",
        "outputId": "73a55111-0fda-4892-83f8-7674b5078d2c"
      },
      "outputs": [
        {
          "output_type": "execute_result",
          "data": {
            "text/plain": [
              "{'id': 19,\n",
              " 'label': [[0, 5, 'company'],\n",
              "  [337, 357, 'project'],\n",
              "  [362, 418, 'project'],\n",
              "  [421, 459, 'job'],\n",
              "  [475, 481, 'required skills'],\n",
              "  [483, 488, 'required skills'],\n",
              "  [489, 500, 'required skills'],\n",
              "  [505, 513, 'required skills'],\n",
              "  [642, 690, 'project'],\n",
              "  [695, 772, 'project'],\n",
              "  [809, 847, 'benefit'],\n",
              "  [887, 927, 'benefit'],\n",
              "  [989, 1057, 'benefit'],\n",
              "  [1160, 1218, 'benefit'],\n",
              "  [1464, 1532, 'benefit']],\n",
              " 'text': \"Yapz is a cutting edge, growth-stage startup that allows you to find, connect, and co-host events with clubs in your local area. In addition to their schooling, social, family and work lives, college students partake in extracurricular clubs on campus. To allocate enough time to make those clubs successful is extremely difficult. Yapz makes running a club and finding partner clubs for events easy and time efficient.\\n\\nWe are looking for a Backend Developer who works with Python, flask, SQLAlchemy and Postgres. The developer should also have a practical understanding of how the backend interacts with the frontend. The roll will include developing the backend of the mobile application and analyzing the user's problems to best reflect solutions within the technology.\\n\\nFor the position, we are offering $10-$30 an hour for about three months. After the brief trial period, we will option up to 5% of the company as equity, effectively making you a part of the founding team. This is the real incentive of the position at this young stage of our growth. As the company grows, formal salaries will take effect on top of the equity incentives. In addition, salaries will grow in accordance with the company's growth, so as the company expands the developer's salary will expand as well.\\n\\nFrom our past experience, we’ve concluded that the perfect developer should be outspoken and brings a different perspective to discussions. The benefit of a startup is that the developers have large control of the direction of the technology. As a result, we want someone vocal who is unrelenting and will always challenge ideas to make sure that the chosen path is the correct one.\"}"
            ]
          },
          "metadata": {},
          "execution_count": 10
        }
      ],
      "source": [
        "cv_data[0]"
      ]
    },
    {
      "cell_type": "code",
      "execution_count": 11,
      "metadata": {
        "id": "1w3DDjd2ZeHq"
      },
      "outputs": [],
      "source": [
        "def get_spacy_doc(file, data):\n",
        "  nlp=spacy.blank('en')\n",
        "  db=DocBin()\n",
        "\n",
        "  for item in data:\n",
        "    text = item['text']\n",
        "    doc=nlp.make_doc(text)\n",
        "    annot=item['label']\n",
        "\n",
        "    \n",
        "    ents=[]\n",
        "    entity_indices=[]\n",
        "\n",
        "    for start, end, label in annot:\n",
        "      skip_entity=False\n",
        "      for idx in range(start, end):\n",
        "        if idx in entity_indices:\n",
        "          skip_entity=True\n",
        "          break\n",
        "      if skip_entity==True:\n",
        "         continue\n",
        "        \n",
        "      entity_indices = entity_indices + list(range(start, end))\n",
        "\n",
        "      try:\n",
        "        span=doc.char_span(start,end,label=label,alignment_mode='contract')\n",
        "      except:\n",
        "        continue\n",
        "        \n",
        "      if span is None:\n",
        "        err_data=str([start,end]) + \"     \" + str(text) + \"\\n\"\n",
        "        file.write(err_data)\n",
        "        \n",
        "      else:\n",
        "        ents.append(span)\n",
        "\n",
        "    try:\n",
        "        doc.ents=ents\n",
        "        db.add(doc)\n",
        "    except:\n",
        "      pass\n",
        "\n",
        "\n",
        "  return db"
      ]
    },
    {
      "cell_type": "code",
      "execution_count": 12,
      "metadata": {
        "id": "5La_wEAmZeFW"
      },
      "outputs": [],
      "source": [
        "from sklearn.model_selection import train_test_split\n",
        "train, test=train_test_split(cv_data,test_size=0.3)"
      ]
    },
    {
      "cell_type": "code",
      "execution_count": 13,
      "metadata": {
        "colab": {
          "base_uri": "https://localhost:8080/"
        },
        "id": "VpePIV8rZeDg",
        "outputId": "cc5a85c2-f0ef-457e-c0af-f13f08e6a722"
      },
      "outputs": [
        {
          "output_type": "execute_result",
          "data": {
            "text/plain": [
              "(111, 48)"
            ]
          },
          "metadata": {},
          "execution_count": 13
        }
      ],
      "source": [
        "len(train), len(test)"
      ]
    },
    {
      "cell_type": "code",
      "execution_count": 14,
      "metadata": {
        "id": "ddrrJv2GZeBJ"
      },
      "outputs": [],
      "source": [
        "file=open('error.txt','w')\n",
        "\n",
        "db=get_spacy_doc(file, train)\n",
        "db.to_disk('train_data.spacy')\n",
        "\n",
        "db=get_spacy_doc(file, test)\n",
        "db.to_disk('test_data.spacy')\n",
        "\n",
        "file.close()"
      ]
    },
    {
      "cell_type": "code",
      "execution_count": 15,
      "metadata": {
        "colab": {
          "base_uri": "https://localhost:8080/"
        },
        "id": "vG4gUyNdZd-2",
        "outputId": "f639194a-d362-41e8-87e9-57b3cc1b4783"
      },
      "outputs": [
        {
          "output_type": "execute_result",
          "data": {
            "text/plain": [
              "48"
            ]
          },
          "metadata": {},
          "execution_count": 15
        }
      ],
      "source": [
        "len(db.tokens)"
      ]
    },
    {
      "cell_type": "code",
      "execution_count": 16,
      "metadata": {
        "colab": {
          "base_uri": "https://localhost:8080/"
        },
        "id": "xEqCmD6btG39",
        "outputId": "23a49136-fa12-4bcd-f293-830471970889"
      },
      "outputs": [
        {
          "output_type": "stream",
          "name": "stdout",
          "text": [
            "config.cfg\t jd.ipynb\t      README.md     test_data.spacy\n",
            "Data\t\t logo\t\t      resume.ipynb  test_jd\n",
            "Data_annoctated  Persona\t      service\t    train_data.spacy\n",
            "error.txt\t Project_Description  test_cv\t    wordpress_site\n"
          ]
        }
      ],
      "source": [
        "!ls"
      ]
    },
    {
      "cell_type": "code",
      "execution_count": 17,
      "metadata": {
        "colab": {
          "base_uri": "https://localhost:8080/"
        },
        "id": "WmjCPh6uZd9I",
        "outputId": "c6223798-e0d8-43b5-aa59-88aa024d4608"
      },
      "outputs": [
        {
          "output_type": "stream",
          "name": "stdout",
          "text": [
            "\u001b[38;5;2m✔ Created output directory: output\u001b[0m\n",
            "\u001b[38;5;4mℹ Saving to output directory: output\u001b[0m\n",
            "\u001b[38;5;4mℹ Using GPU: 0\u001b[0m\n",
            "\u001b[1m\n",
            "=========================== Initializing pipeline ===========================\u001b[0m\n",
            "[2022-08-10 17:10:58,435] [INFO] Set up nlp object from config\n",
            "[2022-08-10 17:10:58,445] [INFO] Pipeline: ['transformer', 'ner']\n",
            "[2022-08-10 17:10:58,449] [INFO] Created vocabulary\n",
            "[2022-08-10 17:10:58,451] [INFO] Finished initializing nlp object\n",
            "Downloading: 100% 481/481 [00:00<00:00, 484kB/s]\n",
            "Downloading: 100% 878k/878k [00:00<00:00, 2.39MB/s]\n",
            "Downloading: 100% 446k/446k [00:00<00:00, 1.43MB/s]\n",
            "Downloading: 100% 1.29M/1.29M [00:00<00:00, 3.48MB/s]\n",
            "Downloading: 100% 478M/478M [00:20<00:00, 24.9MB/s]\n",
            "Some weights of the model checkpoint at roberta-base were not used when initializing RobertaModel: ['lm_head.decoder.weight', 'lm_head.bias', 'lm_head.layer_norm.bias', 'lm_head.dense.bias', 'lm_head.dense.weight', 'lm_head.layer_norm.weight']\n",
            "- This IS expected if you are initializing RobertaModel from the checkpoint of a model trained on another task or with another architecture (e.g. initializing a BertForSequenceClassification model from a BertForPreTraining model).\n",
            "- This IS NOT expected if you are initializing RobertaModel from the checkpoint of a model that you expect to be exactly identical (initializing a BertForSequenceClassification model from a BertForSequenceClassification model).\n",
            "[2022-08-10 17:11:37,177] [INFO] Initialized pipeline components: ['transformer', 'ner']\n",
            "\u001b[38;5;2m✔ Initialized pipeline\u001b[0m\n",
            "\u001b[1m\n",
            "============================= Training pipeline =============================\u001b[0m\n",
            "\u001b[38;5;4mℹ Pipeline: ['transformer', 'ner']\u001b[0m\n",
            "\u001b[38;5;4mℹ Initial learn rate: 0.0\u001b[0m\n",
            "E    #       LOSS TRANS...  LOSS NER  ENTS_F  ENTS_P  ENTS_R  SCORE \n",
            "---  ------  -------------  --------  ------  ------  ------  ------\n",
            "  0       0        1148.20   1672.16    2.80    1.49   24.73    0.03\n",
            "  6     200      289004.99  83154.96    2.07    5.24    1.29    0.02\n",
            " 12     400      164097.20  44477.16    8.74   26.24    5.24    0.09\n",
            " 18     600      199007.00  42765.33   22.04   19.18   25.91    0.22\n",
            " 25     800       55244.16  36112.11   30.57   30.37   30.76    0.31\n",
            " 31    1000       42192.46  30847.47   27.87   23.95   33.33    0.28\n",
            " 37    1200       36670.09  29590.51   26.60   28.40   25.02    0.27\n",
            " 43    1400       12739.44  22502.40   27.56   40.94   20.77    0.28\n",
            " 50    1600       10430.67  21499.32   26.12   33.86   21.27    0.26\n",
            " 56    1800       16501.21  20615.57   26.81   30.62   23.84    0.27\n",
            " 62    2000        6425.92  16978.58   26.38   31.02   22.95    0.26\n",
            "\u001b[38;5;2m✔ Saved pipeline to output directory\u001b[0m\n",
            "output/model-last\n"
          ]
        }
      ],
      "source": [
        "!python -m spacy train /content/ResumEmphasizer/config.cfg --output ./output --paths.train ./train_data.spacy --paths.dev ./test_data.spacy --gpu-id 0"
      ]
    },
    {
      "cell_type": "code",
      "execution_count": 18,
      "metadata": {
        "colab": {
          "base_uri": "https://localhost:8080/"
        },
        "id": "Yxeij4ZH14Hp",
        "outputId": "592a6a7e-dda6-4515-a50b-fd94ac53a47a"
      },
      "outputs": [
        {
          "output_type": "stream",
          "name": "stdout",
          "text": [
            "Drive already mounted at /content/drive; to attempt to forcibly remount, call drive.mount(\"/content/drive\", force_remount=True).\n"
          ]
        }
      ],
      "source": [
        "from google.colab import drive\n",
        "drive.mount('/content/drive')"
      ]
    },
    {
      "cell_type": "code",
      "execution_count": null,
      "metadata": {
        "colab": {
          "base_uri": "https://localhost:8080/"
        },
        "id": "AsgIJntqD5XZ",
        "outputId": "7bd7e931-b6a0-4fca-ad5e-698563babde8"
      },
      "outputs": [
        {
          "name": "stdout",
          "output_type": "stream",
          "text": [
            "Mounted at /content/drive\n"
          ]
        }
      ],
      "source": [
        "#drive.mount(\"/content/drive\", force_remount=True)"
      ]
    },
    {
      "cell_type": "code",
      "execution_count": 19,
      "metadata": {
        "id": "u_qkbGABZd6-"
      },
      "outputs": [],
      "source": [
        "nlp = spacy.load('/content/ResumEmphasizer/output/model-best')"
      ]
    },
    {
      "cell_type": "code",
      "execution_count": 23,
      "metadata": {
        "colab": {
          "base_uri": "https://localhost:8080/"
        },
        "id": "W5jHxtBNvj1D",
        "outputId": "a460bc04-0219-43eb-f4dd-95ba2d391470"
      },
      "outputs": [
        {
          "output_type": "stream",
          "name": "stdout",
          "text": [
            "  adding: content/ResumEmphasizer/output/model-best/ (stored 0%)\n",
            "  adding: content/ResumEmphasizer/output/model-best/transformer/ (stored 0%)\n",
            "  adding: content/ResumEmphasizer/output/model-best/transformer/model (deflated 14%)\n",
            "  adding: content/ResumEmphasizer/output/model-best/transformer/cfg (stored 0%)\n",
            "  adding: content/ResumEmphasizer/output/model-best/ner/ (stored 0%)\n",
            "  adding: content/ResumEmphasizer/output/model-best/ner/moves (deflated 78%)\n",
            "  adding: content/ResumEmphasizer/output/model-best/ner/model (deflated 8%)\n",
            "  adding: content/ResumEmphasizer/output/model-best/ner/cfg (deflated 33%)\n",
            "  adding: content/ResumEmphasizer/output/model-best/vocab/ (stored 0%)\n",
            "  adding: content/ResumEmphasizer/output/model-best/vocab/strings.json (deflated 73%)\n",
            "  adding: content/ResumEmphasizer/output/model-best/vocab/lookups.bin (stored 0%)\n",
            "  adding: content/ResumEmphasizer/output/model-best/vocab/vectors.cfg (stored 0%)\n",
            "  adding: content/ResumEmphasizer/output/model-best/vocab/key2row (stored 0%)\n",
            "  adding: content/ResumEmphasizer/output/model-best/vocab/vectors (deflated 45%)\n",
            "  adding: content/ResumEmphasizer/output/model-best/config.cfg (deflated 61%)\n",
            "  adding: content/ResumEmphasizer/output/model-best/tokenizer (deflated 81%)\n",
            "  adding: content/ResumEmphasizer/output/model-best/meta.json (deflated 66%)\n"
          ]
        }
      ],
      "source": [
        "!zip -r /content/ResumEmphasizer/best.zip /content/ResumEmphasizer/output/model-best/\n"
      ]
    },
    {
      "cell_type": "code",
      "execution_count": 24,
      "metadata": {
        "colab": {
          "base_uri": "https://localhost:8080/",
          "height": 17
        },
        "id": "0N4j4THhv7mB",
        "outputId": "aa1a5ac8-881e-400e-f9fa-90db539d78d4"
      },
      "outputs": [
        {
          "output_type": "display_data",
          "data": {
            "text/plain": [
              "<IPython.core.display.Javascript object>"
            ],
            "application/javascript": [
              "\n",
              "    async function download(id, filename, size) {\n",
              "      if (!google.colab.kernel.accessAllowed) {\n",
              "        return;\n",
              "      }\n",
              "      const div = document.createElement('div');\n",
              "      const label = document.createElement('label');\n",
              "      label.textContent = `Downloading \"${filename}\": `;\n",
              "      div.appendChild(label);\n",
              "      const progress = document.createElement('progress');\n",
              "      progress.max = size;\n",
              "      div.appendChild(progress);\n",
              "      document.body.appendChild(div);\n",
              "\n",
              "      const buffers = [];\n",
              "      let downloaded = 0;\n",
              "\n",
              "      const channel = await google.colab.kernel.comms.open(id);\n",
              "      // Send a message to notify the kernel that we're ready.\n",
              "      channel.send({})\n",
              "\n",
              "      for await (const message of channel.messages) {\n",
              "        // Send a message to notify the kernel that we're ready.\n",
              "        channel.send({})\n",
              "        if (message.buffers) {\n",
              "          for (const buffer of message.buffers) {\n",
              "            buffers.push(buffer);\n",
              "            downloaded += buffer.byteLength;\n",
              "            progress.value = downloaded;\n",
              "          }\n",
              "        }\n",
              "      }\n",
              "      const blob = new Blob(buffers, {type: 'application/binary'});\n",
              "      const a = document.createElement('a');\n",
              "      a.href = window.URL.createObjectURL(blob);\n",
              "      a.download = filename;\n",
              "      div.appendChild(a);\n",
              "      a.click();\n",
              "      div.remove();\n",
              "    }\n",
              "  "
            ]
          },
          "metadata": {}
        },
        {
          "output_type": "display_data",
          "data": {
            "text/plain": [
              "<IPython.core.display.Javascript object>"
            ],
            "application/javascript": [
              "download(\"download_3e221ebc-fcc2-466b-a912-1f92c4183cd1\", \"best.zip\", 432293258)"
            ]
          },
          "metadata": {}
        }
      ],
      "source": [
        "from google.colab import files\n",
        "files.download(\"/content/ResumEmphasizer/best.zip\")"
      ]
    },
    {
      "cell_type": "code",
      "execution_count": 20,
      "metadata": {
        "colab": {
          "base_uri": "https://localhost:8080/"
        },
        "id": "01MqI55OZd4u",
        "outputId": "13b00ad5-855a-4092-d7c8-517252e0da0d"
      },
      "outputs": [
        {
          "output_type": "stream",
          "name": "stdout",
          "text": [
            "Looking in indexes: https://pypi.org/simple, https://us-python.pkg.dev/colab-wheels/public/simple/\n",
            "Collecting PyMuPDF\n",
            "  Downloading PyMuPDF-1.20.1-cp37-cp37m-manylinux_2_17_x86_64.manylinux2014_x86_64.whl (8.8 MB)\n",
            "\u001b[K     |████████████████████████████████| 8.8 MB 7.3 MB/s \n",
            "\u001b[?25hInstalling collected packages: PyMuPDF\n",
            "Successfully installed PyMuPDF-1.20.1\n"
          ]
        }
      ],
      "source": [
        "!pip install PyMuPDF"
      ]
    },
    {
      "cell_type": "code",
      "execution_count": 21,
      "metadata": {
        "id": "KXWJJHuiZd2c"
      },
      "outputs": [],
      "source": [
        "import sys, fitz"
      ]
    },
    {
      "cell_type": "code",
      "execution_count": 22,
      "metadata": {
        "colab": {
          "base_uri": "https://localhost:8080/"
        },
        "id": "dAgZ71o9Zdiu",
        "outputId": "b467eb15-7bc8-458f-ca6d-6aded78a3565"
      },
      "outputs": [
        {
          "output_type": "stream",
          "name": "stdout",
          "text": [
            "jd num 1 test\n",
            "Django Developer  ->>>>>>  job\n",
            "Self managing  ->>>>>>  required skills\n",
            "comfortable with remote working Desire to learn Basic project management Required  ->>>>>>  required skills\n",
            "1+ years  ->>>>>>  required year\n",
            "Python software development  ->>>>>>  required skills\n",
            "2+ years  ->>>>>>  required year\n",
            "XML  ->>>>>>  required skills\n",
            "REST  ->>>>>>  required skills\n",
            "Web Frameworks  ->>>>>>  required skills\n",
            "GIT  ->>>>>>  required skills\n",
            "MySQL  ->>>>>>  required skills\n",
            "Flask  ->>>>>>  required skills\n",
            "Django  ->>>>>>  required skills\n",
            "HTML  ->>>>>>  required skills\n",
            "CSS  ->>>>>>  required skills\n",
            "Javascript  ->>>>>>  required skills\n",
            "JQuery  ->>>>>>  required skills\n",
            "Bootstrap  ->>>>>>  required skills\n",
            "UI Design  ->>>>>>  required skills\n",
            "B.Tech/B.E. - Computers, Electrical, Electronics/Telecommunication,  ->>>>>>  preferred skills\n",
            "B.Sc  ->>>>>>  required skills\n",
            "\n",
            "\n",
            "jd num 2 test\n",
            "DevOps Engineer  ->>>>>>  job\n",
            "Kubernetes  ->>>>>>  required skills\n",
            "3-5 yrs  ->>>>>>  required year\n",
            "Docker  ->>>>>>  required skills\n",
            "3-5 yrs min  ->>>>>>  required year\n",
            "AWS  ->>>>>>  required skills\n",
            "Jenkins  ->>>>>>  required skills\n",
            "devops  ->>>>>>  required skills\n",
            "3-5 yrs  ->>>>>>  required year\n",
            "Linux  ->>>>>>  required skills\n",
            "3-5 yrs  ->>>>>>  required year\n",
            "??00,000.00 - ??,600,000.00 per year  ->>>>>>  benefit\n",
            "Docker  ->>>>>>  preferred skills\n",
            "AWS  ->>>>>>  preferred skills\n",
            "Kubernets  ->>>>>>  required skills\n",
            "Jenkins  ->>>>>>  preferred skills\n",
            "\n",
            "\n",
            "jd num 3 test\n",
            "Java Developer  ->>>>>>  job\n",
            "Java/J2EE Developers with hands-on experience in building high-performing, scalable, enterprise-grade applications  ->>>>>>  required skills\n",
            "hands-on experience  ->>>>>>  required skills\n",
            "Core Java Hands-on experience in building web applications using programming languages (Java, Python, Go, etc.)  ->>>>>>  required skills\n",
            "JSP  ->>>>>>  required skills\n",
            "Servlets  ->>>>>>  required skills\n",
            "Struts  ->>>>>>  required skills\n",
            "JSF  ->>>>>>  required skills\n",
            "Spring MVC)  ->>>>>>  required skills\n",
            "HTML  ->>>>>>  required skills\n",
            "CSS  ->>>>>>  required skills\n",
            "AJAX  ->>>>>>  required skills\n",
            "XML  ->>>>>>  required skills\n",
            "JSON  ->>>>>>  required skills\n",
            "Javascript  ->>>>>>  required skills\n",
            "JQuery  ->>>>>>  required skills\n",
            "IP  ->>>>>>  required skills\n",
            "HTTP  ->>>>>>  required skills\n",
            "TCP  ->>>>>>  required skills\n",
            "FTP  ->>>>>>  required skills\n",
            "UDP  ->>>>>>  required skills\n",
            "Sockets  ->>>>>>  required skills\n",
            "RMI  ->>>>>>  required skills\n",
            "RCP  ->>>>>>  required skills\n",
            "JBOSS  ->>>>>>  required skills\n",
            "SQL  ->>>>>>  required skills\n",
            "Hibernate  ->>>>>>  required skills\n",
            "JPA  ->>>>>>  required skills\n",
            "JUnit  ->>>>>>  required skills\n",
            "HUnit  ->>>>>>  required skills\n",
            "Mockito  ->>>>>>  required skills\n",
            "Spock  ->>>>>>  required skills\n",
            "Maven  ->>>>>>  required skills\n",
            "Gradle  ->>>>>>  preferred skills\n",
            "Eclipse  ->>>>>>  required skills\n",
            "Java development  ->>>>>>  preferred skills\n",
            "Bachelor's (Required) Work Remotely: Temporarily due to COVID-19 Speak with the employer +91 9930784011\"  ->>>>>>  required skills\n",
            "\n",
            "\n",
            "jd num 4 test\n",
            "PHP Developer  ->>>>>>  job\n",
            "BBC  ->>>>>>  company\n",
            "PHP developer  ->>>>>>  job\n",
            "PHP  ->>>>>>  required skills\n",
            "Laravel  ->>>>>>  preferred skills\n",
            "Vue.js  ->>>>>>  preferred skills\n",
            "쨌 Develop  ->>>>>>  required year\n",
            "PHP  ->>>>>>  required skills\n",
            "쨌 Ensure  ->>>>>>  required year\n",
            "HTML  ->>>>>>  required skills\n",
            "CSS  ->>>>>>  required skills\n",
            "JavaScript  ->>>>>>  required skills\n",
            "쨌 Prepare  ->>>>>>  required year\n",
            "쨌 Utilize  ->>>>>>  required year\n",
            "쨌 Contribute  ->>>>>>  required year\n",
            "쨌 Convey  ->>>>>>  required year\n",
            "쨌 Document  ->>>>>>  required year\n",
            "쨌 Coordinate  ->>>>>>  required year\n",
            "쨌 Keep  ->>>>>>  required year\n",
            "PHP  ->>>>>>  required skills\n",
            "Laravel  ->>>>>>  preferred skills\n",
            "Vue.js  ->>>>>>  preferred skills\n",
            "쨌 Previous  ->>>>>>  required year\n",
            "PHP  ->>>>>>  required skills\n",
            "Larave  ->>>>>>  required skills\n",
            "3 years  ->>>>>>  required year\n",
            "쨌 Previous  ->>>>>>  required year\n",
            "MySQL  ->>>>>>  required skills\n",
            "쨌 BS/MS degree  ->>>>>>  required year\n",
            "쨌 In  ->>>>>>  required year\n",
            "object-oriented  ->>>>>>  required skills\n",
            "PHP  ->>>>>>  required skills\n",
            "Laravel PHP Framework  ->>>>>>  required skills\n",
            "쨌 Hands  ->>>>>>  required year\n",
            "SQL schema design  ->>>>>>  required skills\n",
            "SOLID  ->>>>>>  required skills\n",
            "REST API design  ->>>>>>  required skills\n",
            "쨌 Software testing  ->>>>>>  required year\n",
            "PHPUnit  ->>>>>>  required skills\n",
            "PHPSpec  ->>>>>>  required skills\n",
            "Behat  ->>>>>>  required skills\n",
            "쨌 MySQL profiling  ->>>>>>  required year\n",
            "query optimization  ->>>>>>  required skills\n",
            "쨌 Creative  ->>>>>>  required year\n",
            "communication skills, both written and verbal, in English  ->>>>>>  required skills\n",
            "??0,000.00 per month  ->>>>>>  benefit\n",
            "3 years  ->>>>>>  required year\n",
            "Bachelor's  ->>>>>>  preferred skills\n",
            "Core PHP  ->>>>>>  required skills\n",
            "English  ->>>>>>  required skills\n",
            "PHP  ->>>>>>  required skills\n",
            "JavaScript  ->>>>>>  required skills\n",
            "\n",
            "\n",
            "jd num 5 test\n",
            "Backend Developer  ->>>>>>  job\n",
            "YorYo  ->>>>>>  company\n",
            "Software Engineer  ->>>>>>  job\n",
            "Back End  ->>>>>>  job\n",
            "Java  ->>>>>>  required skills\n",
            "1-2 years  ->>>>>>  required year\n",
            "Back End development  ->>>>>>  required skills\n",
            "REST API design  ->>>>>>  required skills\n",
            "responsive web design  ->>>>>>  required skills\n",
            "MySQL  ->>>>>>  required skills\n",
            "Mongo DB  ->>>>>>  required skills\n",
            "Stored  ->>>>>>  required skills\n",
            "REST API?셲  ->>>>>>  required skills\n",
            "integration with backend technologies  ->>>>>>  required skills\n",
            "AWS  ->>>>>>  required skills\n",
            "Microsoft Azure  ->>>>>>  required skills\n",
            "Docker  ->>>>>>  required skills\n",
            "Bachelor's (Preferred) Work Remotely: Temporarily due to COVID-19\"  ->>>>>>  preferred skills\n",
            "\n",
            "\n",
            "jd num 6 test\n",
            "PHP Developer  ->>>>>>  job\n",
            "2-3 year  ->>>>>>  required year\n",
            "PHP  ->>>>>>  required skills\n",
            "2 years  ->>>>>>  required year\n",
            "PHP  ->>>>>>  required skills\n",
            "MYSQL  ->>>>>>  required skills\n",
            "PHP  ->>>>>>  required skills\n",
            "Experience in integrating Payment Gateways, SMS Gateways, API Services  ->>>>>>  required skills\n",
            "2 years  ->>>>>>  required year\n",
            "front-end technologies  ->>>>>>  required skills\n",
            "HTML  ->>>>>>  required skills\n",
            "CSS  ->>>>>>  required skills\n",
            "Bootstrap  ->>>>>>  required skills\n",
            "JavaScript  ->>>>>>  required skills\n",
            "J  ->>>>>>  required skills\n",
            "query  ->>>>>>  required skills\n",
            "Ajax  ->>>>>>  required skills\n",
            "Json  ->>>>>>  required skills\n",
            "Experience in  ->>>>>>  required skills\n",
            "Photoshop  ->>>>>>  required skills\n",
            "MVC Architecture  ->>>>>>  required skills\n",
            "PHP  ->>>>>>  required skills\n",
            "Payment  ->>>>>>  required skills\n",
            "SMS  ->>>>>>  required skills\n",
            "Inetgration  ->>>>>>  required skills\n",
            "RestFul  ->>>>>>  required skills\n",
            "Ecommerce Website Developement  ->>>>>>  required skills\n",
            "HTML/CSS  ->>>>>>  required skills\n",
            "BOOTSTRAP  ->>>>>>  required skills\n",
            "JQUERY  ->>>>>>  required skills\n",
            "Bachelor's (Required) Programming Languages needed: HTML (Required) CSS (Required) JavaScript (Required) PHP (Required) Work Remotely: No\"  ->>>>>>  preferred skills\n",
            "\n",
            "\n",
            "jd num 7 test\n",
            "Machine Learning  ->>>>>>  job\n",
            "applied statistics  ->>>>>>  required skills\n",
            "statistical modelling and machine learning techniques  ->>>>>>  required skills\n",
            "R  ->>>>>>  preferred skills\n",
            "Python  ->>>>>>  preferred skills\n",
            "Scala  ->>>>>>  preferred skills\n",
            "SQL  ->>>>>>  preferred skills\n",
            "\n",
            "\n",
            "jd num 8 test\n",
            "PHP Developer  ->>>>>>  job\n",
            "3+ years  ->>>>>>  required year\n",
            "PHP  ->>>>>>  required skills\n",
            "MySQL  ->>>>>>  required skills\n",
            "RESTful APIs  ->>>>>>  required skills\n",
            "HTML5  ->>>>>>  required skills\n",
            "CSS3  ->>>>>>  required skills\n",
            "JavaScript  ->>>>>>  required skills\n",
            "jQuery  ->>>>>>  required skills\n",
            "Ajax  ->>>>>>  required skills\n",
            "Bootstrap  ->>>>>>  required skills\n",
            "Experience with the standard LAMP stack  ->>>>>>  required skills\n",
            "Object-Oriented PHP  ->>>>>>  required skills\n",
            "MySQL  ->>>>>>  required skills\n",
            "building Wordpress plugins  ->>>>>>  required skills\n",
            "MVC frameworks  ->>>>>>  required skills\n",
            "Laravel is a plus) Experience with source control systems such as GIT Experience with SSH and Shell Knowledge  ->>>>>>  preferred skills\n",
            "AWS  ->>>>>>  required skills\n",
            "Comfortable working in a Mac environment  ->>>>>>  required skills\n",
            "Bachelor's (Preferred) Work Remotely: Yes\"  ->>>>>>  preferred skills\n",
            "\n",
            "\n",
            "jd num 9 test\n",
            "Node js developer  ->>>>>>  job\n",
            "Junior Node.JS  ->>>>>>  required skills\n",
            "NodeJs  ->>>>>>  required skills\n",
            "1 year  ->>>>>>  required year\n",
            "Senior NodeJs Developer  ->>>>>>  required skills\n",
            "2.5+ years  ->>>>>>  required year\n",
            "Javascript  ->>>>>>  required skills\n",
            "ExpresJS  ->>>>>>  required skills\n",
            "Node Package  ->>>>>>  required skills\n",
            "problem solving  ->>>>>>  required skills\n",
            "asynchronous programming  ->>>>>>  required skills\n",
            "Javascript  ->>>>>>  required skills\n",
            "JQuery  ->>>>>>  required skills\n",
            "front-end technologies  ->>>>>>  required skills\n",
            "HTML5  ->>>>>>  required skills\n",
            "CSS3  ->>>>>>  required skills\n",
            "JSON  ->>>>>>  required skills\n",
            "RESTful services implementation  ->>>>>>  required skills\n",
            "MongoDB  ->>>>>>  required skills\n",
            "Knowledge of deploying applications on the server Basic understanding of  ->>>>>>  required skills\n",
            "code versioning tools  ->>>>>>  required skills\n",
            "GIT  ->>>>>>  required skills\n",
            "JavaScript  ->>>>>>  required skills\n",
            "Typescript  ->>>>>>  required skills\n",
            "12 days annual paid leaves  ->>>>>>  benefit\n",
            "Paid leave in each quarter  ->>>>>>  benefit\n",
            "Healthy work culture  ->>>>>>  benefit\n",
            "??5,000.00 per month  ->>>>>>  benefit\n",
            "Nodejs  ->>>>>>  preferred skills\n",
            "Bachelor's (Preferred) Benefits: Paid leaves / Leave encashment Work Remotely: Temporarily due to COVID-19\"  ->>>>>>  preferred skills\n",
            "\n",
            "\n",
            "jd num 10 test\n",
            "Backend Developer  ->>>>>>  job\n",
            "Angular  ->>>>>>  required skills\n",
            "CSS  ->>>>>>  required skills\n",
            "Bootstrap  ->>>>>>  required skills\n",
            "Material  ->>>>>>  required skills\n",
            "Experience in the development of hybrid apps  ->>>>>>  required skills\n",
            "python  ->>>>>>  required skills\n",
            "Programming  ->>>>>>  preferred skills\n",
            "HTML  ->>>>>>  required skills\n",
            "python  ->>>>>>  required skills\n",
            "Master's  ->>>>>>  required skills\n",
            "\n",
            "\n"
          ]
        }
      ],
      "source": [
        "for x in range(1,11):\n",
        "  fname='/content/ResumEmphasizer/test_jd/'+str(x)+'.pdf'\n",
        "  doc=fitz.open(fname)\n",
        "  print('jd num '+str(x)+' test')\n",
        "  text=\" \"\n",
        "  for page in doc:\n",
        "    text=text+str(page.get_text())\n",
        "  text=text.strip()\n",
        "  text=' '.join(text.split())\n",
        "  \n",
        "  doc=nlp(text)\n",
        "  for ent in doc.ents:\n",
        "    print(ent.text, \" ->>>>>> \", ent.label_)\n",
        "  print('\\n')\n"
      ]
    },
    {
      "cell_type": "code",
      "execution_count": null,
      "metadata": {
        "id": "Yn5niGkfXM_l"
      },
      "outputs": [],
      "source": [
        "# import numpy as np\n",
        "# import pandas as pd"
      ]
    },
    {
      "cell_type": "code",
      "execution_count": null,
      "metadata": {
        "id": "nDvhvz3lXjZN"
      },
      "outputs": [],
      "source": [
        "# job = []\n",
        "# for x in range(1,2000):\n",
        "#   for ent in doc.ents:\n",
        "#     if(ent.label_ == 'job'):\n",
        "#       print(ent.text)\n",
        "#       job.append()\n",
        "#   print('\\n')\n"
      ]
    },
    {
      "cell_type": "code",
      "execution_count": null,
      "metadata": {
        "id": "1mtgV8DNc4QU"
      },
      "outputs": [],
      "source": [
        "# cols = (\"job\")\n",
        "# rows = []\n",
        "# for ent in doc.ents:\n",
        "#   if(ent.label_ == 'job'):\n",
        "#     row = [ent.text]\n",
        "#     rows.append(row)\n",
        "# df = pd.DataFrame(rows, columns=cols)\n",
        "# print(df)"
      ]
    },
    {
      "cell_type": "code",
      "execution_count": null,
      "metadata": {
        "id": "nA7pS3AuX774"
      },
      "outputs": [],
      "source": [
        ""
      ]
    }
  ],
  "metadata": {
    "accelerator": "GPU",
    "colab": {
      "collapsed_sections": [],
      "name": "jd.ipynb",
      "provenance": [],
      "mount_file_id": "1-Bj55oWegoen2S7MjTm43TeRcVQLg9-U",
      "authorship_tag": "ABX9TyNSGdKkfWAPgmJxY4h+sBWj",
      "include_colab_link": true
    },
    "gpuClass": "standard",
    "kernelspec": {
      "display_name": "Python 3",
      "name": "python3"
    },
    "language_info": {
      "name": "python"
    }
  },
  "nbformat": 4,
  "nbformat_minor": 0
}
